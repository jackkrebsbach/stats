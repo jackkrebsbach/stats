{
 "cells": [
  {
   "cell_type": "markdown",
   "id": "e8f14fd0",
   "metadata": {},
   "source": [
    "# Chapter 4 AP\n",
    "\n",
    "Jack Krebsbach | Statistics for Data Science | Nov 2023\n"
   ]
  },
  {
   "cell_type": "markdown",
   "id": "b859f1d8",
   "metadata": {},
   "source": [
    "## # 13\n",
    "Using the ```Weekly``` data set."
   ]
  },
  {
   "cell_type": "code",
   "execution_count": 146,
   "id": "bdc441ca",
   "metadata": {
    "ExecuteTime": {
     "end_time": "2023-11-14T16:35:56.632643Z",
     "start_time": "2023-11-14T16:35:56.534985Z"
    }
   },
   "outputs": [],
   "source": [
    "import numpy as np\n",
    "import pandas as pd\n",
    "from matplotlib.pyplot import subplots\n",
    "import statsmodels.api as sm\n",
    "from ISLP import load_data\n",
    "from ISLP.models import (ModelSpec as MS,\n",
    "summarize)"
   ]
  },
  {
   "cell_type": "code",
   "execution_count": 147,
   "outputs": [],
   "source": [
    "from ISLP import confusion_table\n",
    "from ISLP.models import contrast\n",
    "from sklearn.discriminant_analysis import \\\n",
    "(LinearDiscriminantAnalysis as LDA, QuadraticDiscriminantAnalysis as QDA)\n",
    "\n",
    "from sklearn.naive_bayes import GaussianNB\n",
    "from sklearn.neighbors import KNeighborsClassifier \n",
    "from sklearn.preprocessing import StandardScaler\n",
    "from sklearn.model_selection import train_test_split\n",
    "from sklearn.linear_model import LogisticRegression\n",
    " "
   ],
   "metadata": {
    "collapsed": false,
    "ExecuteTime": {
     "end_time": "2023-11-14T16:35:56.632829Z",
     "start_time": "2023-11-14T16:35:56.540455Z"
    }
   },
   "id": "d432478362e45646"
  },
  {
   "cell_type": "markdown",
   "source": [
    "##### Load Data\n",
    "We load the Weekly data set from ISLP."
   ],
   "metadata": {
    "collapsed": false
   },
   "id": "844ff339489c364"
  },
  {
   "cell_type": "code",
   "execution_count": 148,
   "id": "512567d7",
   "metadata": {
    "ExecuteTime": {
     "end_time": "2023-11-14T16:35:56.748038Z",
     "start_time": "2023-11-14T16:35:56.543156Z"
    }
   },
   "outputs": [
    {
     "data": {
      "text/plain": "(1089, 9)"
     },
     "execution_count": 148,
     "metadata": {},
     "output_type": "execute_result"
    }
   ],
   "source": [
    "Weekly = load_data('Weekly')\n",
    "Weekly.shape"
   ]
  },
  {
   "cell_type": "markdown",
   "source": [
    "(b) Use the full data set to perform a logistic regression with\n",
    "Direction as the response and the five lag variables plus Volume as predictors. Use the summary function to print the results. Do any of the predictors appear to be statistically significant? If so, which ones?\n",
    "\n",
    "None of the 5 lag variables or volume appear to be statistically significant. The variable with associated with the lowest P value is Lag1 with a p-value of 0.145."
   ],
   "metadata": {
    "collapsed": false
   },
   "id": "d2502decae5fe98d"
  },
  {
   "cell_type": "code",
   "execution_count": 149,
   "outputs": [
    {
     "data": {
      "text/plain": "             coef  std err      z  P>|z|\nintercept  0.2669    0.086  3.106  0.002\nLag1      -0.0413    0.026 -1.563  0.118\nLag2       0.0584    0.027  2.175  0.030\nLag3      -0.0161    0.027 -0.602  0.547\nLag4      -0.0278    0.026 -1.050  0.294\nLag5      -0.0145    0.026 -0.549  0.583\nVolume    -0.0227    0.037 -0.616  0.538",
      "text/html": "<div>\n<style scoped>\n    .dataframe tbody tr th:only-of-type {\n        vertical-align: middle;\n    }\n\n    .dataframe tbody tr th {\n        vertical-align: top;\n    }\n\n    .dataframe thead th {\n        text-align: right;\n    }\n</style>\n<table border=\"1\" class=\"dataframe\">\n  <thead>\n    <tr style=\"text-align: right;\">\n      <th></th>\n      <th>coef</th>\n      <th>std err</th>\n      <th>z</th>\n      <th>P&gt;|z|</th>\n    </tr>\n  </thead>\n  <tbody>\n    <tr>\n      <th>intercept</th>\n      <td>0.2669</td>\n      <td>0.086</td>\n      <td>3.106</td>\n      <td>0.002</td>\n    </tr>\n    <tr>\n      <th>Lag1</th>\n      <td>-0.0413</td>\n      <td>0.026</td>\n      <td>-1.563</td>\n      <td>0.118</td>\n    </tr>\n    <tr>\n      <th>Lag2</th>\n      <td>0.0584</td>\n      <td>0.027</td>\n      <td>2.175</td>\n      <td>0.030</td>\n    </tr>\n    <tr>\n      <th>Lag3</th>\n      <td>-0.0161</td>\n      <td>0.027</td>\n      <td>-0.602</td>\n      <td>0.547</td>\n    </tr>\n    <tr>\n      <th>Lag4</th>\n      <td>-0.0278</td>\n      <td>0.026</td>\n      <td>-1.050</td>\n      <td>0.294</td>\n    </tr>\n    <tr>\n      <th>Lag5</th>\n      <td>-0.0145</td>\n      <td>0.026</td>\n      <td>-0.549</td>\n      <td>0.583</td>\n    </tr>\n    <tr>\n      <th>Volume</th>\n      <td>-0.0227</td>\n      <td>0.037</td>\n      <td>-0.616</td>\n      <td>0.538</td>\n    </tr>\n  </tbody>\n</table>\n</div>"
     },
     "execution_count": 149,
     "metadata": {},
     "output_type": "execute_result"
    }
   ],
   "source": [
    "design = MS([ 'Lag1', 'Lag2', 'Lag3', 'Lag4', 'Lag5', 'Volume'])\n",
    "X = design.fit_transform(Weekly)\n",
    "y = Weekly.Direction == \"Up\"\n",
    "glm = sm.GLM(y, X, family=sm.families.Binomial())\n",
    "results = glm.fit()\n",
    "summarize(results)"
   ],
   "metadata": {
    "collapsed": false,
    "ExecuteTime": {
     "end_time": "2023-11-14T16:35:56.838638Z",
     "start_time": "2023-11-14T16:35:56.563277Z"
    }
   },
   "id": "26fed3c9306529f4"
  },
  {
   "cell_type": "code",
   "execution_count": 149,
   "outputs": [],
   "source": [],
   "metadata": {
    "collapsed": false,
    "ExecuteTime": {
     "end_time": "2023-11-14T16:35:56.841316Z",
     "start_time": "2023-11-14T16:35:56.575790Z"
    }
   },
   "id": "5c9a71a3286dc6c6"
  },
  {
   "cell_type": "code",
   "execution_count": 149,
   "outputs": [],
   "source": [],
   "metadata": {
    "collapsed": false,
    "ExecuteTime": {
     "end_time": "2023-11-14T16:35:56.843287Z",
     "start_time": "2023-11-14T16:35:56.578816Z"
    }
   },
   "id": "7bf47abcb8eef3fd"
  },
  {
   "cell_type": "markdown",
   "source": [
    "(c) Compute the confusion matrix and overall fraction of correct predictions. Explain what the confusion matrix is telling you about the types of mistakes made by logistic regression.\n",
    "\n",
    "From the confusion matrix, the logistic model is having a hard time predicting when the market will go down. It has an easier time prediciting if the market will go up."
   ],
   "metadata": {
    "collapsed": false
   },
   "id": "a2a0c01f3e1bf0f4"
  },
  {
   "cell_type": "code",
   "execution_count": 150,
   "id": "51f93d6b",
   "metadata": {
    "ExecuteTime": {
     "end_time": "2023-11-14T16:35:56.843464Z",
     "start_time": "2023-11-14T16:35:56.582086Z"
    }
   },
   "outputs": [
    {
     "data": {
      "text/plain": "array([0.60862494, 0.60103144, 0.58756995, 0.48164156, 0.61690129,\n       0.56841902, 0.57860971, 0.51519724, 0.57151998, 0.55542873])"
     },
     "execution_count": 150,
     "metadata": {},
     "output_type": "execute_result"
    }
   ],
   "source": [
    "## Get the probabilities\n",
    "probs = results.predict() \n",
    "probs [:10]"
   ]
  },
  {
   "cell_type": "code",
   "execution_count": 151,
   "outputs": [],
   "source": [
    "labels = np.array(['Down']*1089) \n",
    "labels[probs>0.5] = \"Up\""
   ],
   "metadata": {
    "collapsed": false,
    "ExecuteTime": {
     "end_time": "2023-11-14T16:35:56.850164Z",
     "start_time": "2023-11-14T16:35:56.584547Z"
    }
   },
   "id": "e67cd0329eef3e7f"
  },
  {
   "cell_type": "code",
   "execution_count": 152,
   "outputs": [
    {
     "data": {
      "text/plain": "Truth      Down   Up\nPredicted           \nDown         54   48\nUp          430  557",
      "text/html": "<div>\n<style scoped>\n    .dataframe tbody tr th:only-of-type {\n        vertical-align: middle;\n    }\n\n    .dataframe tbody tr th {\n        vertical-align: top;\n    }\n\n    .dataframe thead th {\n        text-align: right;\n    }\n</style>\n<table border=\"1\" class=\"dataframe\">\n  <thead>\n    <tr style=\"text-align: right;\">\n      <th>Truth</th>\n      <th>Down</th>\n      <th>Up</th>\n    </tr>\n    <tr>\n      <th>Predicted</th>\n      <th></th>\n      <th></th>\n    </tr>\n  </thead>\n  <tbody>\n    <tr>\n      <th>Down</th>\n      <td>54</td>\n      <td>48</td>\n    </tr>\n    <tr>\n      <th>Up</th>\n      <td>430</td>\n      <td>557</td>\n    </tr>\n  </tbody>\n</table>\n</div>"
     },
     "execution_count": 152,
     "metadata": {},
     "output_type": "execute_result"
    }
   ],
   "source": [
    "confusion_table(labels, Weekly.Direction)"
   ],
   "metadata": {
    "collapsed": false,
    "ExecuteTime": {
     "end_time": "2023-11-14T16:35:56.852406Z",
     "start_time": "2023-11-14T16:35:56.587618Z"
    }
   },
   "id": "3a11e666433da019"
  },
  {
   "cell_type": "markdown",
   "source": [
    "(d) Now fit the logistic regression model using a training data period from 1990 to 2008, with Lag2 as the only predictor. Compute the confusion matrix and the overall fraction of correct predictions for the held out data (that is, the data from 2009 and 2010).\n",
    ")"
   ],
   "metadata": {
    "collapsed": false
   },
   "id": "4fd6c2b7f4ffacf4"
  },
  {
   "cell_type": "code",
   "execution_count": 153,
   "id": "f9de3b84",
   "metadata": {
    "ExecuteTime": {
     "end_time": "2023-11-14T16:35:56.858157Z",
     "start_time": "2023-11-14T16:35:56.594582Z"
    }
   },
   "outputs": [
    {
     "name": "stdout",
     "output_type": "stream",
     "text": [
      "Testing Shape: (104, 9)\n",
      "Training Shape: (985, 9)\n"
     ]
    },
    {
     "data": {
      "text/plain": "      Year   Lag1   Lag2   Lag3   Lag4   Lag5    Volume  Today Direction\n985   2009  6.760 -1.698  0.926  0.418 -2.251  3.793110 -4.448      Down\n986   2009 -4.448  6.760 -1.698  0.926  0.418  5.043904 -4.518      Down\n987   2009 -4.518 -4.448  6.760 -1.698  0.926  5.948758 -2.137      Down\n988   2009 -2.137 -4.518 -4.448  6.760 -1.698  6.129763 -0.730      Down\n989   2009 -0.730 -2.137 -4.518 -4.448  6.760  5.602004  5.173        Up\n...    ...    ...    ...    ...    ...    ...       ...    ...       ...\n1084  2010 -0.861  0.043 -2.173  3.599  0.015  3.205160  2.969        Up\n1085  2010  2.969 -0.861  0.043 -2.173  3.599  4.242568  1.281        Up\n1086  2010  1.281  2.969 -0.861  0.043 -2.173  4.835082  0.283        Up\n1087  2010  0.283  1.281  2.969 -0.861  0.043  4.454044  1.034        Up\n1088  2010  1.034  0.283  1.281  2.969 -0.861  2.707105  0.069        Up\n\n[104 rows x 9 columns]",
      "text/html": "<div>\n<style scoped>\n    .dataframe tbody tr th:only-of-type {\n        vertical-align: middle;\n    }\n\n    .dataframe tbody tr th {\n        vertical-align: top;\n    }\n\n    .dataframe thead th {\n        text-align: right;\n    }\n</style>\n<table border=\"1\" class=\"dataframe\">\n  <thead>\n    <tr style=\"text-align: right;\">\n      <th></th>\n      <th>Year</th>\n      <th>Lag1</th>\n      <th>Lag2</th>\n      <th>Lag3</th>\n      <th>Lag4</th>\n      <th>Lag5</th>\n      <th>Volume</th>\n      <th>Today</th>\n      <th>Direction</th>\n    </tr>\n  </thead>\n  <tbody>\n    <tr>\n      <th>985</th>\n      <td>2009</td>\n      <td>6.760</td>\n      <td>-1.698</td>\n      <td>0.926</td>\n      <td>0.418</td>\n      <td>-2.251</td>\n      <td>3.793110</td>\n      <td>-4.448</td>\n      <td>Down</td>\n    </tr>\n    <tr>\n      <th>986</th>\n      <td>2009</td>\n      <td>-4.448</td>\n      <td>6.760</td>\n      <td>-1.698</td>\n      <td>0.926</td>\n      <td>0.418</td>\n      <td>5.043904</td>\n      <td>-4.518</td>\n      <td>Down</td>\n    </tr>\n    <tr>\n      <th>987</th>\n      <td>2009</td>\n      <td>-4.518</td>\n      <td>-4.448</td>\n      <td>6.760</td>\n      <td>-1.698</td>\n      <td>0.926</td>\n      <td>5.948758</td>\n      <td>-2.137</td>\n      <td>Down</td>\n    </tr>\n    <tr>\n      <th>988</th>\n      <td>2009</td>\n      <td>-2.137</td>\n      <td>-4.518</td>\n      <td>-4.448</td>\n      <td>6.760</td>\n      <td>-1.698</td>\n      <td>6.129763</td>\n      <td>-0.730</td>\n      <td>Down</td>\n    </tr>\n    <tr>\n      <th>989</th>\n      <td>2009</td>\n      <td>-0.730</td>\n      <td>-2.137</td>\n      <td>-4.518</td>\n      <td>-4.448</td>\n      <td>6.760</td>\n      <td>5.602004</td>\n      <td>5.173</td>\n      <td>Up</td>\n    </tr>\n    <tr>\n      <th>...</th>\n      <td>...</td>\n      <td>...</td>\n      <td>...</td>\n      <td>...</td>\n      <td>...</td>\n      <td>...</td>\n      <td>...</td>\n      <td>...</td>\n      <td>...</td>\n    </tr>\n    <tr>\n      <th>1084</th>\n      <td>2010</td>\n      <td>-0.861</td>\n      <td>0.043</td>\n      <td>-2.173</td>\n      <td>3.599</td>\n      <td>0.015</td>\n      <td>3.205160</td>\n      <td>2.969</td>\n      <td>Up</td>\n    </tr>\n    <tr>\n      <th>1085</th>\n      <td>2010</td>\n      <td>2.969</td>\n      <td>-0.861</td>\n      <td>0.043</td>\n      <td>-2.173</td>\n      <td>3.599</td>\n      <td>4.242568</td>\n      <td>1.281</td>\n      <td>Up</td>\n    </tr>\n    <tr>\n      <th>1086</th>\n      <td>2010</td>\n      <td>1.281</td>\n      <td>2.969</td>\n      <td>-0.861</td>\n      <td>0.043</td>\n      <td>-2.173</td>\n      <td>4.835082</td>\n      <td>0.283</td>\n      <td>Up</td>\n    </tr>\n    <tr>\n      <th>1087</th>\n      <td>2010</td>\n      <td>0.283</td>\n      <td>1.281</td>\n      <td>2.969</td>\n      <td>-0.861</td>\n      <td>0.043</td>\n      <td>4.454044</td>\n      <td>1.034</td>\n      <td>Up</td>\n    </tr>\n    <tr>\n      <th>1088</th>\n      <td>2010</td>\n      <td>1.034</td>\n      <td>0.283</td>\n      <td>1.281</td>\n      <td>2.969</td>\n      <td>-0.861</td>\n      <td>2.707105</td>\n      <td>0.069</td>\n      <td>Up</td>\n    </tr>\n  </tbody>\n</table>\n<p>104 rows × 9 columns</p>\n</div>"
     },
     "execution_count": 153,
     "metadata": {},
     "output_type": "execute_result"
    }
   ],
   "source": [
    "train = (Weekly.Year < 2009) & (Weekly.Year > 1989) \n",
    "Weekly_train = Weekly.loc[train]\n",
    "Weekly_test = Weekly.loc[~train] \n",
    "print(f'Testing Shape: {Weekly_test.shape}')\n",
    "print(f'Training Shape: {Weekly_train.shape}')\n",
    "Weekly_test"
   ]
  },
  {
   "cell_type": "code",
   "execution_count": 154,
   "outputs": [],
   "source": [
    "X_train, X_test = X.loc[train], X.loc[~train] \n",
    "y_train, y_test = y.loc[train], y.loc[~train]\n",
    "design = MS(['Lag2'])\n",
    "X = design.fit_transform(X_train)\n",
    "glm_train = sm.GLM(y_train, X_train , family=sm.families.Binomial()) \n",
    "results = glm_train.fit()\n",
    "\n",
    "probs = results.predict(exog=X_test)"
   ],
   "metadata": {
    "collapsed": false,
    "ExecuteTime": {
     "end_time": "2023-11-14T16:35:56.866753Z",
     "start_time": "2023-11-14T16:35:56.602449Z"
    }
   },
   "id": "97a0d0f349d2a97b"
  },
  {
   "cell_type": "code",
   "execution_count": 155,
   "outputs": [],
   "source": [
    "D = Weekly.Direction\n",
    "L_train, L_test = D.loc[train], D.loc[~train]"
   ],
   "metadata": {
    "collapsed": false,
    "ExecuteTime": {
     "end_time": "2023-11-14T16:35:56.867870Z",
     "start_time": "2023-11-14T16:35:56.612358Z"
    }
   },
   "id": "3c39748d08922a4a"
  },
  {
   "cell_type": "code",
   "execution_count": 156,
   "outputs": [
    {
     "data": {
      "text/plain": "Truth      Down  Up\nPredicted          \nDown         31  44\nUp           12  17",
      "text/html": "<div>\n<style scoped>\n    .dataframe tbody tr th:only-of-type {\n        vertical-align: middle;\n    }\n\n    .dataframe tbody tr th {\n        vertical-align: top;\n    }\n\n    .dataframe thead th {\n        text-align: right;\n    }\n</style>\n<table border=\"1\" class=\"dataframe\">\n  <thead>\n    <tr style=\"text-align: right;\">\n      <th>Truth</th>\n      <th>Down</th>\n      <th>Up</th>\n    </tr>\n    <tr>\n      <th>Predicted</th>\n      <th></th>\n      <th></th>\n    </tr>\n  </thead>\n  <tbody>\n    <tr>\n      <th>Down</th>\n      <td>31</td>\n      <td>44</td>\n    </tr>\n    <tr>\n      <th>Up</th>\n      <td>12</td>\n      <td>17</td>\n    </tr>\n  </tbody>\n</table>\n</div>"
     },
     "execution_count": 156,
     "metadata": {},
     "output_type": "execute_result"
    }
   ],
   "source": [
    "labels = np.array(['Down']*104)\n",
    "labels[probs>0.5] = 'Up' \n",
    "confusion_table(labels, L_test)"
   ],
   "metadata": {
    "collapsed": false,
    "ExecuteTime": {
     "end_time": "2023-11-14T16:35:56.868302Z",
     "start_time": "2023-11-14T16:35:56.615434Z"
    }
   },
   "id": "2a4c42239694030f"
  },
  {
   "cell_type": "code",
   "execution_count": 157,
   "outputs": [
    {
     "data": {
      "text/plain": "(0.46153846153846156, 0.5384615384615384)"
     },
     "execution_count": 157,
     "metadata": {},
     "output_type": "execute_result"
    }
   ],
   "source": [
    "np.mean(labels == L_test), np.mean(labels != L_test)"
   ],
   "metadata": {
    "collapsed": false,
    "ExecuteTime": {
     "end_time": "2023-11-14T16:35:56.868406Z",
     "start_time": "2023-11-14T16:35:56.620166Z"
    }
   },
   "id": "923bda4de8f35aac"
  },
  {
   "cell_type": "code",
   "execution_count": 157,
   "outputs": [],
   "source": [],
   "metadata": {
    "collapsed": false,
    "ExecuteTime": {
     "end_time": "2023-11-14T16:35:56.868712Z",
     "start_time": "2023-11-14T16:35:56.622259Z"
    }
   },
   "id": "862fa92d355401fd"
  },
  {
   "cell_type": "markdown",
   "source": [
    "(e) Repeat (d) using LDA."
   ],
   "metadata": {
    "collapsed": false
   },
   "id": "c2c5736040d7c4d7"
  },
  {
   "cell_type": "code",
   "execution_count": 158,
   "outputs": [
    {
     "data": {
      "text/plain": "LinearDiscriminantAnalysis(store_covariance=True)",
      "text/html": "<style>#sk-container-id-5 {color: black;}#sk-container-id-5 pre{padding: 0;}#sk-container-id-5 div.sk-toggleable {background-color: white;}#sk-container-id-5 label.sk-toggleable__label {cursor: pointer;display: block;width: 100%;margin-bottom: 0;padding: 0.3em;box-sizing: border-box;text-align: center;}#sk-container-id-5 label.sk-toggleable__label-arrow:before {content: \"▸\";float: left;margin-right: 0.25em;color: #696969;}#sk-container-id-5 label.sk-toggleable__label-arrow:hover:before {color: black;}#sk-container-id-5 div.sk-estimator:hover label.sk-toggleable__label-arrow:before {color: black;}#sk-container-id-5 div.sk-toggleable__content {max-height: 0;max-width: 0;overflow: hidden;text-align: left;background-color: #f0f8ff;}#sk-container-id-5 div.sk-toggleable__content pre {margin: 0.2em;color: black;border-radius: 0.25em;background-color: #f0f8ff;}#sk-container-id-5 input.sk-toggleable__control:checked~div.sk-toggleable__content {max-height: 200px;max-width: 100%;overflow: auto;}#sk-container-id-5 input.sk-toggleable__control:checked~label.sk-toggleable__label-arrow:before {content: \"▾\";}#sk-container-id-5 div.sk-estimator input.sk-toggleable__control:checked~label.sk-toggleable__label {background-color: #d4ebff;}#sk-container-id-5 div.sk-label input.sk-toggleable__control:checked~label.sk-toggleable__label {background-color: #d4ebff;}#sk-container-id-5 input.sk-hidden--visually {border: 0;clip: rect(1px 1px 1px 1px);clip: rect(1px, 1px, 1px, 1px);height: 1px;margin: -1px;overflow: hidden;padding: 0;position: absolute;width: 1px;}#sk-container-id-5 div.sk-estimator {font-family: monospace;background-color: #f0f8ff;border: 1px dotted black;border-radius: 0.25em;box-sizing: border-box;margin-bottom: 0.5em;}#sk-container-id-5 div.sk-estimator:hover {background-color: #d4ebff;}#sk-container-id-5 div.sk-parallel-item::after {content: \"\";width: 100%;border-bottom: 1px solid gray;flex-grow: 1;}#sk-container-id-5 div.sk-label:hover label.sk-toggleable__label {background-color: #d4ebff;}#sk-container-id-5 div.sk-serial::before {content: \"\";position: absolute;border-left: 1px solid gray;box-sizing: border-box;top: 0;bottom: 0;left: 50%;z-index: 0;}#sk-container-id-5 div.sk-serial {display: flex;flex-direction: column;align-items: center;background-color: white;padding-right: 0.2em;padding-left: 0.2em;position: relative;}#sk-container-id-5 div.sk-item {position: relative;z-index: 1;}#sk-container-id-5 div.sk-parallel {display: flex;align-items: stretch;justify-content: center;background-color: white;position: relative;}#sk-container-id-5 div.sk-item::before, #sk-container-id-5 div.sk-parallel-item::before {content: \"\";position: absolute;border-left: 1px solid gray;box-sizing: border-box;top: 0;bottom: 0;left: 50%;z-index: -1;}#sk-container-id-5 div.sk-parallel-item {display: flex;flex-direction: column;z-index: 1;position: relative;background-color: white;}#sk-container-id-5 div.sk-parallel-item:first-child::after {align-self: flex-end;width: 50%;}#sk-container-id-5 div.sk-parallel-item:last-child::after {align-self: flex-start;width: 50%;}#sk-container-id-5 div.sk-parallel-item:only-child::after {width: 0;}#sk-container-id-5 div.sk-dashed-wrapped {border: 1px dashed gray;margin: 0 0.4em 0.5em 0.4em;box-sizing: border-box;padding-bottom: 0.4em;background-color: white;}#sk-container-id-5 div.sk-label label {font-family: monospace;font-weight: bold;display: inline-block;line-height: 1.2em;}#sk-container-id-5 div.sk-label-container {text-align: center;}#sk-container-id-5 div.sk-container {/* jupyter's `normalize.less` sets `[hidden] { display: none; }` but bootstrap.min.css set `[hidden] { display: none !important; }` so we also need the `!important` here to be able to override the default hidden behavior on the sphinx rendered scikit-learn.org. See: https://github.com/scikit-learn/scikit-learn/issues/21755 */display: inline-block !important;position: relative;}#sk-container-id-5 div.sk-text-repr-fallback {display: none;}</style><div id=\"sk-container-id-5\" class=\"sk-top-container\"><div class=\"sk-text-repr-fallback\"><pre>LinearDiscriminantAnalysis(store_covariance=True)</pre><b>In a Jupyter environment, please rerun this cell to show the HTML representation or trust the notebook. <br />On GitHub, the HTML representation is unable to render, please try loading this page with nbviewer.org.</b></div><div class=\"sk-container\" hidden><div class=\"sk-item\"><div class=\"sk-estimator sk-toggleable\"><input class=\"sk-toggleable__control sk-hidden--visually\" id=\"sk-estimator-id-5\" type=\"checkbox\" checked><label for=\"sk-estimator-id-5\" class=\"sk-toggleable__label sk-toggleable__label-arrow\">LinearDiscriminantAnalysis</label><div class=\"sk-toggleable__content\"><pre>LinearDiscriminantAnalysis(store_covariance=True)</pre></div></div></div></div></div>"
     },
     "execution_count": 158,
     "metadata": {},
     "output_type": "execute_result"
    }
   ],
   "source": [
    "lda = LDA(store_covariance=True)\n",
    "lda.fit(X_train, L_train)"
   ],
   "metadata": {
    "collapsed": false,
    "ExecuteTime": {
     "end_time": "2023-11-14T16:35:56.868943Z",
     "start_time": "2023-11-14T16:35:56.625901Z"
    }
   },
   "id": "6f5b7aa62c18edd9"
  },
  {
   "cell_type": "code",
   "execution_count": 159,
   "outputs": [
    {
     "data": {
      "text/plain": "array([[ 1.        ,  0.28944444, -0.03568254,  0.17080045,  0.15925624,\n         0.21409297,  1.26696554],\n       [ 1.        , -0.00921324,  0.26036581,  0.08404044,  0.09220956,\n         0.04548897,  1.15652914]])"
     },
     "execution_count": 159,
     "metadata": {},
     "output_type": "execute_result"
    }
   ],
   "source": [
    "lda.means_"
   ],
   "metadata": {
    "collapsed": false,
    "ExecuteTime": {
     "end_time": "2023-11-14T16:35:56.877455Z",
     "start_time": "2023-11-14T16:35:56.631825Z"
    }
   },
   "id": "8efdcdd3e504c163"
  },
  {
   "cell_type": "code",
   "execution_count": 160,
   "outputs": [
    {
     "data": {
      "text/plain": "array(['Down', 'Up'], dtype='<U4')"
     },
     "execution_count": 160,
     "metadata": {},
     "output_type": "execute_result"
    }
   ],
   "source": [
    "lda.classes_"
   ],
   "metadata": {
    "collapsed": false,
    "ExecuteTime": {
     "end_time": "2023-11-14T16:35:56.877624Z",
     "start_time": "2023-11-14T16:35:56.634322Z"
    }
   },
   "id": "a321b61bd8e80735"
  },
  {
   "cell_type": "code",
   "execution_count": 161,
   "outputs": [
    {
     "data": {
      "text/plain": "array([0.44771574, 0.55228426])"
     },
     "execution_count": 161,
     "metadata": {},
     "output_type": "execute_result"
    }
   ],
   "source": [
    "lda.priors_"
   ],
   "metadata": {
    "collapsed": false,
    "ExecuteTime": {
     "end_time": "2023-11-14T16:35:56.877714Z",
     "start_time": "2023-11-14T16:35:56.637388Z"
    }
   },
   "id": "9186ac604fe5dc28"
  },
  {
   "cell_type": "code",
   "execution_count": 162,
   "outputs": [
    {
     "data": {
      "text/plain": "array([[ 0.        ],\n       [-0.27269007],\n       [ 0.19316443],\n       [-0.06828419],\n       [-0.13646358],\n       [-0.16316423],\n       [-0.39859766]])"
     },
     "execution_count": 162,
     "metadata": {},
     "output_type": "execute_result"
    }
   ],
   "source": [
    "lda.scalings_"
   ],
   "metadata": {
    "collapsed": false,
    "ExecuteTime": {
     "end_time": "2023-11-14T16:35:56.877814Z",
     "start_time": "2023-11-14T16:35:56.640888Z"
    }
   },
   "id": "78c467b6c427ff1e"
  },
  {
   "cell_type": "code",
   "execution_count": 162,
   "outputs": [],
   "source": [],
   "metadata": {
    "collapsed": false,
    "ExecuteTime": {
     "end_time": "2023-11-14T16:35:56.878453Z",
     "start_time": "2023-11-14T16:35:56.644270Z"
    }
   },
   "id": "7d600e22da114bfd"
  },
  {
   "cell_type": "code",
   "execution_count": 162,
   "outputs": [],
   "source": [],
   "metadata": {
    "collapsed": false,
    "ExecuteTime": {
     "end_time": "2023-11-14T16:35:56.878496Z",
     "start_time": "2023-11-14T16:35:56.646268Z"
    }
   },
   "id": "22dfdf6a736f863f"
  },
  {
   "cell_type": "code",
   "execution_count": 162,
   "outputs": [],
   "source": [],
   "metadata": {
    "collapsed": false,
    "ExecuteTime": {
     "end_time": "2023-11-14T16:35:56.878536Z",
     "start_time": "2023-11-14T16:35:56.648303Z"
    }
   },
   "id": "89aa03761de48193"
  },
  {
   "cell_type": "code",
   "execution_count": 162,
   "outputs": [],
   "source": [],
   "metadata": {
    "collapsed": false,
    "ExecuteTime": {
     "end_time": "2023-11-14T16:35:56.878595Z",
     "start_time": "2023-11-14T16:35:56.650685Z"
    }
   },
   "id": "90af68b835a33749"
  },
  {
   "cell_type": "code",
   "execution_count": 162,
   "outputs": [],
   "source": [],
   "metadata": {
    "collapsed": false,
    "ExecuteTime": {
     "end_time": "2023-11-14T16:35:56.878635Z",
     "start_time": "2023-11-14T16:35:56.653520Z"
    }
   },
   "id": "1e7b128e41b58a7a"
  },
  {
   "cell_type": "code",
   "execution_count": 162,
   "outputs": [],
   "source": [],
   "metadata": {
    "collapsed": false,
    "ExecuteTime": {
     "end_time": "2023-11-14T16:35:56.878676Z",
     "start_time": "2023-11-14T16:35:56.655886Z"
    }
   },
   "id": "d6a1ac097aeaf7a5"
  },
  {
   "cell_type": "markdown",
   "source": [
    "(f) Repeat (d) using QDA."
   ],
   "metadata": {
    "collapsed": false
   },
   "id": "a0e449b5834ed868"
  },
  {
   "cell_type": "code",
   "execution_count": 163,
   "outputs": [
    {
     "name": "stderr",
     "output_type": "stream",
     "text": [
      "/opt/homebrew/Caskroom/miniforge/base/envs/stats/lib/python3.11/site-packages/sklearn/discriminant_analysis.py:935: UserWarning: Variables are collinear\n",
      "  warnings.warn(\"Variables are collinear\")\n"
     ]
    },
    {
     "data": {
      "text/plain": "QuadraticDiscriminantAnalysis(store_covariance=True)",
      "text/html": "<style>#sk-container-id-6 {color: black;}#sk-container-id-6 pre{padding: 0;}#sk-container-id-6 div.sk-toggleable {background-color: white;}#sk-container-id-6 label.sk-toggleable__label {cursor: pointer;display: block;width: 100%;margin-bottom: 0;padding: 0.3em;box-sizing: border-box;text-align: center;}#sk-container-id-6 label.sk-toggleable__label-arrow:before {content: \"▸\";float: left;margin-right: 0.25em;color: #696969;}#sk-container-id-6 label.sk-toggleable__label-arrow:hover:before {color: black;}#sk-container-id-6 div.sk-estimator:hover label.sk-toggleable__label-arrow:before {color: black;}#sk-container-id-6 div.sk-toggleable__content {max-height: 0;max-width: 0;overflow: hidden;text-align: left;background-color: #f0f8ff;}#sk-container-id-6 div.sk-toggleable__content pre {margin: 0.2em;color: black;border-radius: 0.25em;background-color: #f0f8ff;}#sk-container-id-6 input.sk-toggleable__control:checked~div.sk-toggleable__content {max-height: 200px;max-width: 100%;overflow: auto;}#sk-container-id-6 input.sk-toggleable__control:checked~label.sk-toggleable__label-arrow:before {content: \"▾\";}#sk-container-id-6 div.sk-estimator input.sk-toggleable__control:checked~label.sk-toggleable__label {background-color: #d4ebff;}#sk-container-id-6 div.sk-label input.sk-toggleable__control:checked~label.sk-toggleable__label {background-color: #d4ebff;}#sk-container-id-6 input.sk-hidden--visually {border: 0;clip: rect(1px 1px 1px 1px);clip: rect(1px, 1px, 1px, 1px);height: 1px;margin: -1px;overflow: hidden;padding: 0;position: absolute;width: 1px;}#sk-container-id-6 div.sk-estimator {font-family: monospace;background-color: #f0f8ff;border: 1px dotted black;border-radius: 0.25em;box-sizing: border-box;margin-bottom: 0.5em;}#sk-container-id-6 div.sk-estimator:hover {background-color: #d4ebff;}#sk-container-id-6 div.sk-parallel-item::after {content: \"\";width: 100%;border-bottom: 1px solid gray;flex-grow: 1;}#sk-container-id-6 div.sk-label:hover label.sk-toggleable__label {background-color: #d4ebff;}#sk-container-id-6 div.sk-serial::before {content: \"\";position: absolute;border-left: 1px solid gray;box-sizing: border-box;top: 0;bottom: 0;left: 50%;z-index: 0;}#sk-container-id-6 div.sk-serial {display: flex;flex-direction: column;align-items: center;background-color: white;padding-right: 0.2em;padding-left: 0.2em;position: relative;}#sk-container-id-6 div.sk-item {position: relative;z-index: 1;}#sk-container-id-6 div.sk-parallel {display: flex;align-items: stretch;justify-content: center;background-color: white;position: relative;}#sk-container-id-6 div.sk-item::before, #sk-container-id-6 div.sk-parallel-item::before {content: \"\";position: absolute;border-left: 1px solid gray;box-sizing: border-box;top: 0;bottom: 0;left: 50%;z-index: -1;}#sk-container-id-6 div.sk-parallel-item {display: flex;flex-direction: column;z-index: 1;position: relative;background-color: white;}#sk-container-id-6 div.sk-parallel-item:first-child::after {align-self: flex-end;width: 50%;}#sk-container-id-6 div.sk-parallel-item:last-child::after {align-self: flex-start;width: 50%;}#sk-container-id-6 div.sk-parallel-item:only-child::after {width: 0;}#sk-container-id-6 div.sk-dashed-wrapped {border: 1px dashed gray;margin: 0 0.4em 0.5em 0.4em;box-sizing: border-box;padding-bottom: 0.4em;background-color: white;}#sk-container-id-6 div.sk-label label {font-family: monospace;font-weight: bold;display: inline-block;line-height: 1.2em;}#sk-container-id-6 div.sk-label-container {text-align: center;}#sk-container-id-6 div.sk-container {/* jupyter's `normalize.less` sets `[hidden] { display: none; }` but bootstrap.min.css set `[hidden] { display: none !important; }` so we also need the `!important` here to be able to override the default hidden behavior on the sphinx rendered scikit-learn.org. See: https://github.com/scikit-learn/scikit-learn/issues/21755 */display: inline-block !important;position: relative;}#sk-container-id-6 div.sk-text-repr-fallback {display: none;}</style><div id=\"sk-container-id-6\" class=\"sk-top-container\"><div class=\"sk-text-repr-fallback\"><pre>QuadraticDiscriminantAnalysis(store_covariance=True)</pre><b>In a Jupyter environment, please rerun this cell to show the HTML representation or trust the notebook. <br />On GitHub, the HTML representation is unable to render, please try loading this page with nbviewer.org.</b></div><div class=\"sk-container\" hidden><div class=\"sk-item\"><div class=\"sk-estimator sk-toggleable\"><input class=\"sk-toggleable__control sk-hidden--visually\" id=\"sk-estimator-id-6\" type=\"checkbox\" checked><label for=\"sk-estimator-id-6\" class=\"sk-toggleable__label sk-toggleable__label-arrow\">QuadraticDiscriminantAnalysis</label><div class=\"sk-toggleable__content\"><pre>QuadraticDiscriminantAnalysis(store_covariance=True)</pre></div></div></div></div></div>"
     },
     "execution_count": 163,
     "metadata": {},
     "output_type": "execute_result"
    }
   ],
   "source": [
    "qda = QDA(store_covariance=True) \n",
    "qda.fit(X_train, L_train)"
   ],
   "metadata": {
    "collapsed": false,
    "ExecuteTime": {
     "end_time": "2023-11-14T16:35:56.879333Z",
     "start_time": "2023-11-14T16:35:56.658445Z"
    }
   },
   "id": "22d690641e076a25"
  },
  {
   "cell_type": "code",
   "execution_count": 164,
   "outputs": [
    {
     "data": {
      "text/plain": "(array([[ 1.        ,  0.28944444, -0.03568254,  0.17080045,  0.15925624,\n          0.21409297,  1.26696554],\n        [ 1.        , -0.00921324,  0.26036581,  0.08404044,  0.09220956,\n          0.04548897,  1.15652914]]),\n array([0.44771574, 0.55228426]))"
     },
     "execution_count": 164,
     "metadata": {},
     "output_type": "execute_result"
    }
   ],
   "source": [
    "qda.means_, qda.priors_"
   ],
   "metadata": {
    "collapsed": false,
    "ExecuteTime": {
     "end_time": "2023-11-14T16:35:56.879584Z",
     "start_time": "2023-11-14T16:35:56.663032Z"
    }
   },
   "id": "58649d3832d8ac09"
  },
  {
   "cell_type": "code",
   "execution_count": 165,
   "outputs": [
    {
     "data": {
      "text/plain": "array([[ 0.        ,  0.        ,  0.        ,  0.        ,  0.        ,\n         0.        ,  0.        ],\n       [ 0.        ,  4.89171103, -0.79291936, -0.05611882, -0.51970121,\n         0.30028217, -0.03055177],\n       [ 0.        , -0.79291936,  4.83781758, -0.18804763,  0.79573313,\n        -0.30630458, -0.65752451],\n       [ 0.        , -0.05611882, -0.18804763,  4.96604353, -1.02101318,\n         0.45582361, -0.35893653],\n       [ 0.        , -0.51970121,  0.79573313, -1.02101318,  5.76020274,\n        -0.40363573, -0.42847083],\n       [ 0.        ,  0.30028217, -0.30630458,  0.45582361, -0.40363573,\n         5.61038878, -0.50475747],\n       [ 0.        , -0.03055177, -0.65752451, -0.35893653, -0.42847083,\n        -0.50475747,  1.742802  ]])"
     },
     "execution_count": 165,
     "metadata": {},
     "output_type": "execute_result"
    }
   ],
   "source": [
    "qda.covariance_[0]"
   ],
   "metadata": {
    "collapsed": false,
    "ExecuteTime": {
     "end_time": "2023-11-14T16:35:56.879800Z",
     "start_time": "2023-11-14T16:35:56.676063Z"
    }
   },
   "id": "5c90b40161b8aa8c"
  },
  {
   "cell_type": "code",
   "execution_count": 166,
   "outputs": [
    {
     "name": "stderr",
     "output_type": "stream",
     "text": [
      "/opt/homebrew/Caskroom/miniforge/base/envs/stats/lib/python3.11/site-packages/sklearn/discriminant_analysis.py:960: RuntimeWarning: divide by zero encountered in power\n",
      "  X2 = np.dot(Xm, R * (S ** (-0.5)))\n",
      "/opt/homebrew/Caskroom/miniforge/base/envs/stats/lib/python3.11/site-packages/sklearn/discriminant_analysis.py:960: RuntimeWarning: invalid value encountered in multiply\n",
      "  X2 = np.dot(Xm, R * (S ** (-0.5)))\n",
      "/opt/homebrew/Caskroom/miniforge/base/envs/stats/lib/python3.11/site-packages/sklearn/discriminant_analysis.py:963: RuntimeWarning: divide by zero encountered in log\n",
      "  u = np.asarray([np.sum(np.log(s)) for s in self.scalings_])\n"
     ]
    },
    {
     "data": {
      "text/plain": "Truth      Down  Up\nPredicted          \nDown         43  61\nUp            0   0",
      "text/html": "<div>\n<style scoped>\n    .dataframe tbody tr th:only-of-type {\n        vertical-align: middle;\n    }\n\n    .dataframe tbody tr th {\n        vertical-align: top;\n    }\n\n    .dataframe thead th {\n        text-align: right;\n    }\n</style>\n<table border=\"1\" class=\"dataframe\">\n  <thead>\n    <tr style=\"text-align: right;\">\n      <th>Truth</th>\n      <th>Down</th>\n      <th>Up</th>\n    </tr>\n    <tr>\n      <th>Predicted</th>\n      <th></th>\n      <th></th>\n    </tr>\n  </thead>\n  <tbody>\n    <tr>\n      <th>Down</th>\n      <td>43</td>\n      <td>61</td>\n    </tr>\n    <tr>\n      <th>Up</th>\n      <td>0</td>\n      <td>0</td>\n    </tr>\n  </tbody>\n</table>\n</div>"
     },
     "execution_count": 166,
     "metadata": {},
     "output_type": "execute_result"
    }
   ],
   "source": [
    "qda_pred = qda.predict(X_test) \n",
    "confusion_table(qda_pred, L_test)"
   ],
   "metadata": {
    "collapsed": false,
    "ExecuteTime": {
     "end_time": "2023-11-14T16:35:56.880197Z",
     "start_time": "2023-11-14T16:35:56.682359Z"
    }
   },
   "id": "8454925f44348136"
  },
  {
   "cell_type": "code",
   "execution_count": 167,
   "outputs": [
    {
     "data": {
      "text/plain": "0.41346153846153844"
     },
     "execution_count": 167,
     "metadata": {},
     "output_type": "execute_result"
    }
   ],
   "source": [
    "np.mean(qda_pred == L_test)"
   ],
   "metadata": {
    "collapsed": false,
    "ExecuteTime": {
     "end_time": "2023-11-14T16:35:56.880353Z",
     "start_time": "2023-11-14T16:35:56.698067Z"
    }
   },
   "id": "db1d06e7ea2483a"
  },
  {
   "cell_type": "code",
   "execution_count": 167,
   "outputs": [],
   "source": [],
   "metadata": {
    "collapsed": false,
    "ExecuteTime": {
     "end_time": "2023-11-14T16:35:56.880420Z",
     "start_time": "2023-11-14T16:35:56.704608Z"
    }
   },
   "id": "c44bd226e4c40cbb"
  },
  {
   "cell_type": "markdown",
   "source": [
    "(g) Repeat (d) using KNN with K = 1."
   ],
   "metadata": {
    "collapsed": false
   },
   "id": "f8dd4698003c3535"
  },
  {
   "cell_type": "code",
   "execution_count": 167,
   "outputs": [],
   "source": [],
   "metadata": {
    "collapsed": false,
    "ExecuteTime": {
     "end_time": "2023-11-14T16:35:56.880459Z",
     "start_time": "2023-11-14T16:35:56.710299Z"
    }
   },
   "id": "4c8472fd086cef0d"
  },
  {
   "cell_type": "markdown",
   "source": [
    "(h) Repeat (d) using naive Bayes."
   ],
   "metadata": {
    "collapsed": false
   },
   "id": "9878af3164917e20"
  },
  {
   "cell_type": "code",
   "execution_count": 167,
   "outputs": [],
   "source": [],
   "metadata": {
    "collapsed": false,
    "ExecuteTime": {
     "end_time": "2023-11-14T16:35:56.880518Z",
     "start_time": "2023-11-14T16:35:56.713827Z"
    }
   },
   "id": "c12360a0aca3f54e"
  },
  {
   "cell_type": "markdown",
   "source": [
    "(i) Which of these methods appears to provide the best results on this data?"
   ],
   "metadata": {
    "collapsed": false
   },
   "id": "c976349d3a6c4509"
  },
  {
   "cell_type": "code",
   "execution_count": 167,
   "outputs": [],
   "source": [],
   "metadata": {
    "collapsed": false,
    "ExecuteTime": {
     "end_time": "2023-11-14T16:35:56.880609Z",
     "start_time": "2023-11-14T16:35:56.716916Z"
    }
   },
   "id": "f04676d6de636db6"
  },
  {
   "cell_type": "markdown",
   "source": [
    "(j) Experiment with different combinations of predictors, includ- ing possible transformations and interactions, for each of the methods. Report the variables, method, and associated confu- sion matrix that appears to provide the best results on the held out data. Note that you should also experiment with values for K in the KNN classifier."
   ],
   "metadata": {
    "collapsed": false
   },
   "id": "42ddc8394e550e6c"
  },
  {
   "cell_type": "code",
   "execution_count": 167,
   "outputs": [],
   "source": [],
   "metadata": {
    "collapsed": false,
    "ExecuteTime": {
     "end_time": "2023-11-14T16:35:56.880652Z",
     "start_time": "2023-11-14T16:35:56.719067Z"
    }
   },
   "id": "30b4f2421f8be63"
  },
  {
   "cell_type": "markdown",
   "id": "321d70df",
   "metadata": {},
   "source": [
    "## 2 "
   ]
  },
  {
   "cell_type": "markdown",
   "source": [
    "#### Load the data"
   ],
   "metadata": {
    "collapsed": false
   },
   "id": "cbd1eead"
  },
  {
   "cell_type": "code",
   "execution_count": 168,
   "id": "78551713",
   "metadata": {
    "ExecuteTime": {
     "end_time": "2023-11-14T16:35:56.880698Z",
     "start_time": "2023-11-14T16:35:56.722968Z"
    }
   },
   "outputs": [],
   "source": [
    "from sklearn import datasets\n",
    "iris = datasets.load_iris()"
   ]
  },
  {
   "cell_type": "markdown",
   "id": "3c1abe59",
   "metadata": {},
   "source": [
    "The features are stored in iris['data'] and the labels are in iris['target']."
   ]
  },
  {
   "cell_type": "markdown",
   "id": "88512f0d",
   "metadata": {},
   "source": [
    "### Afterwards, standardize the features and apply 2D PCA to the standardized data. Plot the first two principal components of the data, color coded by the true labels.\n"
   ]
  },
  {
   "cell_type": "code",
   "execution_count": 168,
   "id": "e341e8c5",
   "metadata": {
    "ExecuteTime": {
     "end_time": "2023-11-14T16:35:56.880738Z",
     "start_time": "2023-11-14T16:35:56.726514Z"
    }
   },
   "outputs": [],
   "source": []
  },
  {
   "cell_type": "markdown",
   "id": "69b799c5",
   "metadata": {},
   "source": [
    "### (2) Now focus on the two classes, 'versicolor' and 'virginica', and fit a binary logistic regression model. What is the training error? Plot also the decision boundary.\n"
   ]
  },
  {
   "cell_type": "code",
   "execution_count": 168,
   "id": "f0626f66",
   "metadata": {
    "ExecuteTime": {
     "end_time": "2023-11-14T16:35:56.880782Z",
     "start_time": "2023-11-14T16:35:56.728628Z"
    }
   },
   "outputs": [],
   "source": []
  },
  {
   "cell_type": "markdown",
   "id": "ac2766db",
   "metadata": {},
   "source": [
    "### (3) For the above two iris classes, fit two more models: LDA and QDA. What are their training error rates? Plot their decision boundaries together with the binary logistic regression model. Which model do you think is the most appropriate for these two classes? "
   ]
  },
  {
   "cell_type": "code",
   "execution_count": 168,
   "id": "b3e1ba59",
   "metadata": {
    "ExecuteTime": {
     "end_time": "2023-11-14T16:35:56.880826Z",
     "start_time": "2023-11-14T16:35:56.731906Z"
    }
   },
   "outputs": [],
   "source": []
  },
  {
   "cell_type": "markdown",
   "id": "0dca419c",
   "metadata": {},
   "source": [
    "### (4) Apply the one-versus-rest multiclass logistic regression classifier to all three classes of the iris data (using the two dimensional principal components obtained above). Display the confusion matrix and comment on it. What is the overall training error?"
   ]
  },
  {
   "cell_type": "code",
   "execution_count": 168,
   "id": "1de372e3",
   "metadata": {
    "ExecuteTime": {
     "end_time": "2023-11-14T16:35:56.880870Z",
     "start_time": "2023-11-14T16:35:56.734797Z"
    }
   },
   "outputs": [],
   "source": []
  },
  {
   "cell_type": "markdown",
   "id": "c94ff8aa",
   "metadata": {},
   "source": [
    "### (5)  Repeat (4) with the multinomial logistic regression classifier instead. How does it compare with the one-versus-rest extension?"
   ]
  },
  {
   "cell_type": "code",
   "execution_count": 168,
   "id": "4d8bbd21",
   "metadata": {
    "ExecuteTime": {
     "end_time": "2023-11-14T16:35:56.880909Z",
     "start_time": "2023-11-14T16:35:56.737443Z"
    }
   },
   "outputs": [],
   "source": []
  },
  {
   "cell_type": "markdown",
   "id": "e8c475c6",
   "metadata": {},
   "source": [
    "### (6) Repeat (4) with each of the LDA and QDA classifiers. How do they compare with logistic regression in terms of training error? Which one will generalize the best to test data (when they become available)?"
   ]
  },
  {
   "cell_type": "code",
   "execution_count": 168,
   "id": "f1ce732b",
   "metadata": {
    "ExecuteTime": {
     "end_time": "2023-11-14T16:35:56.880953Z",
     "start_time": "2023-11-14T16:35:56.739687Z"
    }
   },
   "outputs": [],
   "source": []
  }
 ],
 "metadata": {
  "kernelspec": {
   "display_name": "Python 3 (ipykernel)",
   "language": "python",
   "name": "python3"
  },
  "language_info": {
   "codemirror_mode": {
    "name": "ipython",
    "version": 3
   },
   "file_extension": ".py",
   "mimetype": "text/x-python",
   "name": "python",
   "nbconvert_exporter": "python",
   "pygments_lexer": "ipython3",
   "version": "3.10.9"
  }
 },
 "nbformat": 4,
 "nbformat_minor": 5
}
