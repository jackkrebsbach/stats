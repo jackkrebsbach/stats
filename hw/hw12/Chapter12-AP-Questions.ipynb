{
 "cells": [
  {
   "cell_type": "markdown",
   "id": "e8f14fd0",
   "metadata": {},
   "source": [
    "# Chapter 12 AP\n",
    "\n",
    "This assignment consists of two questions, one from the textbook and one written by the instructor. \n",
    "\n",
    "Each question is worth 20 points.\n",
    "\n",
    "Requirements are similar to those for Chapter 2 AP."
   ]
  },
  {
   "cell_type": "markdown",
   "id": "b859f1d8",
   "metadata": {},
   "source": [
    "## 1. Question 10 on page 555 of the textbook\n",
    "\n",
    "Type your commands below. Be sure to organize your work clearly by using the Markdown."
   ]
  },
  {
   "cell_type": "code",
   "execution_count": null,
   "id": "bdc441ca",
   "metadata": {},
   "outputs": [],
   "source": []
  },
  {
   "cell_type": "code",
   "execution_count": null,
   "id": "512567d7",
   "metadata": {},
   "outputs": [],
   "source": []
  },
  {
   "cell_type": "code",
   "execution_count": null,
   "id": "6048fdd7",
   "metadata": {},
   "outputs": [],
   "source": []
  },
  {
   "cell_type": "code",
   "execution_count": null,
   "id": "7106824f",
   "metadata": {},
   "outputs": [],
   "source": []
  },
  {
   "cell_type": "code",
   "execution_count": null,
   "id": "51f93d6b",
   "metadata": {},
   "outputs": [],
   "source": []
  },
  {
   "cell_type": "code",
   "execution_count": null,
   "id": "6e8277a0",
   "metadata": {},
   "outputs": [],
   "source": []
  },
  {
   "cell_type": "code",
   "execution_count": null,
   "id": "f9de3b84",
   "metadata": {},
   "outputs": [],
   "source": []
  },
  {
   "cell_type": "markdown",
   "id": "321d70df",
   "metadata": {},
   "source": [
    "## 2. Question written by the instructor \n",
    "\n",
    "In this assignment you are asked to perform kmeans and spectral clustering on the iris data set; for a detailed description, see https://archive.ics.uci.edu/dataset/53/iris."
   ]
  },
  {
   "cell_type": "markdown",
   "id": "cbd1eead",
   "metadata": {},
   "source": [
    "### (1) First, load the data into Python using the following scripts."
   ]
  },
  {
   "cell_type": "code",
   "execution_count": null,
   "id": "78551713",
   "metadata": {},
   "outputs": [],
   "source": [
    "from sklearn import datasets\n",
    "iris = datasets.load_iris()"
   ]
  },
  {
   "cell_type": "markdown",
   "id": "3c1abe59",
   "metadata": {},
   "source": [
    "The features are stored in iris['data'] and the labels are in iris['target'].\n",
    "\n",
    "How many instances are there?\n",
    "\n",
    "And what are the feature and response names?"
   ]
  },
  {
   "cell_type": "markdown",
   "id": "88512f0d",
   "metadata": {},
   "source": [
    "### (2) Standardize the features of the iris data set for all subsequent steps."
   ]
  },
  {
   "cell_type": "code",
   "execution_count": null,
   "id": "6cf1ed75",
   "metadata": {},
   "outputs": [],
   "source": []
  },
  {
   "cell_type": "markdown",
   "id": "69b799c5",
   "metadata": {},
   "source": [
    "### (3) Apply PCA to the data and plot their first two principal components, color coded by the true labels.\n",
    "\n",
    "What percentage of the scatter of the data is explained by the top two principal components?"
   ]
  },
  {
   "cell_type": "code",
   "execution_count": null,
   "id": "f890bd9d",
   "metadata": {},
   "outputs": [],
   "source": []
  },
  {
   "cell_type": "markdown",
   "id": "c94ff8aa",
   "metadata": {},
   "source": [
    "### (4)  Apply kmeans, with the true number of clusters, to the iris data (using all the features, not the 2D principal components).  \n",
    "\n",
    "Plot the clusters found by kmeans in the 2D PCA space (Note that kmeans was applied to the full data and just added a second set of labels to the data besides the true labels).\n",
    "\n",
    "What is the confusion matrix between the true labels and the kmeans labels?\n"
   ]
  },
  {
   "cell_type": "code",
   "execution_count": null,
   "id": "4d8bbd21",
   "metadata": {},
   "outputs": [],
   "source": []
  },
  {
   "cell_type": "markdown",
   "id": "e8c475c6",
   "metadata": {},
   "source": [
    "### (5) Try different numbers of clusters with kmeans, k=2, ..., 6, and plot the amounts of total scatter (against k) found by kmeans. \n",
    "\n",
    "Can the elbow method correctly identify the number of clusters on this data set?"
   ]
  },
  {
   "cell_type": "code",
   "execution_count": null,
   "id": "f1ce732b",
   "metadata": {},
   "outputs": [],
   "source": []
  },
  {
   "cell_type": "markdown",
   "id": "6917bd4d",
   "metadata": {},
   "source": [
    "### (6) Apply spectral clustering (with the true number of clusters) to the iris data that have been standardized. \n",
    "\n",
    "What value of the scale parameter sigma did you use and how did you find it?\n",
    "\n",
    "Plot the clusters found by spectral clustering in the 2D PCA space and show the confusion matrix as well. Compare with the kmeans results."
   ]
  },
  {
   "cell_type": "code",
   "execution_count": null,
   "id": "97736e8e",
   "metadata": {},
   "outputs": [],
   "source": []
  }
 ],
 "metadata": {
  "kernelspec": {
   "display_name": "Python 3 (ipykernel)",
   "language": "python",
   "name": "python3"
  },
  "language_info": {
   "codemirror_mode": {
    "name": "ipython",
    "version": 3
   },
   "file_extension": ".py",
   "mimetype": "text/x-python",
   "name": "python",
   "nbconvert_exporter": "python",
   "pygments_lexer": "ipython3",
   "version": "3.10.9"
  }
 },
 "nbformat": 4,
 "nbformat_minor": 5
}
