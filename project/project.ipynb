{
 "cells": [
  {
   "cell_type": "markdown",
   "source": [
    "## Statistics for Data Science Project\n",
    "Jack Krebsbach and Eli Edwards"
   ],
   "metadata": {
    "collapsed": false
   },
   "id": "864b908443dd8ebf"
  },
  {
   "cell_type": "markdown",
   "source": [
    "### Import Libraries"
   ],
   "metadata": {
    "collapsed": false
   },
   "id": "5927a515ee1ea598"
  },
  {
   "cell_type": "code",
   "execution_count": 2,
   "outputs": [],
   "source": [
    "import pandas as pd\n",
    "import numpy as np\n",
    "import nltk\n",
    "from textblob import TextBlob\n",
    "from nltk.corpus import stopwords\n",
    "from nltk.stem import WordNetLemmatizer\n",
    "import asyncio\n",
    "from datetime import datetime\n",
    "import os\n",
    "import matplotlib.pyplot as plt"
   ],
   "metadata": {
    "collapsed": false,
    "ExecuteTime": {
     "end_time": "2023-11-25T19:01:05.028315Z",
     "start_time": "2023-11-25T19:01:03.788457Z"
    }
   },
   "id": "eac338bfb6dabac9"
  },
  {
   "cell_type": "markdown",
   "source": [
    "### Import and Preprocess data"
   ],
   "metadata": {
    "collapsed": false
   },
   "id": "7f6c5e376ce2fde5"
  },
  {
   "cell_type": "code",
   "execution_count": 2,
   "outputs": [],
   "source": [
    "user_path = \"./data/users.csv\"\n",
    "waitlist_path = './data/waitlist.csv'"
   ],
   "metadata": {
    "collapsed": false,
    "ExecuteTime": {
     "end_time": "2023-11-25T18:38:20.718321Z",
     "start_time": "2023-11-25T18:38:20.705006Z"
    }
   },
   "id": "6dd0c89f0d8938d6"
  },
  {
   "cell_type": "code",
   "execution_count": 3,
   "outputs": [],
   "source": [
    "user_data = pd.read_csv(user_path)\n",
    "waitlist_data = pd.read_csv(waitlist_path)"
   ],
   "metadata": {
    "collapsed": false,
    "ExecuteTime": {
     "end_time": "2023-11-25T18:38:21.055396Z",
     "start_time": "2023-11-25T18:38:20.707744Z"
    }
   },
   "id": "8fcc1d368e312958"
  },
  {
   "cell_type": "code",
   "execution_count": 4,
   "outputs": [],
   "source": [
    "## Filter mustafa and jack\n",
    "emails_to_filter = ['jack@rezafootwear.com', 'mustafa@rezafootwear.com', 'krebsbachjackson@gmail.com', 'mustisyed@hotmail.com', 'jackson.krebsbach@hope.edu','thibautfenaindev@gmail.com']"
   ],
   "metadata": {
    "collapsed": false,
    "ExecuteTime": {
     "end_time": "2023-11-25T18:38:21.063658Z",
     "start_time": "2023-11-25T18:38:21.056763Z"
    }
   },
   "id": "87093d567ddadbb6"
  },
  {
   "cell_type": "code",
   "execution_count": 5,
   "outputs": [],
   "source": [
    "# Preprocess email columns\n",
    "user_data['email'] = user_data['email'].str.strip().str.lower()\n",
    "waitlist_data['email'] = waitlist_data['email'].str.strip().str.lower()"
   ],
   "metadata": {
    "collapsed": false,
    "ExecuteTime": {
     "end_time": "2023-11-25T18:38:21.093203Z",
     "start_time": "2023-11-25T18:38:21.066088Z"
    }
   },
   "id": "476a80a95ecf2f0b"
  },
  {
   "cell_type": "code",
   "execution_count": 6,
   "outputs": [
    {
     "data": {
      "text/plain": "Index(['id_x', 'bc_id', 'email', 'phone_x', 'full_name', 'first_name',\n       'last_name', 'hoodie_size', 'full_user', 'disabled', 'role',\n       'created_at_x', 'updated_at_x', 'last_login_at', 'invite_count',\n       'invited_by_x', 'user_category', 'stripe_id', 'drop_live',\n       'drop_live_sms', 'id.1', 'lyop_x', 'city_x', 'description',\n       'display_name', 'short_description', 'profile_picture', 'user_id',\n       'created_at.1', 'updated_at.1', 'id.2', 'created_at.2', 'updated_at.2',\n       'completed_reservation', 'end_time', 'start_time', 'user_id.1',\n       'waitlist_id', 'unlocked', 'reactivated', 'reactivated_at', 'phone_y',\n       'lyop_y', 'invited_by_y', 'count', 'created_at_y', 'updated_at_y',\n       'verification_code', 'token', 'applied', 'city_y', 'applied_at', 'name',\n       'id_y', 'application_reminder_count', 'email_verified',\n       'phone_verified', 'shoe_size', 'application_update_count', 'accepted',\n       'accepted_at', 'lyop', 'bought_shoes'],\n      dtype='object')"
     },
     "execution_count": 6,
     "metadata": {},
     "output_type": "execute_result"
    }
   ],
   "source": [
    "# Merge dataframes\n",
    "df = pd.merge(user_data, waitlist_data, on='email', how='inner')\n",
    "df = df[~df['email'].isin(emails_to_filter)]\n",
    "df\n",
    "# Assuming df is your DataFrame\n",
    "df['lyop'] = np.where(df['lyop_x'].notna() & df['lyop_y'].notna(), df['lyop_y'], np.nan)\n",
    "df['bought_shoes'] = np.where((df['completed_reservation'] == True) | (df['user_category'] == 'FOUNDER'), True, False)\n",
    "df.columns"
   ],
   "metadata": {
    "collapsed": false,
    "ExecuteTime": {
     "end_time": "2023-11-25T18:38:21.191660Z",
     "start_time": "2023-11-25T18:38:21.094184Z"
    }
   },
   "id": "efb407c681293a90"
  },
  {
   "cell_type": "code",
   "execution_count": 7,
   "outputs": [],
   "source": [
    "bought_shoes = df[(df['completed_reservation'] == True)| (df['user_category'] == 'FOUNDER')]"
   ],
   "metadata": {
    "collapsed": false,
    "ExecuteTime": {
     "end_time": "2023-11-25T18:38:21.211050Z",
     "start_time": "2023-11-25T18:38:21.192789Z"
    }
   },
   "id": "2332890511078f3"
  },
  {
   "cell_type": "code",
   "execution_count": 8,
   "outputs": [],
   "source": [
    "df = df.copy() \n",
    "df.dropna(subset=['lyop'], inplace=True)\n",
    "df['invited_by'] = df['invited_by_y']\n",
    "df['city'] = df['city_x']\n",
    "df['phone'] = df['phone_y']"
   ],
   "metadata": {
    "collapsed": false,
    "ExecuteTime": {
     "end_time": "2023-11-25T18:38:21.245066Z",
     "start_time": "2023-11-25T18:38:21.212955Z"
    }
   },
   "id": "2d232e58de4703e9"
  },
  {
   "cell_type": "code",
   "execution_count": 9,
   "outputs": [],
   "source": [
    "columns = ['email', 'full_name', 'lyop', 'invited_by', 'city','bought_shoes']\n",
    "data = df[columns]"
   ],
   "metadata": {
    "collapsed": false,
    "ExecuteTime": {
     "end_time": "2023-11-25T18:38:21.262686Z",
     "start_time": "2023-11-25T18:38:21.243971Z"
    }
   },
   "id": "d7bd4096cf999db1"
  },
  {
   "cell_type": "code",
   "execution_count": 10,
   "outputs": [],
   "source": [
    "data.to_csv('./outputs/data.csv',index=False)"
   ],
   "metadata": {
    "collapsed": false,
    "ExecuteTime": {
     "end_time": "2023-11-25T18:38:21.338347Z",
     "start_time": "2023-11-25T18:38:21.264761Z"
    }
   },
   "id": "98112617091e6a13"
  },
  {
   "cell_type": "markdown",
   "source": [
    "#### Need to get City data"
   ],
   "metadata": {
    "collapsed": false
   },
   "id": "6976d385d51b8a5d"
  },
  {
   "cell_type": "code",
   "execution_count": 11,
   "outputs": [],
   "source": [
    "import geocoder\n",
    "import requests"
   ],
   "metadata": {
    "collapsed": false,
    "ExecuteTime": {
     "end_time": "2023-11-25T18:38:21.400348Z",
     "start_time": "2023-11-25T18:38:21.333552Z"
    }
   },
   "id": "7ba1185a029d0486"
  },
  {
   "cell_type": "code",
   "execution_count": 12,
   "outputs": [],
   "source": [
    "g = geocoder.google('Los Angeles', sensor=False)"
   ],
   "metadata": {
    "collapsed": false,
    "ExecuteTime": {
     "end_time": "2023-11-25T18:38:21.683249Z",
     "start_time": "2023-11-25T18:38:21.401450Z"
    }
   },
   "id": "3dcfb8da0a0cfa4a"
  },
  {
   "cell_type": "code",
   "execution_count": 13,
   "outputs": [],
   "source": [
    "g = geocoder.google([45.15, -75.14], method='reverse')"
   ],
   "metadata": {
    "collapsed": false,
    "ExecuteTime": {
     "end_time": "2023-11-25T18:38:21.871527Z",
     "start_time": "2023-11-25T18:38:21.685530Z"
    }
   },
   "id": "de994be8952e52af"
  },
  {
   "cell_type": "code",
   "execution_count": 14,
   "outputs": [
    {
     "data": {
      "text/plain": "                             email        full_name  \\\n69      furtickbrandon81@gmail.com  Brandon Furtick   \n146              gala12143@aol.com  Kendall Brannon   \n176      kelvin943451798@gmail.com            dexen   \n235       aaronjleeman46@gmail.com            Aaron   \n247        finnlaccapone@gmail.com     Lucas Capone   \n...                            ...              ...   \n26454   j.v.delcruz70120@gmail.com  Juan De La Cruz   \n26455            djm3lla@gmail.com            Keven   \n26457          mattd666@icloud.com          Matthew   \n26458  seniorbenefits001@gmail.com  Leonardo Garcia   \n26459  thelittlemenace13@gmail.com             Dani   \n\n                                                    lyop  invited_by  \\\n69     These shoes are amazing in every way from how ...         NaN   \n146    I am inspired my rhythm and music. I light my ...         NaN   \n176                                                  YEA         NaN   \n235    Creating my own sounds musically and exploring...         NaN   \n247    I’m apart of a large car community where we ho...         NaN   \n...                                                  ...         ...   \n26454  I go through and trying new things as possible...         NaN   \n26455  I dj and I love being creative with new styles...         NaN   \n26457  The people around me, they inspire me to be be...         NaN   \n26458                             Destined for greatness         NaN   \n26459  I volunteered at the Boston Children’s Hospita...         NaN   \n\n                             city  bought_shoes  \n69                         Duluth          True  \n146                       Bacliff          True  \n176                            NY          True  \n235                Leamington Spa          True  \n247                      Rockaway          True  \n...                           ...           ...  \n26454          Menifee California         False  \n26455                    New York         False  \n26457                  Gloucester         False  \n26458            Orlando, Florida         False  \n26459  Northampton, Massachusetts         False  \n\n[25377 rows x 6 columns]",
      "text/html": "<div>\n<style scoped>\n    .dataframe tbody tr th:only-of-type {\n        vertical-align: middle;\n    }\n\n    .dataframe tbody tr th {\n        vertical-align: top;\n    }\n\n    .dataframe thead th {\n        text-align: right;\n    }\n</style>\n<table border=\"1\" class=\"dataframe\">\n  <thead>\n    <tr style=\"text-align: right;\">\n      <th></th>\n      <th>email</th>\n      <th>full_name</th>\n      <th>lyop</th>\n      <th>invited_by</th>\n      <th>city</th>\n      <th>bought_shoes</th>\n    </tr>\n  </thead>\n  <tbody>\n    <tr>\n      <th>69</th>\n      <td>furtickbrandon81@gmail.com</td>\n      <td>Brandon Furtick</td>\n      <td>These shoes are amazing in every way from how ...</td>\n      <td>NaN</td>\n      <td>Duluth</td>\n      <td>True</td>\n    </tr>\n    <tr>\n      <th>146</th>\n      <td>gala12143@aol.com</td>\n      <td>Kendall Brannon</td>\n      <td>I am inspired my rhythm and music. I light my ...</td>\n      <td>NaN</td>\n      <td>Bacliff</td>\n      <td>True</td>\n    </tr>\n    <tr>\n      <th>176</th>\n      <td>kelvin943451798@gmail.com</td>\n      <td>dexen</td>\n      <td>YEA</td>\n      <td>NaN</td>\n      <td>NY</td>\n      <td>True</td>\n    </tr>\n    <tr>\n      <th>235</th>\n      <td>aaronjleeman46@gmail.com</td>\n      <td>Aaron</td>\n      <td>Creating my own sounds musically and exploring...</td>\n      <td>NaN</td>\n      <td>Leamington Spa</td>\n      <td>True</td>\n    </tr>\n    <tr>\n      <th>247</th>\n      <td>finnlaccapone@gmail.com</td>\n      <td>Lucas Capone</td>\n      <td>I’m apart of a large car community where we ho...</td>\n      <td>NaN</td>\n      <td>Rockaway</td>\n      <td>True</td>\n    </tr>\n    <tr>\n      <th>...</th>\n      <td>...</td>\n      <td>...</td>\n      <td>...</td>\n      <td>...</td>\n      <td>...</td>\n      <td>...</td>\n    </tr>\n    <tr>\n      <th>26454</th>\n      <td>j.v.delcruz70120@gmail.com</td>\n      <td>Juan De La Cruz</td>\n      <td>I go through and trying new things as possible...</td>\n      <td>NaN</td>\n      <td>Menifee California</td>\n      <td>False</td>\n    </tr>\n    <tr>\n      <th>26455</th>\n      <td>djm3lla@gmail.com</td>\n      <td>Keven</td>\n      <td>I dj and I love being creative with new styles...</td>\n      <td>NaN</td>\n      <td>New York</td>\n      <td>False</td>\n    </tr>\n    <tr>\n      <th>26457</th>\n      <td>mattd666@icloud.com</td>\n      <td>Matthew</td>\n      <td>The people around me, they inspire me to be be...</td>\n      <td>NaN</td>\n      <td>Gloucester</td>\n      <td>False</td>\n    </tr>\n    <tr>\n      <th>26458</th>\n      <td>seniorbenefits001@gmail.com</td>\n      <td>Leonardo Garcia</td>\n      <td>Destined for greatness</td>\n      <td>NaN</td>\n      <td>Orlando, Florida</td>\n      <td>False</td>\n    </tr>\n    <tr>\n      <th>26459</th>\n      <td>thelittlemenace13@gmail.com</td>\n      <td>Dani</td>\n      <td>I volunteered at the Boston Children’s Hospita...</td>\n      <td>NaN</td>\n      <td>Northampton, Massachusetts</td>\n      <td>False</td>\n    </tr>\n  </tbody>\n</table>\n<p>25377 rows × 6 columns</p>\n</div>"
     },
     "execution_count": 14,
     "metadata": {},
     "output_type": "execute_result"
    }
   ],
   "source": [
    "data"
   ],
   "metadata": {
    "collapsed": false,
    "ExecuteTime": {
     "end_time": "2023-11-25T18:38:22.016809Z",
     "start_time": "2023-11-25T18:38:22.011318Z"
    }
   },
   "id": "bb0cc77b716c6a2e"
  },
  {
   "cell_type": "code",
   "execution_count": 15,
   "outputs": [],
   "source": [
    "df = data"
   ],
   "metadata": {
    "collapsed": false,
    "ExecuteTime": {
     "end_time": "2023-11-25T18:38:22.412877Z",
     "start_time": "2023-11-25T18:38:22.409463Z"
    }
   },
   "id": "15bdbb76369ca757"
  },
  {
   "cell_type": "markdown",
   "source": [
    "### Get sentiment from their application"
   ],
   "metadata": {
    "collapsed": false
   },
   "id": "96ba6b454b0bec46"
  },
  {
   "cell_type": "code",
   "execution_count": 16,
   "outputs": [
    {
     "name": "stderr",
     "output_type": "stream",
     "text": [
      "[nltk_data] Downloading package stopwords to\n",
      "[nltk_data]     /Users/krebsbach/nltk_data...\n",
      "[nltk_data]   Package stopwords is already up-to-date!\n",
      "[nltk_data] Downloading package wordnet to\n",
      "[nltk_data]     /Users/krebsbach/nltk_data...\n",
      "[nltk_data]   Package wordnet is already up-to-date!\n",
      "[nltk_data] Downloading package punkt to /Users/krebsbach/nltk_data...\n",
      "[nltk_data]   Package punkt is already up-to-date!\n"
     ]
    },
    {
     "data": {
      "text/plain": "<Figure size 640x480 with 1 Axes>",
      "image/png": "[encoded data removed]"
     },
     "metadata": {},
     "output_type": "display_data"
    }
   ],
   "source": [
    "# Text Preprocessing\n",
    "nltk.download('stopwords')\n",
    "nltk.download('wordnet')\n",
    "nltk.download('punkt')\n",
    "stop_words = set(stopwords.words('english'))\n",
    "lemmatizer = WordNetLemmatizer()\n",
    "\n",
    "def preprocess(text):\n",
    "    tokens = nltk.word_tokenize(text)\n",
    "    tokens = [lemmatizer.lemmatize(word) for word in tokens if word not in stop_words]\n",
    "    return ' '.join(tokens)\n",
    "\n",
    "df['processed_text'] = df['lyop'].apply(preprocess)  # Replace 'column_name' with your column name\n",
    "\n",
    "# Sentiment Analysis\n",
    "def get_sentiment(text):\n",
    "    return TextBlob(text).sentiment.polarity\n",
    "\n",
    "df['sentiment'] = df['processed_text'].apply(get_sentiment)\n",
    "\n",
    "# Visualization\n",
    "plt.hist(df['sentiment'], bins=20)\n",
    "plt.title('Sentiment Distribution')\n",
    "plt.xlabel('Sentiment Score')\n",
    "plt.ylabel('Frequency')\n",
    "plt.show()"
   ],
   "metadata": {
    "collapsed": false,
    "ExecuteTime": {
     "end_time": "2023-11-25T18:38:28.384072Z",
     "start_time": "2023-11-25T18:38:23.607160Z"
    }
   },
   "id": "d8fb600eff53e263"
  },
  {
   "cell_type": "code",
   "execution_count": 17,
   "outputs": [],
   "source": [
    "#df.rename(columns={'city': 'city_unstructured'}, inplace=True)\n",
    "#df.to_csv(\"./outputs/processed_data.csv\")"
   ],
   "metadata": {
    "collapsed": false,
    "ExecuteTime": {
     "end_time": "2023-11-25T18:38:28.390730Z",
     "start_time": "2023-11-25T18:38:28.384946Z"
    }
   },
   "id": "56c68ea51f4a8941"
  },
  {
   "cell_type": "code",
   "execution_count": 1,
   "outputs": [],
   "source": [
    "from selenium import webdriver\n",
    "from selenium.webdriver.common.keys import Keys\n",
    "from selenium.webdriver.chrome.service import Service\n",
    "from selenium.webdriver.support.ui import WebDriverWait\n",
    "from selenium.webdriver.support import expected_conditions as EC\n",
    "from selenium.webdriver.common.by import By\n",
    "from selenium.webdriver.chrome.options import Options\n",
    "from webdriver_manager.chrome import ChromeDriverManager\n",
    "\n",
    "chrome_options = Options()\n",
    "chrome_options.add_argument(\"--headless\") \n",
    "service = Service(ChromeDriverManager().install())\n",
    "driver = webdriver.Chrome(service=service, options=chrome_options)\n",
    "\n",
    "CITY= 'Holland MI'\n",
    "\n",
    "# try:\n",
    "#     driver.get(f\"https://www.bing.com/maps?q={CITY}\")\n",
    "#     wait = WebDriverWait(driver, 10)\n",
    "# \n",
    "#    # Wait for the page to load and locate elements\n",
    "#     wait.until(EC.presence_of_all_elements_located((By.CLASS_NAME, 'b_factrow')))\n",
    "#     factrow_elements = driver.find_elements(By.CLASS_NAME, 'b_factrow')\n",
    "# \n",
    "#     # Extract and print information from each element\n",
    "#     for element in factrow_elements:\n",
    "#         print(element.text)\n",
    "# \n",
    "# except Exception as e:\n",
    "#     print(\"An error occurred:\", e)\n",
    "# \n",
    "# finally:\n",
    "#     # Close the browser\n",
    "#     driver.quit()\n"
   ],
   "metadata": {
    "collapsed": false,
    "ExecuteTime": {
     "end_time": "2023-11-25T19:01:00.313909Z",
     "start_time": "2023-11-25T19:00:58.672986Z"
    }
   },
   "id": "1045435633366cb2"
  },
  {
   "cell_type": "code",
   "execution_count": 26,
   "outputs": [],
   "source": [
    "# Asynchronously process the first 5 cities\n",
    "\n",
    "# async def process_all_batches(df):\n",
    "#     batch_size = 5\n",
    "#     tasks = []\n",
    "#     for batch in np.array_split(df, np.ceil(len(df) / batch_size)):\n",
    "#         task = asyncio.create_task(process_batch(batch,df))\n",
    "#         tasks.append(task)\n",
    "#     await asyncio.gather(*tasks)\n",
    "# async def proccess_first_batch():\n",
    "#     batch_size = 5\n",
    "#     tasks = []\n",
    "#     # Limit to the first batch only\n",
    "#     first_batch = np.array_split(df, np.ceil(len(df) / batch_size))[0]\n",
    "#     task = asyncio.create_task(process_batch(first_batch))\n",
    "#     tasks.append(task)\n",
    "#     await asyncio.gather(*tasks)\n",
    "# "
   ],
   "metadata": {
    "collapsed": false,
    "ExecuteTime": {
     "end_time": "2023-11-25T19:04:35.189942Z",
     "start_time": "2023-11-25T19:04:35.186844Z"
    }
   },
   "id": "3b0db0669c274e7e"
  },
  {
   "cell_type": "code",
   "execution_count": 49,
   "outputs": [],
   "source": [
    "def get_structured_data(driver, city):\n",
    "    structured_data = {'Country': None, 'Region': None, 'City': None, 'State': None}\n",
    "    try:\n",
    "        driver.get(f\"https://www.bing.com/maps?q={city}\")\n",
    "        wait = WebDriverWait(driver, 10)\n",
    "        # Wait until the fact rows are present\n",
    "        wait.until(EC.presence_of_all_elements_located((By.CLASS_NAME, 'b_factrow')))\n",
    "        factrow_elements = driver.find_elements(By.CLASS_NAME, 'b_factrow')\n",
    "\n",
    "        for element in factrow_elements:\n",
    "            # Safely split the text and assign values\n",
    "            text_parts = element.text.split(':')\n",
    "            if len(text_parts) == 2 and text_parts[0] in structured_data:\n",
    "                structured_data[text_parts[0]] = text_parts[1].strip()\n",
    "\n",
    "    except Exception as e:\n",
    "        print(f\"An error occurred for {city}: {e}\")\n",
    "\n",
    "    return structured_data"
   ],
   "metadata": {
    "collapsed": false,
    "ExecuteTime": {
     "end_time": "2023-11-25T19:14:11.916693Z",
     "start_time": "2023-11-25T19:14:11.902669Z"
    }
   },
   "id": "52b397738f5db770"
  },
  {
   "cell_type": "code",
   "execution_count": 50,
   "outputs": [],
   "source": [
    "# Asynchronous function to process a batch of cities\n",
    "async def process_batch(batch,df):\n",
    "    service = Service(ChromeDriverManager().install())\n",
    "    driver = webdriver.Chrome(service=service, options=chrome_options)\n",
    "    for index, row in batch.iterrows():\n",
    "        data = get_structured_data(driver, row['city_unstructured'])\n",
    "        print(f\"Processed Index: {index}\")\n",
    "        for key, value in data.items():\n",
    "            df.at[index, key] = value\n",
    "    current_time = datetime.now().strftime(\"%Y%m%d%H%M%S\")\n",
    "    df.to_csv(f'./outputs/temp/{current_time}.csv', index=False)\n",
    "    driver.quit()"
   ],
   "metadata": {
    "collapsed": false,
    "ExecuteTime": {
     "end_time": "2023-11-25T19:14:12.269354Z",
     "start_time": "2023-11-25T19:14:12.259981Z"
    }
   },
   "id": "bd693a5a3bb974fb"
  },
  {
   "cell_type": "code",
   "execution_count": 61,
   "outputs": [],
   "source": [
    "async def process_all_batches_only_missing_rows(df, n_rows):\n",
    "    batch_size = 50\n",
    "    tasks = []\n",
    "    df = df.assign(**{col: None for col in ['Country', 'Region', 'City', 'State'] if col not in df.columns})\n",
    "    \n",
    "    os.makedirs('./outputs/temp', exist_ok=True)\n",
    "\n",
    "    # Filter rows where all the specified columns have missing values and limit the rows\n",
    "    missing_values_df = df[df[['Country', 'Region', 'City', 'State']].isna().all(axis=1)]\n",
    "    missing_values_df = missing_values_df.head(n_rows)\n",
    "\n",
    "    # Process these rows in batches if there are any\n",
    "    if not missing_values_df.empty:\n",
    "        for batch in np.array_split(missing_values_df, np.ceil(len(missing_values_df) / batch_size)):\n",
    "            task = asyncio.create_task(process_batch(batch,df))\n",
    "            tasks.append(task)\n",
    "        await asyncio.gather(*tasks)\n",
    "\n",
    "    return df"
   ],
   "metadata": {
    "collapsed": false,
    "ExecuteTime": {
     "end_time": "2023-11-25T19:28:13.682500Z",
     "start_time": "2023-11-25T19:28:13.679646Z"
    }
   },
   "id": "c82a45e076cef853"
  },
  {
   "cell_type": "code",
   "execution_count": 63,
   "outputs": [],
   "source": [
    "directory = \"./outputs/temp\"\n",
    "df = pd.read_csv(os.path.join(directory, max(f for f in os.listdir(directory) if f.endswith('.csv'))))\n",
    "#df = pd.read_csv('./outputs/data.csv')"
   ],
   "metadata": {
    "collapsed": false,
    "ExecuteTime": {
     "end_time": "2023-11-25T19:28:19.160752Z",
     "start_time": "2023-11-25T19:28:19.088435Z"
    }
   },
   "id": "809494bcf54b4e7"
  },
  {
   "cell_type": "code",
   "execution_count": 64,
   "outputs": [],
   "source": [
    "loop = asyncio.get_event_loop()\n",
    "#loop.create_task(proccess_first_batch())\n",
    "out = loop.create_task(process_all_batches_only_missing_rows(df,n_rows=2000))"
   ],
   "metadata": {
    "collapsed": false,
    "ExecuteTime": {
     "end_time": "2023-11-25T19:28:20.071168Z",
     "start_time": "2023-11-25T19:28:20.065769Z"
    }
   },
   "id": "a80d01a94ab91656"
  },
  {
   "cell_type": "code",
   "execution_count": 65,
   "outputs": [
    {
     "data": {
      "text/plain": "<Task finished name='Task-41' coro=<process_all_batches_only_missing_rows() done, defined at /var/folders/gf/bt25hkv172n_bttx0h72_6340000gn/T/ipykernel_48959/423986680.py:1> result=       Unname... x 13 columns]>"
     },
     "execution_count": 65,
     "metadata": {},
     "output_type": "execute_result"
    }
   ],
   "source": [
    "out"
   ],
   "metadata": {
    "collapsed": false,
    "ExecuteTime": {
     "end_time": "2023-11-25T20:54:51.948042Z",
     "start_time": "2023-11-25T20:54:51.931757Z"
    }
   },
   "id": "76d93df0a2cc4223"
  },
  {
   "cell_type": "code",
   "execution_count": null,
   "outputs": [],
   "source": [],
   "metadata": {
    "collapsed": false
   },
   "id": "8d067003f2cbed66"
  }
 ],
 "metadata": {
  "kernelspec": {
   "display_name": "Python 3",
   "language": "python",
   "name": "python3"
  },
  "language_info": {
   "codemirror_mode": {
    "name": "ipython",
    "version": 2
   },
   "file_extension": ".py",
   "mimetype": "text/x-python",
   "name": "python",
   "nbconvert_exporter": "python",
   "pygments_lexer": "ipython2",
   "version": "2.7.6"
  }
 },
 "nbformat": 4,
 "nbformat_minor": 5
}
