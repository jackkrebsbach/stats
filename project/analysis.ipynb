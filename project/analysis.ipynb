{
 "cells": [
  {
   "cell_type": "markdown",
   "source": [
    "#### Analysis\n",
    "Jack Krebsbach & Eli Edwards"
   ],
   "metadata": {
    "collapsed": false
   },
   "id": "42bf852e078ea8bc"
  },
  {
   "cell_type": "code",
   "execution_count": 42,
   "outputs": [],
   "source": [
    "import pandas as pd\n",
    "import numpy as np\n",
    "import text2emotion as te\n",
    "import gensim\n",
    "from gensim import corpora\n",
    "from nltk.corpus import stopwords\n",
    "from nltk.stem.wordnet import WordNetLemmatizer\n",
    "import string\n",
    "import pandas as pd\n",
    "from sklearn.metrics import accuracy_score\n",
    "\n",
    "import numpy as np\n",
    "from sklearn.decomposition import PCA\n",
    "from sklearn.preprocessing import StandardScaler\n",
    "import matplotlib.pyplot as plt\n",
    "from sklearn.metrics import confusion_matrix\n",
    "import seaborn as sns"
   ],
   "metadata": {
    "collapsed": false,
    "ExecuteTime": {
     "end_time": "2023-12-06T02:31:24.215405Z",
     "start_time": "2023-12-06T02:31:24.209365Z"
    }
   },
   "id": "aef2e1db470f6eb5"
  },
  {
   "cell_type": "code",
   "execution_count": 28,
   "outputs": [],
   "source": [
    "from sklearn.tree import (DecisionTreeClassifier as DTC, DecisionTreeRegressor as DTR, plot_tree , export_text)\n",
    "\n",
    "from sklearn.metrics import (accuracy_score ,\n",
    "log_loss)\n",
    "from sklearn.ensemble import \\\n",
    "(RandomForestRegressor as RF,RandomForestClassifier as RFC, GradientBoostingRegressor as GBR) \n",
    "from ISLP.bart import BART\n",
    "import sklearn.model_selection as skm"
   ],
   "metadata": {
    "collapsed": false,
    "ExecuteTime": {
     "end_time": "2023-12-06T02:26:54.110896Z",
     "start_time": "2023-12-06T02:26:54.108366Z"
    }
   },
   "id": "6a632bd8698c5e61"
  },
  {
   "cell_type": "code",
   "execution_count": 78,
   "outputs": [],
   "source": [
    "df = pd.read_csv(\"./clean_data/spotify_songs.csv\")\n",
    "df['playlist_genre'] = df['playlist_genre'].astype('category')"
   ],
   "metadata": {
    "collapsed": false,
    "ExecuteTime": {
     "end_time": "2023-12-06T02:39:09.751554Z",
     "start_time": "2023-12-06T02:39:09.627208Z"
    }
   },
   "id": "72047d92235ed0d7"
  },
  {
   "cell_type": "code",
   "execution_count": 79,
   "outputs": [
    {
     "data": {
      "text/plain": "                 track_id                                         track_name  \\\n0  6f807x0ima9a1j3VPbc7VN  I Don't Care (with Justin Bieber) - Loud Luxur...   \n1  0r7CVbZTWZgbTCYdfa2P31                    Memories - Dillon Francis Remix   \n2  1z1Hg7Vb0AhHDiEmnDE79l                    All the Time - Don Diablo Remix   \n3  75FpbthrwQmzHlBJLuGdC7                  Call You Mine - Keanu Silva Remix   \n4  1e8PAfcKUYoKkxPhrHqw4x            Someone You Loved - Future Humans Remix   \n\n       track_artist  track_popularity          track_album_id  \\\n0        Ed Sheeran                66  2oCs0DGTsRO98Gh5ZSl2Cx   \n1          Maroon 5                67  63rPSO264uRjW1X5E6cWv6   \n2      Zara Larsson                70  1HoSmj2eLcsrR0vE9gThr4   \n3  The Chainsmokers                60  1nqYsOef1yKKuGOVchbsk6   \n4     Lewis Capaldi                69  7m7vv9wlQ4i0LFuJiE2zsQ   \n\n                                    track_album_name track_album_release_date  \\\n0  I Don't Care (with Justin Bieber) [Loud Luxury...               2019-06-14   \n1                    Memories (Dillon Francis Remix)               2019-12-13   \n2                    All the Time (Don Diablo Remix)               2019-07-05   \n3                        Call You Mine - The Remixes               2019-07-19   \n4            Someone You Loved (Future Humans Remix)               2019-03-05   \n\n  playlist_name             playlist_id playlist_genre  ... key  loudness  \\\n0     Pop Remix  37i9dQZF1DXcZDD7cfEKhW            pop  ...   6    -2.634   \n1     Pop Remix  37i9dQZF1DXcZDD7cfEKhW            pop  ...  11    -4.969   \n2     Pop Remix  37i9dQZF1DXcZDD7cfEKhW            pop  ...   1    -3.432   \n3     Pop Remix  37i9dQZF1DXcZDD7cfEKhW            pop  ...   7    -3.778   \n4     Pop Remix  37i9dQZF1DXcZDD7cfEKhW            pop  ...   1    -4.672   \n\n   mode  speechiness  acousticness  instrumentalness  liveness  valence  \\\n0     1       0.0583        0.1020          0.000000    0.0653    0.518   \n1     1       0.0373        0.0724          0.004210    0.3570    0.693   \n2     0       0.0742        0.0794          0.000023    0.1100    0.613   \n3     1       0.1020        0.0287          0.000009    0.2040    0.277   \n4     1       0.0359        0.0803          0.000000    0.0833    0.725   \n\n     tempo  duration_ms  \n0  122.036       194754  \n1   99.972       162600  \n2  124.008       176616  \n3  121.956       169093  \n4  123.976       189052  \n\n[5 rows x 23 columns]",
      "text/html": "<div>\n<style scoped>\n    .dataframe tbody tr th:only-of-type {\n        vertical-align: middle;\n    }\n\n    .dataframe tbody tr th {\n        vertical-align: top;\n    }\n\n    .dataframe thead th {\n        text-align: right;\n    }\n</style>\n<table border=\"1\" class=\"dataframe\">\n  <thead>\n    <tr style=\"text-align: right;\">\n      <th></th>\n      <th>track_id</th>\n      <th>track_name</th>\n      <th>track_artist</th>\n      <th>track_popularity</th>\n      <th>track_album_id</th>\n      <th>track_album_name</th>\n      <th>track_album_release_date</th>\n      <th>playlist_name</th>\n      <th>playlist_id</th>\n      <th>playlist_genre</th>\n      <th>...</th>\n      <th>key</th>\n      <th>loudness</th>\n      <th>mode</th>\n      <th>speechiness</th>\n      <th>acousticness</th>\n      <th>instrumentalness</th>\n      <th>liveness</th>\n      <th>valence</th>\n      <th>tempo</th>\n      <th>duration_ms</th>\n    </tr>\n  </thead>\n  <tbody>\n    <tr>\n      <th>0</th>\n      <td>6f807x0ima9a1j3VPbc7VN</td>\n      <td>I Don't Care (with Justin Bieber) - Loud Luxur...</td>\n      <td>Ed Sheeran</td>\n      <td>66</td>\n      <td>2oCs0DGTsRO98Gh5ZSl2Cx</td>\n      <td>I Don't Care (with Justin Bieber) [Loud Luxury...</td>\n      <td>2019-06-14</td>\n      <td>Pop Remix</td>\n      <td>37i9dQZF1DXcZDD7cfEKhW</td>\n      <td>pop</td>\n      <td>...</td>\n      <td>6</td>\n      <td>-2.634</td>\n      <td>1</td>\n      <td>0.0583</td>\n      <td>0.1020</td>\n      <td>0.000000</td>\n      <td>0.0653</td>\n      <td>0.518</td>\n      <td>122.036</td>\n      <td>194754</td>\n    </tr>\n    <tr>\n      <th>1</th>\n      <td>0r7CVbZTWZgbTCYdfa2P31</td>\n      <td>Memories - Dillon Francis Remix</td>\n      <td>Maroon 5</td>\n      <td>67</td>\n      <td>63rPSO264uRjW1X5E6cWv6</td>\n      <td>Memories (Dillon Francis Remix)</td>\n      <td>2019-12-13</td>\n      <td>Pop Remix</td>\n      <td>37i9dQZF1DXcZDD7cfEKhW</td>\n      <td>pop</td>\n      <td>...</td>\n      <td>11</td>\n      <td>-4.969</td>\n      <td>1</td>\n      <td>0.0373</td>\n      <td>0.0724</td>\n      <td>0.004210</td>\n      <td>0.3570</td>\n      <td>0.693</td>\n      <td>99.972</td>\n      <td>162600</td>\n    </tr>\n    <tr>\n      <th>2</th>\n      <td>1z1Hg7Vb0AhHDiEmnDE79l</td>\n      <td>All the Time - Don Diablo Remix</td>\n      <td>Zara Larsson</td>\n      <td>70</td>\n      <td>1HoSmj2eLcsrR0vE9gThr4</td>\n      <td>All the Time (Don Diablo Remix)</td>\n      <td>2019-07-05</td>\n      <td>Pop Remix</td>\n      <td>37i9dQZF1DXcZDD7cfEKhW</td>\n      <td>pop</td>\n      <td>...</td>\n      <td>1</td>\n      <td>-3.432</td>\n      <td>0</td>\n      <td>0.0742</td>\n      <td>0.0794</td>\n      <td>0.000023</td>\n      <td>0.1100</td>\n      <td>0.613</td>\n      <td>124.008</td>\n      <td>176616</td>\n    </tr>\n    <tr>\n      <th>3</th>\n      <td>75FpbthrwQmzHlBJLuGdC7</td>\n      <td>Call You Mine - Keanu Silva Remix</td>\n      <td>The Chainsmokers</td>\n      <td>60</td>\n      <td>1nqYsOef1yKKuGOVchbsk6</td>\n      <td>Call You Mine - The Remixes</td>\n      <td>2019-07-19</td>\n      <td>Pop Remix</td>\n      <td>37i9dQZF1DXcZDD7cfEKhW</td>\n      <td>pop</td>\n      <td>...</td>\n      <td>7</td>\n      <td>-3.778</td>\n      <td>1</td>\n      <td>0.1020</td>\n      <td>0.0287</td>\n      <td>0.000009</td>\n      <td>0.2040</td>\n      <td>0.277</td>\n      <td>121.956</td>\n      <td>169093</td>\n    </tr>\n    <tr>\n      <th>4</th>\n      <td>1e8PAfcKUYoKkxPhrHqw4x</td>\n      <td>Someone You Loved - Future Humans Remix</td>\n      <td>Lewis Capaldi</td>\n      <td>69</td>\n      <td>7m7vv9wlQ4i0LFuJiE2zsQ</td>\n      <td>Someone You Loved (Future Humans Remix)</td>\n      <td>2019-03-05</td>\n      <td>Pop Remix</td>\n      <td>37i9dQZF1DXcZDD7cfEKhW</td>\n      <td>pop</td>\n      <td>...</td>\n      <td>1</td>\n      <td>-4.672</td>\n      <td>1</td>\n      <td>0.0359</td>\n      <td>0.0803</td>\n      <td>0.000000</td>\n      <td>0.0833</td>\n      <td>0.725</td>\n      <td>123.976</td>\n      <td>189052</td>\n    </tr>\n  </tbody>\n</table>\n<p>5 rows × 23 columns</p>\n</div>"
     },
     "execution_count": 79,
     "metadata": {},
     "output_type": "execute_result"
    }
   ],
   "source": [
    "df.head()"
   ],
   "metadata": {
    "collapsed": false,
    "ExecuteTime": {
     "end_time": "2023-12-06T02:39:10.507728Z",
     "start_time": "2023-12-06T02:39:10.494837Z"
    }
   },
   "id": "9fd8f8b828ab3252"
  },
  {
   "cell_type": "code",
   "execution_count": 80,
   "outputs": [],
   "source": [
    "rfc = RFC(random_state=0)"
   ],
   "metadata": {
    "collapsed": false,
    "ExecuteTime": {
     "end_time": "2023-12-06T02:39:11.461963Z",
     "start_time": "2023-12-06T02:39:11.451204Z"
    }
   },
   "id": "b5379ace216df89f"
  },
  {
   "cell_type": "code",
   "execution_count": 81,
   "outputs": [],
   "source": [
    "(train, test) = skm.train_test_split(df, test_size=0.20, random_state=0)"
   ],
   "metadata": {
    "collapsed": false,
    "ExecuteTime": {
     "end_time": "2023-12-06T02:39:12.297394Z",
     "start_time": "2023-12-06T02:39:12.284395Z"
    }
   },
   "id": "af3b068ea85b1f6a"
  },
  {
   "cell_type": "code",
   "execution_count": 82,
   "outputs": [
    {
     "data": {
      "text/plain": "                     track_id                                 track_name  \\\n31034  3bT5PDBhVj4ifU11zQvGP2                                 Red Lights   \n23457  2P91MQbaiQOfbiz9VqhqKQ                           I Like Me Better   \n10726  17r16Atqljpae7Jggjds2W                            Qarabag (Remix)   \n19148  5A2fkyeIbRqwXGkIdadL5q          Un Poco Loca (feat. De La Ghetto)   \n1533   34iOdwktu3ZDhujxpsAqe7                               Stuck On You   \n...                       ...                                        ...   \n22988  7nv4M6OoCpXUPDuuRyUPM9                                     Lately   \n15991  4YUiaAd06ErtRJyfyAi0kZ                                  Barracuda   \n31053  2717O30PeUJbOVX7N0AaDJ  Gloria (feat. Andy Reznik) - Extended Mix   \n13768  7x8dCjCr0x6x2lXKujYD34                              The Pretender   \n12759  4WSbbEjRQ7uE3IT9crL10B                             What Can I Say   \n\n         track_artist  track_popularity          track_album_id  \\\n31034          Tiësto                 5  6r4WlaL3yGXz3HLWxJwsdc   \n23457            Lauv                79  7lqieLm717j9Z8JrG7POkS   \n10726         Cricced                38  1z56hPZwaeqanBAyFdsZIJ   \n19148  Jowell & Randy                58  1tYGsYdYq3svOlTzAlojm1   \n1533      Nick Strand                39  7l32WTeC5bxmYNLtEWml4m   \n...               ...               ...                     ...   \n22988         Celeste                56  7MnZ0niFxkTVJkEX9pakbM   \n15991           Heart                 0  36X4WdQjW2JAZhn77fNRYc   \n31053      PH Electro                 0  4AaxEBFcTRjL0Trv5LMSPM   \n13768    Foo Fighters                76  3ilXDEG0xiajK8AbqboeJz   \n12759      Boz Scaggs                52  7DysI4j6UqK00RTfETKXqs   \n\n                              track_album_name track_album_release_date  \\\n31034                               Red Lights               2013-12-13   \n23457  I met you when I was 18. (the playlist)               2018-05-31   \n10726                                   Legend               2018-04-24   \n19148            Los Mas Sueltos Del Reggaeton               2007-12-18   \n1533                              Stuck On You               2019-09-20   \n...                                        ...                      ...   \n22988                          Compilation 1.1               2019-12-06   \n15991         Playlist: The Very Best Of Heart                     2008   \n31053               Gloria (feat. Andy Reznik)               2014-03-28   \n13768        Echoes, Silence, Patience & Grace               2007-09-25   \n12759                             Silk Degrees                     1976   \n\n                                           playlist_name  \\\n31034  Fitness Workout Electro | House | Dance | Prog...   \n23457                                       Hip Pop 2019   \n10726                                        Arabic Trap   \n19148                                  Reggaeton De Ayer   \n1533   post-teen alternative, indie, pop (large variety)   \n...                                                  ...   \n22988                                      Pop Hits 2020   \n15991                                      70s Hard Rock   \n31053  Fitness Workout Electro | House | Dance | Prog...   \n13768                                     Permanent wave   \n12759                                    Soft Rock Drive   \n\n                  playlist_id playlist_genre  ... key  loudness  mode  \\\n31034  6KnQDwp0syvhfHOR4lWP7x            edm  ...  10    -4.783     1   \n23457  3tmx4p5RGlOV1AapXOt1Ze            r&b  ...   9    -7.621     1   \n10726  37i9dQZF1DXcC6YLqj8ET8            rap  ...   0   -11.846     1   \n19148  37i9dQZF1DWWU6Rfto8Ppm          latin  ...   2    -4.750     1   \n1533   1y42gwI5cuwjBslPyQNfqb            pop  ...   1    -2.866     0   \n...                       ...            ...  ...  ..       ...   ...   \n22988  5TDtuKDbOhrfW7C58XnriZ            r&b  ...   7    -9.237     0   \n15991  6pZlZ20vt3aDjIKw98aBtQ           rock  ...   4    -4.282     0   \n31053  6KnQDwp0syvhfHOR4lWP7x            edm  ...   4    -4.224     1   \n13768  0tOy7ZY4E2PadXIyj8zU43           rock  ...   9    -4.040     1   \n12759  37i9dQZF1DX6TIU4D13lOY           rock  ...   7    -6.522     1   \n\n       speechiness  acousticness  instrumentalness  liveness  valence  \\\n31034       0.0377      0.000739          0.000002    0.2250   0.5450   \n23457       0.2530      0.535000          0.000003    0.1040   0.4190   \n10726       0.2010      0.003450          0.872000    0.1330   0.0786   \n19148       0.1620      0.221000          0.001100    0.1560   0.8080   \n1533        0.0748      0.429000          0.000000    0.1460   0.4360   \n...            ...           ...               ...       ...      ...   \n22988       0.0421      0.402000          0.000125    0.0946   0.4780   \n15991       0.0612      0.003800          0.036900    0.1430   0.6150   \n31053       0.1040      0.018200          0.000004    0.0906   0.7920   \n13768       0.0431      0.000917          0.000000    0.0280   0.3650   \n12759       0.0325      0.116000          0.007250    0.0556   0.7860   \n\n         tempo  duration_ms  \n31034  124.989       263890  \n23457   91.970       197437  \n10726  130.022       156996  \n19148  176.098       273160  \n1533   146.001       158467  \n...        ...          ...  \n22988  133.625       251886  \n15991  137.330       262973  \n31053  126.022       282357  \n13768  172.984       269373  \n12759  114.987       180693  \n\n[6567 rows x 23 columns]",
      "text/html": "<div>\n<style scoped>\n    .dataframe tbody tr th:only-of-type {\n        vertical-align: middle;\n    }\n\n    .dataframe tbody tr th {\n        vertical-align: top;\n    }\n\n    .dataframe thead th {\n        text-align: right;\n    }\n</style>\n<table border=\"1\" class=\"dataframe\">\n  <thead>\n    <tr style=\"text-align: right;\">\n      <th></th>\n      <th>track_id</th>\n      <th>track_name</th>\n      <th>track_artist</th>\n      <th>track_popularity</th>\n      <th>track_album_id</th>\n      <th>track_album_name</th>\n      <th>track_album_release_date</th>\n      <th>playlist_name</th>\n      <th>playlist_id</th>\n      <th>playlist_genre</th>\n      <th>...</th>\n      <th>key</th>\n      <th>loudness</th>\n      <th>mode</th>\n      <th>speechiness</th>\n      <th>acousticness</th>\n      <th>instrumentalness</th>\n      <th>liveness</th>\n      <th>valence</th>\n      <th>tempo</th>\n      <th>duration_ms</th>\n    </tr>\n  </thead>\n  <tbody>\n    <tr>\n      <th>31034</th>\n      <td>3bT5PDBhVj4ifU11zQvGP2</td>\n      <td>Red Lights</td>\n      <td>Tiësto</td>\n      <td>5</td>\n      <td>6r4WlaL3yGXz3HLWxJwsdc</td>\n      <td>Red Lights</td>\n      <td>2013-12-13</td>\n      <td>Fitness Workout Electro | House | Dance | Prog...</td>\n      <td>6KnQDwp0syvhfHOR4lWP7x</td>\n      <td>edm</td>\n      <td>...</td>\n      <td>10</td>\n      <td>-4.783</td>\n      <td>1</td>\n      <td>0.0377</td>\n      <td>0.000739</td>\n      <td>0.000002</td>\n      <td>0.2250</td>\n      <td>0.5450</td>\n      <td>124.989</td>\n      <td>263890</td>\n    </tr>\n    <tr>\n      <th>23457</th>\n      <td>2P91MQbaiQOfbiz9VqhqKQ</td>\n      <td>I Like Me Better</td>\n      <td>Lauv</td>\n      <td>79</td>\n      <td>7lqieLm717j9Z8JrG7POkS</td>\n      <td>I met you when I was 18. (the playlist)</td>\n      <td>2018-05-31</td>\n      <td>Hip Pop 2019</td>\n      <td>3tmx4p5RGlOV1AapXOt1Ze</td>\n      <td>r&amp;b</td>\n      <td>...</td>\n      <td>9</td>\n      <td>-7.621</td>\n      <td>1</td>\n      <td>0.2530</td>\n      <td>0.535000</td>\n      <td>0.000003</td>\n      <td>0.1040</td>\n      <td>0.4190</td>\n      <td>91.970</td>\n      <td>197437</td>\n    </tr>\n    <tr>\n      <th>10726</th>\n      <td>17r16Atqljpae7Jggjds2W</td>\n      <td>Qarabag (Remix)</td>\n      <td>Cricced</td>\n      <td>38</td>\n      <td>1z56hPZwaeqanBAyFdsZIJ</td>\n      <td>Legend</td>\n      <td>2018-04-24</td>\n      <td>Arabic Trap</td>\n      <td>37i9dQZF1DXcC6YLqj8ET8</td>\n      <td>rap</td>\n      <td>...</td>\n      <td>0</td>\n      <td>-11.846</td>\n      <td>1</td>\n      <td>0.2010</td>\n      <td>0.003450</td>\n      <td>0.872000</td>\n      <td>0.1330</td>\n      <td>0.0786</td>\n      <td>130.022</td>\n      <td>156996</td>\n    </tr>\n    <tr>\n      <th>19148</th>\n      <td>5A2fkyeIbRqwXGkIdadL5q</td>\n      <td>Un Poco Loca (feat. De La Ghetto)</td>\n      <td>Jowell &amp; Randy</td>\n      <td>58</td>\n      <td>1tYGsYdYq3svOlTzAlojm1</td>\n      <td>Los Mas Sueltos Del Reggaeton</td>\n      <td>2007-12-18</td>\n      <td>Reggaeton De Ayer</td>\n      <td>37i9dQZF1DWWU6Rfto8Ppm</td>\n      <td>latin</td>\n      <td>...</td>\n      <td>2</td>\n      <td>-4.750</td>\n      <td>1</td>\n      <td>0.1620</td>\n      <td>0.221000</td>\n      <td>0.001100</td>\n      <td>0.1560</td>\n      <td>0.8080</td>\n      <td>176.098</td>\n      <td>273160</td>\n    </tr>\n    <tr>\n      <th>1533</th>\n      <td>34iOdwktu3ZDhujxpsAqe7</td>\n      <td>Stuck On You</td>\n      <td>Nick Strand</td>\n      <td>39</td>\n      <td>7l32WTeC5bxmYNLtEWml4m</td>\n      <td>Stuck On You</td>\n      <td>2019-09-20</td>\n      <td>post-teen alternative, indie, pop (large variety)</td>\n      <td>1y42gwI5cuwjBslPyQNfqb</td>\n      <td>pop</td>\n      <td>...</td>\n      <td>1</td>\n      <td>-2.866</td>\n      <td>0</td>\n      <td>0.0748</td>\n      <td>0.429000</td>\n      <td>0.000000</td>\n      <td>0.1460</td>\n      <td>0.4360</td>\n      <td>146.001</td>\n      <td>158467</td>\n    </tr>\n    <tr>\n      <th>...</th>\n      <td>...</td>\n      <td>...</td>\n      <td>...</td>\n      <td>...</td>\n      <td>...</td>\n      <td>...</td>\n      <td>...</td>\n      <td>...</td>\n      <td>...</td>\n      <td>...</td>\n      <td>...</td>\n      <td>...</td>\n      <td>...</td>\n      <td>...</td>\n      <td>...</td>\n      <td>...</td>\n      <td>...</td>\n      <td>...</td>\n      <td>...</td>\n      <td>...</td>\n      <td>...</td>\n    </tr>\n    <tr>\n      <th>22988</th>\n      <td>7nv4M6OoCpXUPDuuRyUPM9</td>\n      <td>Lately</td>\n      <td>Celeste</td>\n      <td>56</td>\n      <td>7MnZ0niFxkTVJkEX9pakbM</td>\n      <td>Compilation 1.1</td>\n      <td>2019-12-06</td>\n      <td>Pop Hits 2020</td>\n      <td>5TDtuKDbOhrfW7C58XnriZ</td>\n      <td>r&amp;b</td>\n      <td>...</td>\n      <td>7</td>\n      <td>-9.237</td>\n      <td>0</td>\n      <td>0.0421</td>\n      <td>0.402000</td>\n      <td>0.000125</td>\n      <td>0.0946</td>\n      <td>0.4780</td>\n      <td>133.625</td>\n      <td>251886</td>\n    </tr>\n    <tr>\n      <th>15991</th>\n      <td>4YUiaAd06ErtRJyfyAi0kZ</td>\n      <td>Barracuda</td>\n      <td>Heart</td>\n      <td>0</td>\n      <td>36X4WdQjW2JAZhn77fNRYc</td>\n      <td>Playlist: The Very Best Of Heart</td>\n      <td>2008</td>\n      <td>70s Hard Rock</td>\n      <td>6pZlZ20vt3aDjIKw98aBtQ</td>\n      <td>rock</td>\n      <td>...</td>\n      <td>4</td>\n      <td>-4.282</td>\n      <td>0</td>\n      <td>0.0612</td>\n      <td>0.003800</td>\n      <td>0.036900</td>\n      <td>0.1430</td>\n      <td>0.6150</td>\n      <td>137.330</td>\n      <td>262973</td>\n    </tr>\n    <tr>\n      <th>31053</th>\n      <td>2717O30PeUJbOVX7N0AaDJ</td>\n      <td>Gloria (feat. Andy Reznik) - Extended Mix</td>\n      <td>PH Electro</td>\n      <td>0</td>\n      <td>4AaxEBFcTRjL0Trv5LMSPM</td>\n      <td>Gloria (feat. Andy Reznik)</td>\n      <td>2014-03-28</td>\n      <td>Fitness Workout Electro | House | Dance | Prog...</td>\n      <td>6KnQDwp0syvhfHOR4lWP7x</td>\n      <td>edm</td>\n      <td>...</td>\n      <td>4</td>\n      <td>-4.224</td>\n      <td>1</td>\n      <td>0.1040</td>\n      <td>0.018200</td>\n      <td>0.000004</td>\n      <td>0.0906</td>\n      <td>0.7920</td>\n      <td>126.022</td>\n      <td>282357</td>\n    </tr>\n    <tr>\n      <th>13768</th>\n      <td>7x8dCjCr0x6x2lXKujYD34</td>\n      <td>The Pretender</td>\n      <td>Foo Fighters</td>\n      <td>76</td>\n      <td>3ilXDEG0xiajK8AbqboeJz</td>\n      <td>Echoes, Silence, Patience &amp; Grace</td>\n      <td>2007-09-25</td>\n      <td>Permanent wave</td>\n      <td>0tOy7ZY4E2PadXIyj8zU43</td>\n      <td>rock</td>\n      <td>...</td>\n      <td>9</td>\n      <td>-4.040</td>\n      <td>1</td>\n      <td>0.0431</td>\n      <td>0.000917</td>\n      <td>0.000000</td>\n      <td>0.0280</td>\n      <td>0.3650</td>\n      <td>172.984</td>\n      <td>269373</td>\n    </tr>\n    <tr>\n      <th>12759</th>\n      <td>4WSbbEjRQ7uE3IT9crL10B</td>\n      <td>What Can I Say</td>\n      <td>Boz Scaggs</td>\n      <td>52</td>\n      <td>7DysI4j6UqK00RTfETKXqs</td>\n      <td>Silk Degrees</td>\n      <td>1976</td>\n      <td>Soft Rock Drive</td>\n      <td>37i9dQZF1DX6TIU4D13lOY</td>\n      <td>rock</td>\n      <td>...</td>\n      <td>7</td>\n      <td>-6.522</td>\n      <td>1</td>\n      <td>0.0325</td>\n      <td>0.116000</td>\n      <td>0.007250</td>\n      <td>0.0556</td>\n      <td>0.7860</td>\n      <td>114.987</td>\n      <td>180693</td>\n    </tr>\n  </tbody>\n</table>\n<p>6567 rows × 23 columns</p>\n</div>"
     },
     "execution_count": 82,
     "metadata": {},
     "output_type": "execute_result"
    }
   ],
   "source": [
    "test"
   ],
   "metadata": {
    "collapsed": false,
    "ExecuteTime": {
     "end_time": "2023-12-06T02:39:12.882259Z",
     "start_time": "2023-12-06T02:39:12.877878Z"
    }
   },
   "id": "71b696bc27094156"
  },
  {
   "cell_type": "code",
   "execution_count": 83,
   "outputs": [
    {
     "data": {
      "text/plain": "Index(['track_id', 'track_name', 'track_artist', 'track_popularity',\n       'track_album_id', 'track_album_name', 'track_album_release_date',\n       'playlist_name', 'playlist_id', 'playlist_genre', 'playlist_subgenre',\n       'danceability', 'energy', 'key', 'loudness', 'mode', 'speechiness',\n       'acousticness', 'instrumentalness', 'liveness', 'valence', 'tempo',\n       'duration_ms'],\n      dtype='object')"
     },
     "execution_count": 83,
     "metadata": {},
     "output_type": "execute_result"
    }
   ],
   "source": [
    "df.columns"
   ],
   "metadata": {
    "collapsed": false,
    "ExecuteTime": {
     "end_time": "2023-12-06T02:39:13.729195Z",
     "start_time": "2023-12-06T02:39:13.723931Z"
    }
   },
   "id": "712506e950ebfb77"
  },
  {
   "cell_type": "code",
   "execution_count": 95,
   "outputs": [
    {
     "data": {
      "text/plain": "RandomForestClassifier(random_state=0)",
      "text/html": "<style>#sk-container-id-5 {color: black;background-color: white;}#sk-container-id-5 pre{padding: 0;}#sk-container-id-5 div.sk-toggleable {background-color: white;}#sk-container-id-5 label.sk-toggleable__label {cursor: pointer;display: block;width: 100%;margin-bottom: 0;padding: 0.3em;box-sizing: border-box;text-align: center;}#sk-container-id-5 label.sk-toggleable__label-arrow:before {content: \"▸\";float: left;margin-right: 0.25em;color: #696969;}#sk-container-id-5 label.sk-toggleable__label-arrow:hover:before {color: black;}#sk-container-id-5 div.sk-estimator:hover label.sk-toggleable__label-arrow:before {color: black;}#sk-container-id-5 div.sk-toggleable__content {max-height: 0;max-width: 0;overflow: hidden;text-align: left;background-color: #f0f8ff;}#sk-container-id-5 div.sk-toggleable__content pre {margin: 0.2em;color: black;border-radius: 0.25em;background-color: #f0f8ff;}#sk-container-id-5 input.sk-toggleable__control:checked~div.sk-toggleable__content {max-height: 200px;max-width: 100%;overflow: auto;}#sk-container-id-5 input.sk-toggleable__control:checked~label.sk-toggleable__label-arrow:before {content: \"▾\";}#sk-container-id-5 div.sk-estimator input.sk-toggleable__control:checked~label.sk-toggleable__label {background-color: #d4ebff;}#sk-container-id-5 div.sk-label input.sk-toggleable__control:checked~label.sk-toggleable__label {background-color: #d4ebff;}#sk-container-id-5 input.sk-hidden--visually {border: 0;clip: rect(1px 1px 1px 1px);clip: rect(1px, 1px, 1px, 1px);height: 1px;margin: -1px;overflow: hidden;padding: 0;position: absolute;width: 1px;}#sk-container-id-5 div.sk-estimator {font-family: monospace;background-color: #f0f8ff;border: 1px dotted black;border-radius: 0.25em;box-sizing: border-box;margin-bottom: 0.5em;}#sk-container-id-5 div.sk-estimator:hover {background-color: #d4ebff;}#sk-container-id-5 div.sk-parallel-item::after {content: \"\";width: 100%;border-bottom: 1px solid gray;flex-grow: 1;}#sk-container-id-5 div.sk-label:hover label.sk-toggleable__label {background-color: #d4ebff;}#sk-container-id-5 div.sk-serial::before {content: \"\";position: absolute;border-left: 1px solid gray;box-sizing: border-box;top: 0;bottom: 0;left: 50%;z-index: 0;}#sk-container-id-5 div.sk-serial {display: flex;flex-direction: column;align-items: center;background-color: white;padding-right: 0.2em;padding-left: 0.2em;position: relative;}#sk-container-id-5 div.sk-item {position: relative;z-index: 1;}#sk-container-id-5 div.sk-parallel {display: flex;align-items: stretch;justify-content: center;background-color: white;position: relative;}#sk-container-id-5 div.sk-item::before, #sk-container-id-5 div.sk-parallel-item::before {content: \"\";position: absolute;border-left: 1px solid gray;box-sizing: border-box;top: 0;bottom: 0;left: 50%;z-index: -1;}#sk-container-id-5 div.sk-parallel-item {display: flex;flex-direction: column;z-index: 1;position: relative;background-color: white;}#sk-container-id-5 div.sk-parallel-item:first-child::after {align-self: flex-end;width: 50%;}#sk-container-id-5 div.sk-parallel-item:last-child::after {align-self: flex-start;width: 50%;}#sk-container-id-5 div.sk-parallel-item:only-child::after {width: 0;}#sk-container-id-5 div.sk-dashed-wrapped {border: 1px dashed gray;margin: 0 0.4em 0.5em 0.4em;box-sizing: border-box;padding-bottom: 0.4em;background-color: white;}#sk-container-id-5 div.sk-label label {font-family: monospace;font-weight: bold;display: inline-block;line-height: 1.2em;}#sk-container-id-5 div.sk-label-container {text-align: center;}#sk-container-id-5 div.sk-container {/* jupyter's `normalize.less` sets `[hidden] { display: none; }` but bootstrap.min.css set `[hidden] { display: none !important; }` so we also need the `!important` here to be able to override the default hidden behavior on the sphinx rendered scikit-learn.org. See: https://github.com/scikit-learn/scikit-learn/issues/21755 */display: inline-block !important;position: relative;}#sk-container-id-5 div.sk-text-repr-fallback {display: none;}</style><div id=\"sk-container-id-5\" class=\"sk-top-container\"><div class=\"sk-text-repr-fallback\"><pre>RandomForestClassifier(random_state=0)</pre><b>In a Jupyter environment, please rerun this cell to show the HTML representation or trust the notebook. <br />On GitHub, the HTML representation is unable to render, please try loading this page with nbviewer.org.</b></div><div class=\"sk-container\" hidden><div class=\"sk-item\"><div class=\"sk-estimator sk-toggleable\"><input class=\"sk-toggleable__control sk-hidden--visually\" id=\"sk-estimator-id-5\" type=\"checkbox\" checked><label for=\"sk-estimator-id-5\" class=\"sk-toggleable__label sk-toggleable__label-arrow\">RandomForestClassifier</label><div class=\"sk-toggleable__content\"><pre>RandomForestClassifier(random_state=0)</pre></div></div></div></div></div>"
     },
     "execution_count": 95,
     "metadata": {},
     "output_type": "execute_result"
    }
   ],
   "source": [
    "cols = ['track_popularity',\n",
    "        'danceability', \n",
    "        'energy', \n",
    "        'key', \n",
    "        'loudness', \n",
    "        'mode', \n",
    "        'speechiness', \n",
    "        'acousticness', \n",
    "        'instrumentalness', \n",
    "        'liveness', \n",
    "        'valence', \n",
    "        'tempo', \n",
    "        'duration_ms']\n",
    "\n",
    "train['playlist_genre'] = train['playlist_genre'].astype('category')\n",
    "\n",
    "x_train = train[cols]\n",
    "genre_train = train.playlist_genre\n",
    "rfc.fit(x_train, genre_train)"
   ],
   "metadata": {
    "collapsed": false,
    "ExecuteTime": {
     "end_time": "2023-12-06T02:39:52.505786Z",
     "start_time": "2023-12-06T02:39:47.792361Z"
    }
   },
   "id": "a391dbae2e01af6a"
  },
  {
   "cell_type": "code",
   "execution_count": 85,
   "outputs": [],
   "source": [
    "test['playlist_genre'] = test['playlist_genre'].astype('category')"
   ],
   "metadata": {
    "collapsed": false,
    "ExecuteTime": {
     "end_time": "2023-12-06T02:39:20.387392Z",
     "start_time": "2023-12-06T02:39:20.382952Z"
    }
   },
   "id": "2b0c1e421502900d"
  },
  {
   "cell_type": "code",
   "execution_count": 86,
   "outputs": [],
   "source": [
    "x_test = test[cols]\n",
    "genre_test = test.playlist_genre\n",
    "pred = rfc.predict(x_test)"
   ],
   "metadata": {
    "collapsed": false,
    "ExecuteTime": {
     "end_time": "2023-12-06T02:39:24.129035Z",
     "start_time": "2023-12-06T02:39:23.987333Z"
    }
   },
   "id": "e2bc416a4c423e68"
  },
  {
   "cell_type": "code",
   "execution_count": 87,
   "outputs": [],
   "source": [
    "cm = confusion_matrix(genre_test, pred)"
   ],
   "metadata": {
    "collapsed": false,
    "ExecuteTime": {
     "end_time": "2023-12-06T02:39:24.794129Z",
     "start_time": "2023-12-06T02:39:24.783036Z"
    }
   },
   "id": "5167c46d1b0494c3"
  },
  {
   "cell_type": "code",
   "execution_count": 88,
   "outputs": [
    {
     "data": {
      "text/plain": "array([[847,  69, 175,  48,  66,  37],\n       [100, 414, 185, 119, 161,  47],\n       [167, 135, 393, 148,  83, 166],\n       [ 45,  89, 150, 502, 214,  78],\n       [ 63,  83,  59, 155, 746,  40],\n       [ 36,  26,  71,  67,  17, 766]])"
     },
     "execution_count": 88,
     "metadata": {},
     "output_type": "execute_result"
    }
   ],
   "source": [
    "cm"
   ],
   "metadata": {
    "collapsed": false,
    "ExecuteTime": {
     "end_time": "2023-12-06T02:39:26.884963Z",
     "start_time": "2023-12-06T02:39:26.876790Z"
    }
   },
   "id": "eb7101d14f80796c"
  },
  {
   "cell_type": "code",
   "execution_count": 90,
   "outputs": [
    {
     "name": "stdout",
     "output_type": "stream",
     "text": [
      "Accuracy: 0.56\n"
     ]
    }
   ],
   "source": [
    "accuracy = accuracy_score(genre_test, pred)\n",
    "print(f\"Accuracy: {accuracy:.2f}\")"
   ],
   "metadata": {
    "collapsed": false,
    "ExecuteTime": {
     "end_time": "2023-12-06T02:39:30.634428Z",
     "start_time": "2023-12-06T02:39:30.630934Z"
    }
   },
   "id": "1d1d481c2abf2665"
  },
  {
   "cell_type": "code",
   "execution_count": 91,
   "outputs": [
    {
     "name": "stdout",
     "output_type": "stream",
     "text": [
      "Accuracy: 0.94\n"
     ]
    }
   ],
   "source": [
    "pred_train = rfc.predict(x_train)\n",
    "accuracy_train = accuracy_score(train.playlist_genre, pred_train)\n",
    "print(f\"Accuracy: {accuracy_train:.2f}\")"
   ],
   "metadata": {
    "collapsed": false,
    "ExecuteTime": {
     "end_time": "2023-12-06T02:39:31.468811Z",
     "start_time": "2023-12-06T02:39:31.019388Z"
    }
   },
   "id": "9a6d3e037fad64b7"
  },
  {
   "cell_type": "code",
   "execution_count": 92,
   "outputs": [
    {
     "data": {
      "text/plain": "0.5585503273945485"
     },
     "execution_count": 92,
     "metadata": {},
     "output_type": "execute_result"
    }
   ],
   "source": [
    "np.trace(cm)/np.sum(cm)"
   ],
   "metadata": {
    "collapsed": false,
    "ExecuteTime": {
     "end_time": "2023-12-06T02:39:32.369133Z",
     "start_time": "2023-12-06T02:39:32.364432Z"
    }
   },
   "id": "98d6a6bd7a65ada4"
  },
  {
   "cell_type": "code",
   "execution_count": null,
   "outputs": [],
   "source": [],
   "metadata": {
    "collapsed": false
   },
   "id": "a010ef99c6d7d163"
  }
 ],
 "metadata": {
  "kernelspec": {
   "display_name": "Python 3",
   "language": "python",
   "name": "python3"
  },
  "language_info": {
   "codemirror_mode": {
    "name": "ipython",
    "version": 2
   },
   "file_extension": ".py",
   "mimetype": "text/x-python",
   "name": "python",
   "nbconvert_exporter": "python",
   "pygments_lexer": "ipython2",
   "version": "2.7.6"
  }
 },
 "nbformat": 4,
 "nbformat_minor": 5
}
