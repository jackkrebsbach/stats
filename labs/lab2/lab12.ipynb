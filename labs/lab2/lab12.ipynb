{
 "cells": [
  {
   "cell_type": "markdown",
   "source": [
    "## Lab 12: Unsupervised Learning\n",
    "Jack Krebsbach Math 313 \n",
    "\n"
   ],
   "metadata": {
    "collapsed": false
   },
   "id": "35ba2f83-cc21-4e5b-ac16-c0b65beb51c1"
  },
  {
   "cell_type": "markdown",
   "source": [
    "### 12.5.1  Principal Components Analysis\n",
    "\n",
    "First we explore the ```USArrests```  data set."
   ],
   "metadata": {
    "collapsed": false
   },
   "id": "72c01be1-fc9d-4c29-903d-9a38898cc271"
  },
  {
   "cell_type": "code",
   "execution_count": 4,
   "outputs": [],
   "source": [
    "## All of our imports\n",
    "import numpy as np\n",
    "import pandas as pd\n",
    "import matplotlib.pyplot as plt\n",
    "from statsmodels.datasets  import get_rdataset \n",
    "from sklearn.decomposition import PCA\n",
    "from sklearn.preprocessing import StandardScaler \n",
    "from ISLP import load_data"
   ],
   "metadata": {
    "collapsed": false,
    "ExecuteTime": {
     "end_time": "2023-10-06T16:22:59.591170Z",
     "start_time": "2023-10-06T16:22:59.511547Z"
    }
   },
   "id": "7856027a971c743d"
  },
  {
   "cell_type": "markdown",
   "source": [],
   "metadata": {
    "collapsed": false
   },
   "id": "e5eae7103174e6ad"
  },
  {
   "cell_type": "code",
   "execution_count": 5,
   "outputs": [],
   "source": [
    "## New imports needed\n",
    "from sklearn.cluster import (KMeans,AgglomerativeClustering)\n",
    "from scipy.cluster.hierarchy import  (dendrogram, cut_tree)\n",
    "from ISLP.cluster import compute_linkage"
   ],
   "metadata": {
    "collapsed": false,
    "ExecuteTime": {
     "end_time": "2023-10-06T16:22:59.592944Z",
     "start_time": "2023-10-06T16:22:59.521079Z"
    }
   },
   "id": "e000bd3822adf4ca"
  },
  {
   "cell_type": "markdown",
   "source": [
    "There are 50 rows in this data set, which contain the states in alphabetical order."
   ],
   "metadata": {
    "collapsed": false
   },
   "id": "d716e683f0094789"
  },
  {
   "cell_type": "code",
   "execution_count": 6,
   "outputs": [
    {
     "data": {
      "text/plain": "                Murder  Assault  UrbanPop  Rape\nrownames                                       \nAlabama           13.2      236        58  21.2\nAlaska            10.0      263        48  44.5\nArizona            8.1      294        80  31.0\nArkansas           8.8      190        50  19.5\nCalifornia         9.0      276        91  40.6\nColorado           7.9      204        78  38.7\nConnecticut        3.3      110        77  11.1\nDelaware           5.9      238        72  15.8\nFlorida           15.4      335        80  31.9\nGeorgia           17.4      211        60  25.8\nHawaii             5.3       46        83  20.2\nIdaho              2.6      120        54  14.2\nIllinois          10.4      249        83  24.0\nIndiana            7.2      113        65  21.0\nIowa               2.2       56        57  11.3\nKansas             6.0      115        66  18.0\nKentucky           9.7      109        52  16.3\nLouisiana         15.4      249        66  22.2\nMaine              2.1       83        51   7.8\nMaryland          11.3      300        67  27.8\nMassachusetts      4.4      149        85  16.3\nMichigan          12.1      255        74  35.1\nMinnesota          2.7       72        66  14.9\nMississippi       16.1      259        44  17.1\nMissouri           9.0      178        70  28.2\nMontana            6.0      109        53  16.4\nNebraska           4.3      102        62  16.5\nNevada            12.2      252        81  46.0\nNew Hampshire      2.1       57        56   9.5\nNew Jersey         7.4      159        89  18.8\nNew Mexico        11.4      285        70  32.1\nNew York          11.1      254        86  26.1\nNorth Carolina    13.0      337        45  16.1\nNorth Dakota       0.8       45        44   7.3\nOhio               7.3      120        75  21.4\nOklahoma           6.6      151        68  20.0\nOregon             4.9      159        67  29.3\nPennsylvania       6.3      106        72  14.9\nRhode Island       3.4      174        87   8.3\nSouth Carolina    14.4      279        48  22.5\nSouth Dakota       3.8       86        45  12.8\nTennessee         13.2      188        59  26.9\nTexas             12.7      201        80  25.5\nUtah               3.2      120        80  22.9\nVermont            2.2       48        32  11.2\nVirginia           8.5      156        63  20.7\nWashington         4.0      145        73  26.2\nWest Virginia      5.7       81        39   9.3\nWisconsin          2.6       53        66  10.8\nWyoming            6.8      161        60  15.6",
      "text/html": "<div>\n<style scoped>\n    .dataframe tbody tr th:only-of-type {\n        vertical-align: middle;\n    }\n\n    .dataframe tbody tr th {\n        vertical-align: top;\n    }\n\n    .dataframe thead th {\n        text-align: right;\n    }\n</style>\n<table border=\"1\" class=\"dataframe\">\n  <thead>\n    <tr style=\"text-align: right;\">\n      <th></th>\n      <th>Murder</th>\n      <th>Assault</th>\n      <th>UrbanPop</th>\n      <th>Rape</th>\n    </tr>\n    <tr>\n      <th>rownames</th>\n      <th></th>\n      <th></th>\n      <th></th>\n      <th></th>\n    </tr>\n  </thead>\n  <tbody>\n    <tr>\n      <th>Alabama</th>\n      <td>13.2</td>\n      <td>236</td>\n      <td>58</td>\n      <td>21.2</td>\n    </tr>\n    <tr>\n      <th>Alaska</th>\n      <td>10.0</td>\n      <td>263</td>\n      <td>48</td>\n      <td>44.5</td>\n    </tr>\n    <tr>\n      <th>Arizona</th>\n      <td>8.1</td>\n      <td>294</td>\n      <td>80</td>\n      <td>31.0</td>\n    </tr>\n    <tr>\n      <th>Arkansas</th>\n      <td>8.8</td>\n      <td>190</td>\n      <td>50</td>\n      <td>19.5</td>\n    </tr>\n    <tr>\n      <th>California</th>\n      <td>9.0</td>\n      <td>276</td>\n      <td>91</td>\n      <td>40.6</td>\n    </tr>\n    <tr>\n      <th>Colorado</th>\n      <td>7.9</td>\n      <td>204</td>\n      <td>78</td>\n      <td>38.7</td>\n    </tr>\n    <tr>\n      <th>Connecticut</th>\n      <td>3.3</td>\n      <td>110</td>\n      <td>77</td>\n      <td>11.1</td>\n    </tr>\n    <tr>\n      <th>Delaware</th>\n      <td>5.9</td>\n      <td>238</td>\n      <td>72</td>\n      <td>15.8</td>\n    </tr>\n    <tr>\n      <th>Florida</th>\n      <td>15.4</td>\n      <td>335</td>\n      <td>80</td>\n      <td>31.9</td>\n    </tr>\n    <tr>\n      <th>Georgia</th>\n      <td>17.4</td>\n      <td>211</td>\n      <td>60</td>\n      <td>25.8</td>\n    </tr>\n    <tr>\n      <th>Hawaii</th>\n      <td>5.3</td>\n      <td>46</td>\n      <td>83</td>\n      <td>20.2</td>\n    </tr>\n    <tr>\n      <th>Idaho</th>\n      <td>2.6</td>\n      <td>120</td>\n      <td>54</td>\n      <td>14.2</td>\n    </tr>\n    <tr>\n      <th>Illinois</th>\n      <td>10.4</td>\n      <td>249</td>\n      <td>83</td>\n      <td>24.0</td>\n    </tr>\n    <tr>\n      <th>Indiana</th>\n      <td>7.2</td>\n      <td>113</td>\n      <td>65</td>\n      <td>21.0</td>\n    </tr>\n    <tr>\n      <th>Iowa</th>\n      <td>2.2</td>\n      <td>56</td>\n      <td>57</td>\n      <td>11.3</td>\n    </tr>\n    <tr>\n      <th>Kansas</th>\n      <td>6.0</td>\n      <td>115</td>\n      <td>66</td>\n      <td>18.0</td>\n    </tr>\n    <tr>\n      <th>Kentucky</th>\n      <td>9.7</td>\n      <td>109</td>\n      <td>52</td>\n      <td>16.3</td>\n    </tr>\n    <tr>\n      <th>Louisiana</th>\n      <td>15.4</td>\n      <td>249</td>\n      <td>66</td>\n      <td>22.2</td>\n    </tr>\n    <tr>\n      <th>Maine</th>\n      <td>2.1</td>\n      <td>83</td>\n      <td>51</td>\n      <td>7.8</td>\n    </tr>\n    <tr>\n      <th>Maryland</th>\n      <td>11.3</td>\n      <td>300</td>\n      <td>67</td>\n      <td>27.8</td>\n    </tr>\n    <tr>\n      <th>Massachusetts</th>\n      <td>4.4</td>\n      <td>149</td>\n      <td>85</td>\n      <td>16.3</td>\n    </tr>\n    <tr>\n      <th>Michigan</th>\n      <td>12.1</td>\n      <td>255</td>\n      <td>74</td>\n      <td>35.1</td>\n    </tr>\n    <tr>\n      <th>Minnesota</th>\n      <td>2.7</td>\n      <td>72</td>\n      <td>66</td>\n      <td>14.9</td>\n    </tr>\n    <tr>\n      <th>Mississippi</th>\n      <td>16.1</td>\n      <td>259</td>\n      <td>44</td>\n      <td>17.1</td>\n    </tr>\n    <tr>\n      <th>Missouri</th>\n      <td>9.0</td>\n      <td>178</td>\n      <td>70</td>\n      <td>28.2</td>\n    </tr>\n    <tr>\n      <th>Montana</th>\n      <td>6.0</td>\n      <td>109</td>\n      <td>53</td>\n      <td>16.4</td>\n    </tr>\n    <tr>\n      <th>Nebraska</th>\n      <td>4.3</td>\n      <td>102</td>\n      <td>62</td>\n      <td>16.5</td>\n    </tr>\n    <tr>\n      <th>Nevada</th>\n      <td>12.2</td>\n      <td>252</td>\n      <td>81</td>\n      <td>46.0</td>\n    </tr>\n    <tr>\n      <th>New Hampshire</th>\n      <td>2.1</td>\n      <td>57</td>\n      <td>56</td>\n      <td>9.5</td>\n    </tr>\n    <tr>\n      <th>New Jersey</th>\n      <td>7.4</td>\n      <td>159</td>\n      <td>89</td>\n      <td>18.8</td>\n    </tr>\n    <tr>\n      <th>New Mexico</th>\n      <td>11.4</td>\n      <td>285</td>\n      <td>70</td>\n      <td>32.1</td>\n    </tr>\n    <tr>\n      <th>New York</th>\n      <td>11.1</td>\n      <td>254</td>\n      <td>86</td>\n      <td>26.1</td>\n    </tr>\n    <tr>\n      <th>North Carolina</th>\n      <td>13.0</td>\n      <td>337</td>\n      <td>45</td>\n      <td>16.1</td>\n    </tr>\n    <tr>\n      <th>North Dakota</th>\n      <td>0.8</td>\n      <td>45</td>\n      <td>44</td>\n      <td>7.3</td>\n    </tr>\n    <tr>\n      <th>Ohio</th>\n      <td>7.3</td>\n      <td>120</td>\n      <td>75</td>\n      <td>21.4</td>\n    </tr>\n    <tr>\n      <th>Oklahoma</th>\n      <td>6.6</td>\n      <td>151</td>\n      <td>68</td>\n      <td>20.0</td>\n    </tr>\n    <tr>\n      <th>Oregon</th>\n      <td>4.9</td>\n      <td>159</td>\n      <td>67</td>\n      <td>29.3</td>\n    </tr>\n    <tr>\n      <th>Pennsylvania</th>\n      <td>6.3</td>\n      <td>106</td>\n      <td>72</td>\n      <td>14.9</td>\n    </tr>\n    <tr>\n      <th>Rhode Island</th>\n      <td>3.4</td>\n      <td>174</td>\n      <td>87</td>\n      <td>8.3</td>\n    </tr>\n    <tr>\n      <th>South Carolina</th>\n      <td>14.4</td>\n      <td>279</td>\n      <td>48</td>\n      <td>22.5</td>\n    </tr>\n    <tr>\n      <th>South Dakota</th>\n      <td>3.8</td>\n      <td>86</td>\n      <td>45</td>\n      <td>12.8</td>\n    </tr>\n    <tr>\n      <th>Tennessee</th>\n      <td>13.2</td>\n      <td>188</td>\n      <td>59</td>\n      <td>26.9</td>\n    </tr>\n    <tr>\n      <th>Texas</th>\n      <td>12.7</td>\n      <td>201</td>\n      <td>80</td>\n      <td>25.5</td>\n    </tr>\n    <tr>\n      <th>Utah</th>\n      <td>3.2</td>\n      <td>120</td>\n      <td>80</td>\n      <td>22.9</td>\n    </tr>\n    <tr>\n      <th>Vermont</th>\n      <td>2.2</td>\n      <td>48</td>\n      <td>32</td>\n      <td>11.2</td>\n    </tr>\n    <tr>\n      <th>Virginia</th>\n      <td>8.5</td>\n      <td>156</td>\n      <td>63</td>\n      <td>20.7</td>\n    </tr>\n    <tr>\n      <th>Washington</th>\n      <td>4.0</td>\n      <td>145</td>\n      <td>73</td>\n      <td>26.2</td>\n    </tr>\n    <tr>\n      <th>West Virginia</th>\n      <td>5.7</td>\n      <td>81</td>\n      <td>39</td>\n      <td>9.3</td>\n    </tr>\n    <tr>\n      <th>Wisconsin</th>\n      <td>2.6</td>\n      <td>53</td>\n      <td>66</td>\n      <td>10.8</td>\n    </tr>\n    <tr>\n      <th>Wyoming</th>\n      <td>6.8</td>\n      <td>161</td>\n      <td>60</td>\n      <td>15.6</td>\n    </tr>\n  </tbody>\n</table>\n</div>"
     },
     "execution_count": 6,
     "metadata": {},
     "output_type": "execute_result"
    }
   ],
   "source": [
    "USArrests = get_rdataset('USArrests').data\n",
    "USArrests"
   ],
   "metadata": {
    "collapsed": false,
    "ExecuteTime": {
     "end_time": "2023-10-06T16:23:00.221224Z",
     "start_time": "2023-10-06T16:22:59.533145Z"
    }
   },
   "id": "d35b9ee5142c5616"
  },
  {
   "cell_type": "code",
   "execution_count": 7,
   "outputs": [
    {
     "data": {
      "text/plain": "Index(['Murder', 'Assault', 'UrbanPop', 'Rape'], dtype='object')"
     },
     "execution_count": 7,
     "metadata": {},
     "output_type": "execute_result"
    }
   ],
   "source": [
    "USArrests.columns"
   ],
   "metadata": {
    "collapsed": false,
    "ExecuteTime": {
     "end_time": "2023-10-06T16:23:00.228208Z",
     "start_time": "2023-10-06T16:23:00.221763Z"
    }
   },
   "id": "20b02c9ef385c1d4"
  },
  {
   "cell_type": "code",
   "execution_count": 8,
   "outputs": [
    {
     "data": {
      "text/plain": "Murder        7.788\nAssault     170.760\nUrbanPop     65.540\nRape         21.232\ndtype: float64"
     },
     "execution_count": 8,
     "metadata": {},
     "output_type": "execute_result"
    }
   ],
   "source": [
    "# The variables have lots of different means.\n",
    "USArrests.mean()"
   ],
   "metadata": {
    "collapsed": false,
    "ExecuteTime": {
     "end_time": "2023-10-06T16:23:00.230958Z",
     "start_time": "2023-10-06T16:23:00.227105Z"
    }
   },
   "id": "5d29e4fecc0cd7e3"
  },
  {
   "cell_type": "code",
   "execution_count": 9,
   "outputs": [
    {
     "data": {
      "text/plain": "Murder        18.970465\nAssault     6945.165714\nUrbanPop     209.518776\nRape          87.729159\ndtype: float64"
     },
     "execution_count": 9,
     "metadata": {},
     "output_type": "execute_result"
    }
   ],
   "source": [
    "# We can compute statistics like variance on these features\n",
    "USArrests.var()"
   ],
   "metadata": {
    "collapsed": false,
    "ExecuteTime": {
     "end_time": "2023-10-06T16:23:00.237058Z",
     "start_time": "2023-10-06T16:23:00.229773Z"
    }
   },
   "id": "96b04872ec55b4da"
  },
  {
   "cell_type": "code",
   "execution_count": 10,
   "outputs": [
    {
     "data": {
      "text/plain": "array([[ 1.25517927,  0.79078716, -0.52619514, -0.00345116],\n       [ 0.51301858,  1.11805959, -1.22406668,  2.50942392],\n       [ 0.07236067,  1.49381682,  1.00912225,  1.05346626],\n       [ 0.23470832,  0.23321191, -1.08449238, -0.18679398],\n       [ 0.28109336,  1.2756352 ,  1.77678094,  2.08881393],\n       [ 0.02597562,  0.40290872,  0.86954794,  1.88390137],\n       [-1.04088037, -0.73648418,  0.79976079, -1.09272319],\n       [-0.43787481,  0.81502956,  0.45082502, -0.58583422],\n       [ 1.76541475,  1.99078607,  1.00912225,  1.1505301 ],\n       [ 2.22926518,  0.48775713, -0.38662083,  0.49265293],\n       [-0.57702994, -1.51224105,  1.21848371, -0.11129987],\n       [-1.20322802, -0.61527217, -0.80534376, -0.75839217],\n       [ 0.60578867,  0.94836277,  1.21848371,  0.29852525],\n       [-0.13637203, -0.70012057, -0.03768506, -0.0250209 ],\n       [-1.29599811, -1.39102904, -0.5959823 , -1.07115345],\n       [-0.41468229, -0.67587817,  0.03210209, -0.34856705],\n       [ 0.44344101, -0.74860538, -0.94491807, -0.53190987],\n       [ 1.76541475,  0.94836277,  0.03210209,  0.10439756],\n       [-1.31919063, -1.06375661, -1.01470522, -1.44862395],\n       [ 0.81452136,  1.56654403,  0.10188925,  0.70835037],\n       [-0.78576263, -0.26375734,  1.35805802, -0.53190987],\n       [ 1.00006153,  1.02108998,  0.59039932,  1.49564599],\n       [-1.1800355 , -1.19708982,  0.03210209, -0.68289807],\n       [ 1.9277624 ,  1.06957478, -1.5032153 , -0.44563089],\n       [ 0.28109336,  0.0877575 ,  0.31125071,  0.75148985],\n       [-0.41468229, -0.74860538, -0.87513091, -0.521125  ],\n       [-0.80895515, -0.83345379, -0.24704653, -0.51034012],\n       [ 1.02325405,  0.98472638,  1.0789094 ,  2.671197  ],\n       [-1.31919063, -1.37890783, -0.66576945, -1.26528114],\n       [-0.08998698, -0.14254532,  1.63720664, -0.26228808],\n       [ 0.83771388,  1.38472601,  0.31125071,  1.17209984],\n       [ 0.76813632,  1.00896878,  1.42784517,  0.52500755],\n       [ 1.20879423,  2.01502847, -1.43342815, -0.55347961],\n       [-1.62069341, -1.52436225, -1.5032153 , -1.50254831],\n       [-0.11317951, -0.61527217,  0.66018648,  0.01811858],\n       [-0.27552716, -0.23951493,  0.1716764 , -0.13286962],\n       [-0.66980002, -0.14254532,  0.10188925,  0.87012344],\n       [-0.34510472, -0.78496898,  0.45082502, -0.68289807],\n       [-1.01768785,  0.03927269,  1.49763233, -1.39469959],\n       [ 1.53348953,  1.3119988 , -1.22406668,  0.13675217],\n       [-0.92491776, -1.027393  , -1.43342815, -0.90938037],\n       [ 1.25517927,  0.20896951, -0.45640799,  0.61128652],\n       [ 1.13921666,  0.36654512,  1.00912225,  0.46029832],\n       [-1.06407289, -0.61527217,  1.00912225,  0.17989166],\n       [-1.29599811, -1.48799864, -2.34066115, -1.08193832],\n       [ 0.16513075, -0.17890893, -0.17725937, -0.05737552],\n       [-0.87853272, -0.31224214,  0.52061217,  0.53579242],\n       [-0.48425985, -1.08799901, -1.85215107, -1.28685088],\n       [-1.20322802, -1.42739264,  0.03210209, -1.1250778 ],\n       [-0.22914211, -0.11830292, -0.38662083, -0.60740397]])"
     },
     "execution_count": 10,
     "metadata": {},
     "output_type": "execute_result"
    }
   ],
   "source": [
    "# We can standardize the data.\n",
    "scaler = StandardScaler(with_std=True, with_mean=True)\n",
    "USArrests_scaled = scaler.fit_transform(USArrests)\n",
    "USArrests_scaled"
   ],
   "metadata": {
    "collapsed": false,
    "ExecuteTime": {
     "end_time": "2023-10-06T16:23:00.266Z",
     "start_time": "2023-10-06T16:23:00.240723Z"
    }
   },
   "id": "2b9bc726d3082556"
  },
  {
   "cell_type": "markdown",
   "source": [
    "Once we scale the data we can now perform ```PCA``` on the data."
   ],
   "metadata": {
    "collapsed": false
   },
   "id": "81394b2c58562327"
  },
  {
   "cell_type": "markdown",
   "source": [],
   "metadata": {
    "collapsed": false
   },
   "id": "881df5fd6591e218"
  },
  {
   "cell_type": "code",
   "execution_count": 11,
   "outputs": [
    {
     "data": {
      "text/plain": "1.0"
     },
     "execution_count": 11,
     "metadata": {},
     "output_type": "execute_result"
    }
   ],
   "source": [
    "np.std(USArrests_scaled[:, 1])"
   ],
   "metadata": {
    "collapsed": false,
    "ExecuteTime": {
     "end_time": "2023-10-06T16:23:00.278534Z",
     "start_time": "2023-10-06T16:23:00.243881Z"
    }
   },
   "id": "2dab474c750c0b71"
  },
  {
   "cell_type": "code",
   "execution_count": 12,
   "outputs": [],
   "source": [
    "## This uses the PCA package versus by hand\n",
    "pcaUS = PCA()"
   ],
   "metadata": {
    "collapsed": false,
    "ExecuteTime": {
     "end_time": "2023-10-06T16:23:00.286722Z",
     "start_time": "2023-10-06T16:23:00.247866Z"
    }
   },
   "id": "83c5a2363002c712"
  },
  {
   "cell_type": "code",
   "execution_count": 13,
   "outputs": [
    {
     "data": {
      "text/plain": "PCA()",
      "text/html": "<style>#sk-container-id-1 {color: black;}#sk-container-id-1 pre{padding: 0;}#sk-container-id-1 div.sk-toggleable {background-color: white;}#sk-container-id-1 label.sk-toggleable__label {cursor: pointer;display: block;width: 100%;margin-bottom: 0;padding: 0.3em;box-sizing: border-box;text-align: center;}#sk-container-id-1 label.sk-toggleable__label-arrow:before {content: \"▸\";float: left;margin-right: 0.25em;color: #696969;}#sk-container-id-1 label.sk-toggleable__label-arrow:hover:before {color: black;}#sk-container-id-1 div.sk-estimator:hover label.sk-toggleable__label-arrow:before {color: black;}#sk-container-id-1 div.sk-toggleable__content {max-height: 0;max-width: 0;overflow: hidden;text-align: left;background-color: #f0f8ff;}#sk-container-id-1 div.sk-toggleable__content pre {margin: 0.2em;color: black;border-radius: 0.25em;background-color: #f0f8ff;}#sk-container-id-1 input.sk-toggleable__control:checked~div.sk-toggleable__content {max-height: 200px;max-width: 100%;overflow: auto;}#sk-container-id-1 input.sk-toggleable__control:checked~label.sk-toggleable__label-arrow:before {content: \"▾\";}#sk-container-id-1 div.sk-estimator input.sk-toggleable__control:checked~label.sk-toggleable__label {background-color: #d4ebff;}#sk-container-id-1 div.sk-label input.sk-toggleable__control:checked~label.sk-toggleable__label {background-color: #d4ebff;}#sk-container-id-1 input.sk-hidden--visually {border: 0;clip: rect(1px 1px 1px 1px);clip: rect(1px, 1px, 1px, 1px);height: 1px;margin: -1px;overflow: hidden;padding: 0;position: absolute;width: 1px;}#sk-container-id-1 div.sk-estimator {font-family: monospace;background-color: #f0f8ff;border: 1px dotted black;border-radius: 0.25em;box-sizing: border-box;margin-bottom: 0.5em;}#sk-container-id-1 div.sk-estimator:hover {background-color: #d4ebff;}#sk-container-id-1 div.sk-parallel-item::after {content: \"\";width: 100%;border-bottom: 1px solid gray;flex-grow: 1;}#sk-container-id-1 div.sk-label:hover label.sk-toggleable__label {background-color: #d4ebff;}#sk-container-id-1 div.sk-serial::before {content: \"\";position: absolute;border-left: 1px solid gray;box-sizing: border-box;top: 0;bottom: 0;left: 50%;z-index: 0;}#sk-container-id-1 div.sk-serial {display: flex;flex-direction: column;align-items: center;background-color: white;padding-right: 0.2em;padding-left: 0.2em;position: relative;}#sk-container-id-1 div.sk-item {position: relative;z-index: 1;}#sk-container-id-1 div.sk-parallel {display: flex;align-items: stretch;justify-content: center;background-color: white;position: relative;}#sk-container-id-1 div.sk-item::before, #sk-container-id-1 div.sk-parallel-item::before {content: \"\";position: absolute;border-left: 1px solid gray;box-sizing: border-box;top: 0;bottom: 0;left: 50%;z-index: -1;}#sk-container-id-1 div.sk-parallel-item {display: flex;flex-direction: column;z-index: 1;position: relative;background-color: white;}#sk-container-id-1 div.sk-parallel-item:first-child::after {align-self: flex-end;width: 50%;}#sk-container-id-1 div.sk-parallel-item:last-child::after {align-self: flex-start;width: 50%;}#sk-container-id-1 div.sk-parallel-item:only-child::after {width: 0;}#sk-container-id-1 div.sk-dashed-wrapped {border: 1px dashed gray;margin: 0 0.4em 0.5em 0.4em;box-sizing: border-box;padding-bottom: 0.4em;background-color: white;}#sk-container-id-1 div.sk-label label {font-family: monospace;font-weight: bold;display: inline-block;line-height: 1.2em;}#sk-container-id-1 div.sk-label-container {text-align: center;}#sk-container-id-1 div.sk-container {/* jupyter's `normalize.less` sets `[hidden] { display: none; }` but bootstrap.min.css set `[hidden] { display: none !important; }` so we also need the `!important` here to be able to override the default hidden behavior on the sphinx rendered scikit-learn.org. See: https://github.com/scikit-learn/scikit-learn/issues/21755 */display: inline-block !important;position: relative;}#sk-container-id-1 div.sk-text-repr-fallback {display: none;}</style><div id=\"sk-container-id-1\" class=\"sk-top-container\"><div class=\"sk-text-repr-fallback\"><pre>PCA()</pre><b>In a Jupyter environment, please rerun this cell to show the HTML representation or trust the notebook. <br />On GitHub, the HTML representation is unable to render, please try loading this page with nbviewer.org.</b></div><div class=\"sk-container\" hidden><div class=\"sk-item\"><div class=\"sk-estimator sk-toggleable\"><input class=\"sk-toggleable__control sk-hidden--visually\" id=\"sk-estimator-id-1\" type=\"checkbox\" checked><label for=\"sk-estimator-id-1\" class=\"sk-toggleable__label sk-toggleable__label-arrow\">PCA</label><div class=\"sk-toggleable__content\"><pre>PCA()</pre></div></div></div></div></div>"
     },
     "execution_count": 13,
     "metadata": {},
     "output_type": "execute_result"
    }
   ],
   "source": [
    "pcaUS.fit(USArrests_scaled)"
   ],
   "metadata": {
    "collapsed": false,
    "ExecuteTime": {
     "end_time": "2023-10-06T16:23:00.342037Z",
     "start_time": "2023-10-06T16:23:00.252919Z"
    }
   },
   "id": "5cf52fd1ff2d1609"
  },
  {
   "cell_type": "code",
   "execution_count": 14,
   "outputs": [
    {
     "data": {
      "text/plain": "array([-7.10542736e-17,  1.38777878e-16, -4.39648318e-16,  8.59312621e-16])"
     },
     "execution_count": 14,
     "metadata": {},
     "output_type": "execute_result"
    }
   ],
   "source": [
    "pcaUS.mean_"
   ],
   "metadata": {
    "collapsed": false,
    "ExecuteTime": {
     "end_time": "2023-10-06T16:23:00.342555Z",
     "start_time": "2023-10-06T16:23:00.258528Z"
    }
   },
   "id": "e80ca87685cea5b3"
  },
  {
   "cell_type": "code",
   "execution_count": 15,
   "outputs": [],
   "source": [
    "scores = pcaUS.transform(USArrests_scaled)"
   ],
   "metadata": {
    "collapsed": false,
    "ExecuteTime": {
     "end_time": "2023-10-06T16:23:00.342613Z",
     "start_time": "2023-10-06T16:23:00.262680Z"
    }
   },
   "id": "d27f14a14f68781f"
  },
  {
   "cell_type": "markdown",
   "source": [
    "#### Principal Component Loadings\n",
    "The loadings of the principal component anlsysis can be extracted using ```.components_``` of the ```PCA``` analysis. Each row contains the PC loading vector."
   ],
   "metadata": {
    "collapsed": false
   },
   "id": "666236c012d25cf7"
  },
  {
   "cell_type": "code",
   "execution_count": 42,
   "outputs": [
    {
     "data": {
      "text/plain": "array([[ 0.53589947,  0.58318363,  0.27819087,  0.54343209],\n       [-0.41818087, -0.1879856 ,  0.87280619,  0.16731864],\n       [-0.34123273, -0.26814843, -0.37801579,  0.81777791],\n       [ 0.6492278 , -0.74340748,  0.13387773,  0.08902432]])"
     },
     "execution_count": 42,
     "metadata": {},
     "output_type": "execute_result"
    }
   ],
   "source": [
    "pcaUS.components_"
   ],
   "metadata": {
    "collapsed": false,
    "ExecuteTime": {
     "end_time": "2023-10-06T18:02:57.016676Z",
     "start_time": "2023-10-06T18:02:56.991806Z"
    }
   },
   "id": "5a7b49ef87b0a937"
  },
  {
   "cell_type": "code",
   "execution_count": 17,
   "outputs": [
    {
     "data": {
      "text/plain": "<Figure size 800x800 with 1 Axes>",
      "image/png": "[encoded data removed]"
     },
     "metadata": {},
     "output_type": "display_data"
    }
   ],
   "source": [
    "# Here we make the bi-plot manually as it is not a standard import from sklearn.\n",
    "\n",
    "i, j = 0, 1 # which components\n",
    "fig, ax = plt.subplots(1, 1, figsize=(8, 8))\n",
    "ax.scatter(scores[:,0], scores[:,1])\n",
    "ax.set_xlabel('PC%d' % (i+1))\n",
    "ax.set_ylabel('PC%d' % (j+1))\n",
    "for k in range(pcaUS.components_.shape[1]):\n",
    "    ax.arrow(0, 0, pcaUS.components_[i,k], pcaUS.components_[j,k])\n",
    "    ax.text(pcaUS.components_[i,k], pcaUS.components_[j,k], USArrests.columns[k])"
   ],
   "metadata": {
    "collapsed": false,
    "ExecuteTime": {
     "end_time": "2023-10-06T16:23:00.635725Z",
     "start_time": "2023-10-06T16:23:00.270889Z"
    }
   },
   "id": "db270c93c3a81212"
  },
  {
   "cell_type": "markdown",
   "source": [
    "This figure is a reflection (through the ```y-axis```) from the book in figure 12.1. The PC are unique only up to sign change. Thus, we can replicate the figure by flipping the signs and can more clearly see the differences between loadings by increasing the length of the arrows."
   ],
   "metadata": {
    "collapsed": false
   },
   "id": "49c6ee64db227363"
  },
  {
   "cell_type": "code",
   "execution_count": 18,
   "outputs": [
    {
     "data": {
      "text/plain": "<Figure size 800x800 with 1 Axes>",
      "image/png": "[encoded data removed]"
     },
     "metadata": {},
     "output_type": "display_data"
    }
   ],
   "source": [
    "scale_arrow = s_ = 2\n",
    "scores[:,1] *= -1\n",
    "pcaUS.components_[1] *= -1 # flip the y-axis \n",
    "fig, ax = plt.subplots(1, 1, figsize=(8, 8))\n",
    "ax.scatter(scores[:,0], scores[:,1]) \n",
    "ax.set_xlabel('PC%d' % (i+1)) \n",
    "ax.set_ylabel('PC%d' % (j+1))\n",
    "for k in range(pcaUS.components_.shape[1]):\n",
    "    ax.arrow(0, 0, s_*pcaUS.components_[i,k], s_*pcaUS.components_[ j,k])\n",
    "    ax.text(s_*pcaUS.components_[i,k], s_*pcaUS.components_[j,k],\n",
    "    USArrests.columns[k])"
   ],
   "metadata": {
    "collapsed": false,
    "ExecuteTime": {
     "end_time": "2023-10-06T16:23:00.636392Z",
     "start_time": "2023-10-06T16:23:00.391494Z"
    }
   },
   "id": "5b8ecb95a14e97fc"
  },
  {
   "cell_type": "code",
   "execution_count": 19,
   "outputs": [
    {
     "data": {
      "text/plain": "array([1.5908673 , 1.00496987, 0.6031915 , 0.4206774 ])"
     },
     "execution_count": 19,
     "metadata": {},
     "output_type": "execute_result"
    }
   ],
   "source": [
    "# We grab the standard deviations\n",
    "scores.std(0, ddof=1)"
   ],
   "metadata": {
    "collapsed": false,
    "ExecuteTime": {
     "end_time": "2023-10-06T16:23:00.636589Z",
     "start_time": "2023-10-06T16:23:00.496661Z"
    }
   },
   "id": "add59f7b348df03e"
  },
  {
   "cell_type": "markdown",
   "source": [
    "What we are really after is how much variance each PC can explain, here we can find the explained variance by component. It is helpful to also find the ratio of explained variance to get a better of idea this."
   ],
   "metadata": {
    "collapsed": false
   },
   "id": "c15c9b9984ac0494"
  },
  {
   "cell_type": "code",
   "execution_count": 20,
   "outputs": [
    {
     "data": {
      "text/plain": "array([2.53085875, 1.00996444, 0.36383998, 0.17696948])"
     },
     "execution_count": 20,
     "metadata": {},
     "output_type": "execute_result"
    }
   ],
   "source": [
    "pcaUS.explained_variance_"
   ],
   "metadata": {
    "collapsed": false,
    "ExecuteTime": {
     "end_time": "2023-10-06T16:23:00.636915Z",
     "start_time": "2023-10-06T16:23:00.503632Z"
    }
   },
   "id": "9451f03638c261dd"
  },
  {
   "cell_type": "code",
   "execution_count": 21,
   "outputs": [
    {
     "data": {
      "text/plain": "array([0.62006039, 0.24744129, 0.0891408 , 0.04335752])"
     },
     "execution_count": 21,
     "metadata": {},
     "output_type": "execute_result"
    }
   ],
   "source": [
    "pcaUS.explained_variance_ratio_"
   ],
   "metadata": {
    "collapsed": false,
    "ExecuteTime": {
     "end_time": "2023-10-06T16:23:00.637647Z",
     "start_time": "2023-10-06T16:23:00.511579Z"
    }
   },
   "id": "bad4661e2f976b9f"
  },
  {
   "cell_type": "markdown",
   "source": [
    "The first principal component explains ```60%``` of the variance in the data. To visually see this we can plot it below."
   ],
   "metadata": {
    "collapsed": false
   },
   "id": "395b952bc801ef5c"
  },
  {
   "cell_type": "code",
   "execution_count": 22,
   "outputs": [],
   "source": [
    "%%capture\n",
    "fig, axes = plt.subplots(1, 2, figsize=(15, 6)) \n",
    "ticks = np.arange(pcaUS.n_components_)+1\n",
    "ax = axes[0]\n",
    "ax.plot(ticks,\n",
    "pcaUS.explained_variance_ratio_ , marker='o')\n",
    "ax.set_xlabel('Principal Component'); ax.set_ylabel('Proportion of Variance Explained')\n",
    "ax.set_ylim([0,1])\n",
    "ax.set_xticks(ticks)\n",
    "ax.set_xlabel('Principal Component'); ax.set_ylabel('Proportion of Variance Explained') \n",
    "ax.set_ylim([0,1])\n",
    "ax.set_xticks(ticks)"
   ],
   "metadata": {
    "collapsed": false,
    "ExecuteTime": {
     "end_time": "2023-10-06T16:23:00.949353Z",
     "start_time": "2023-10-06T16:23:00.516995Z"
    }
   },
   "id": "211f0ea130ba5a74"
  },
  {
   "cell_type": "code",
   "execution_count": 23,
   "outputs": [
    {
     "data": {
      "text/plain": "<Figure size 1500x600 with 2 Axes>",
      "image/png": "[encoded data removed]"
     },
     "execution_count": 23,
     "metadata": {},
     "output_type": "execute_result"
    }
   ],
   "source": [
    "ax = axes[1] \n",
    "ax.plot(ticks,\n",
    "pcaUS.explained_variance_ratio_.cumsum(),\n",
    "marker='o')\n",
    "ax.set_xlabel('Principal Component') \n",
    "ax.set_ylabel('Cumulative Proportion of Variance Explained') \n",
    "ax.set_ylim([0, 1])\n",
    "ax.set_xticks(ticks) \n",
    "fig"
   ],
   "metadata": {
    "collapsed": false,
    "ExecuteTime": {
     "end_time": "2023-10-06T16:23:00.949833Z",
     "start_time": "2023-10-06T16:23:00.670402Z"
    }
   },
   "id": "8fc5e077ac3c4207"
  },
  {
   "cell_type": "code",
   "execution_count": 24,
   "outputs": [
    {
     "data": {
      "text/plain": "array([ 1,  3, 11,  8])"
     },
     "execution_count": 24,
     "metadata": {},
     "output_type": "execute_result"
    }
   ],
   "source": [
    "a = np.array([1,2,8,-3])\n",
    "np.cumsum(a)"
   ],
   "metadata": {
    "collapsed": false,
    "ExecuteTime": {
     "end_time": "2023-10-06T16:23:00.949995Z",
     "start_time": "2023-10-06T16:23:00.780305Z"
    }
   },
   "id": "4a36eb04b1f2b931"
  },
  {
   "cell_type": "markdown",
   "source": [
    "### 12.5.2 Matrix Completion\n",
    "Our goal in this section is to re-create the analysis of the data set in section 12.3. Here we use ```Singular Value Decomposition``` to solve for the principal components of the data."
   ],
   "metadata": {
    "collapsed": false
   },
   "id": "8e20be459ff3c78e"
  },
  {
   "cell_type": "code",
   "execution_count": 25,
   "outputs": [
    {
     "data": {
      "text/plain": "((50, 4), (4,), (4, 4))"
     },
     "execution_count": 25,
     "metadata": {},
     "output_type": "execute_result"
    }
   ],
   "source": [
    "X = USArrests_scaled\n",
    "## Theses are the matrix that our matrix A can be decomposed into.\n",
    "U, D, V = np.linalg.svd(X, full_matrices=False) \n",
    "U.shape, D.shape, V.shape"
   ],
   "metadata": {
    "collapsed": false,
    "ExecuteTime": {
     "end_time": "2023-10-06T16:23:00.950100Z",
     "start_time": "2023-10-06T16:23:00.784563Z"
    }
   },
   "id": "443472ed706dfbb1"
  },
  {
   "cell_type": "code",
   "execution_count": 26,
   "outputs": [
    {
     "data": {
      "text/plain": "array([[-0.53589947, -0.58318363, -0.27819087, -0.54343209],\n       [-0.41818087, -0.1879856 ,  0.87280619,  0.16731864],\n       [ 0.34123273,  0.26814843,  0.37801579, -0.81777791],\n       [ 0.6492278 , -0.74340748,  0.13387773,  0.08902432]])"
     },
     "execution_count": 26,
     "metadata": {},
     "output_type": "execute_result"
    }
   ],
   "source": [
    "#V is equivalent to the loading matrix from the PCA before! \n",
    "V"
   ],
   "metadata": {
    "collapsed": false,
    "ExecuteTime": {
     "end_time": "2023-10-06T16:23:00.950254Z",
     "start_time": "2023-10-06T16:23:00.793293Z"
    }
   },
   "id": "3be8cd0ea8166a97"
  },
  {
   "cell_type": "code",
   "execution_count": 27,
   "outputs": [
    {
     "data": {
      "text/plain": "array([[ 0.53589947,  0.58318363,  0.27819087,  0.54343209],\n       [-0.41818087, -0.1879856 ,  0.87280619,  0.16731864],\n       [-0.34123273, -0.26814843, -0.37801579,  0.81777791],\n       [ 0.6492278 , -0.74340748,  0.13387773,  0.08902432]])"
     },
     "execution_count": 27,
     "metadata": {},
     "output_type": "execute_result"
    }
   ],
   "source": [
    "pcaUS.components_"
   ],
   "metadata": {
    "collapsed": false,
    "ExecuteTime": {
     "end_time": "2023-10-06T16:23:00.950361Z",
     "start_time": "2023-10-06T16:23:00.798323Z"
    }
   },
   "id": "411068e886bb8543"
  },
  {
   "cell_type": "markdown",
   "source": [
    "The matrix ```U``` is a standardized version of the PCA score matrix. The standardization involves scaling the columns to have sum-of-squares 1."
   ],
   "metadata": {
    "collapsed": false
   },
   "id": "4f4587ec50734314"
  },
  {
   "cell_type": "code",
   "execution_count": 28,
   "outputs": [
    {
     "data": {
      "text/plain": "array([[-0.98556588, -1.13339238,  0.44426879,  0.15626714],\n       [-1.95013775, -1.07321326, -2.04000333, -0.43858344],\n       [-1.76316354,  0.74595678, -0.05478082, -0.83465292]])"
     },
     "execution_count": 28,
     "metadata": {},
     "output_type": "execute_result"
    }
   ],
   "source": [
    "(U * D[None,:])[:3]"
   ],
   "metadata": {
    "collapsed": false,
    "ExecuteTime": {
     "end_time": "2023-10-06T16:23:00.950457Z",
     "start_time": "2023-10-06T16:23:00.804994Z"
    }
   },
   "id": "75fd79fb0827f5e6"
  },
  {
   "cell_type": "code",
   "execution_count": 29,
   "outputs": [
    {
     "data": {
      "text/plain": "array([[ 0.98556588, -1.13339238, -0.44426879,  0.15626714],\n       [ 1.95013775, -1.07321326,  2.04000333, -0.43858344],\n       [ 1.76316354,  0.74595678,  0.05478082, -0.83465292]])"
     },
     "execution_count": 29,
     "metadata": {},
     "output_type": "execute_result"
    }
   ],
   "source": [
    "scores[:3]"
   ],
   "metadata": {
    "collapsed": false,
    "ExecuteTime": {
     "end_time": "2023-10-06T16:23:00.950596Z",
     "start_time": "2023-10-06T16:23:00.817567Z"
    }
   },
   "id": "b9961aa33f1f780b"
  },
  {
   "cell_type": "markdown",
   "source": [
    "Note: this section of the lab would be able to be done by just using the ```PCA()``` estimator but we are interested in using ```np.linalg.svd()``` to help us explore how matrix completion works.\n",
    "\n",
    "We purposely omit 50 random entries in our matrix before implementing the algorithm from 12.1 for matrix completion."
   ],
   "metadata": {
    "collapsed": false
   },
   "id": "d0fd43af228de1ac"
  },
  {
   "cell_type": "code",
   "execution_count": 30,
   "outputs": [],
   "source": [
    "n_omit = 20\n",
    "np.random.seed(15)\n",
    "r_idx = np.random.choice(np.arange(X.shape[0]), n_omit ,replace=False)\n",
    "c_idx = np.random.choice(np.arange(X.shape[1]), n_omit , replace=True)\n",
    "Xna = X.copy()\n",
    "Xna[r_idx, c_idx] = np.nan"
   ],
   "metadata": {
    "collapsed": false,
    "ExecuteTime": {
     "end_time": "2023-10-06T16:23:00.950659Z",
     "start_time": "2023-10-06T16:23:00.834079Z"
    }
   },
   "id": "2b3cde59427bbd47"
  },
  {
   "cell_type": "markdown",
   "source": [
    "This function allows us to take in a matrix and return its estimation from SVD."
   ],
   "metadata": {
    "collapsed": false
   },
   "id": "d12b4a4a344623b7"
  },
  {
   "cell_type": "code",
   "execution_count": 31,
   "outputs": [],
   "source": [
    "def low_rank(X, M=1):\n",
    "    U, D, V = np.linalg.svd(X)\n",
    "    L = U[:,:M] * D[None,:M] \n",
    "    return L.dot(V[:M])"
   ],
   "metadata": {
    "collapsed": false,
    "ExecuteTime": {
     "end_time": "2023-10-06T16:23:00.950736Z",
     "start_time": "2023-10-06T16:23:00.841377Z"
    }
   },
   "id": "7ded6da658af71db"
  },
  {
   "cell_type": "markdown",
   "source": [
    "Here we replace the missing values (the ones we purposely got rid of) with the means of the other entries in the column.\n",
    "\n",
    "The matrix ```imiss``` is a logical matrix having the same dimensions of ```Xna```.  \n",
    "\n",
    "Step 2A involved approximating ```Xhat``` with our function defined ```low_rank()```. Set 2B we use ```Xapp``` to update the estimates for the missing data. In step 3C we finally compute the relative error."
   ],
   "metadata": {
    "collapsed": false
   },
   "id": "22e5dca1cc1de4f4"
  },
  {
   "cell_type": "code",
   "execution_count": 32,
   "outputs": [],
   "source": [
    "Xhat = Xna.copy()\n",
    "Xbar = np.nanmean(Xhat, axis=0) \n",
    "Xhat[r_idx, c_idx] = Xbar[c_idx]"
   ],
   "metadata": {
    "collapsed": false,
    "ExecuteTime": {
     "end_time": "2023-10-06T16:23:00.950789Z",
     "start_time": "2023-10-06T16:23:00.849902Z"
    }
   },
   "id": "6c47f03a4b925942"
  },
  {
   "cell_type": "code",
   "execution_count": 33,
   "outputs": [],
   "source": [
    "thresh = 1e-7\n",
    "rel_err = 1\n",
    "count = 0\n",
    "ismiss = np.isnan(Xna)\n",
    "mssold = np.mean(Xhat[~ismiss]**2)\n",
    "mss0 = np.mean(Xna[~ismiss]**2)"
   ],
   "metadata": {
    "collapsed": false,
    "ExecuteTime": {
     "end_time": "2023-10-06T16:23:00.950840Z",
     "start_time": "2023-10-06T16:23:00.882042Z"
    }
   },
   "id": "a2ae1ded9d009fee"
  },
  {
   "cell_type": "markdown",
   "source": [
    "This process actually only takes eight iterations as after that the relative error falls below ```1e-7```.\n"
   ],
   "metadata": {
    "collapsed": false
   },
   "id": "272f68420c0bfd43"
  },
  {
   "cell_type": "code",
   "execution_count": 34,
   "outputs": [
    {
     "name": "stdout",
     "output_type": "stream",
     "text": [
      "Iteration: 1, MSS:0.395, Rel.Err 5.99e-01\n",
      "Iteration: 2, MSS:0.382, Rel.Err 1.33e-02\n",
      "Iteration: 3, MSS:0.381, Rel.Err 1.44e-03\n",
      "Iteration: 4, MSS:0.381, Rel.Err 1.79e-04\n",
      "Iteration: 5, MSS:0.381, Rel.Err 2.58e-05\n",
      "Iteration: 6, MSS:0.381, Rel.Err 4.22e-06\n",
      "Iteration: 7, MSS:0.381, Rel.Err 7.65e-07\n",
      "Iteration: 8, MSS:0.381, Rel.Err 1.48e-07\n",
      "Iteration: 9, MSS:0.381, Rel.Err 2.95e-08\n"
     ]
    }
   ],
   "source": [
    "while rel_err > thresh: \n",
    "    count += 1\n",
    "    # Step 2(a)\n",
    "    Xapp = low_rank(Xhat, M=1)\n",
    "    # Step 2(b)\n",
    "    Xhat[ismiss] = Xapp[ismiss]\n",
    "    # Step 2(c)\n",
    "    mss = np.mean(((Xna - Xapp)[~ismiss])**2)\n",
    "    rel_err = (mssold - mss) / mss0\n",
    "    mssold = mss\n",
    "    print(\"Iteration: {0}, MSS:{1:.3f}, Rel.Err {2:.2e}\".format(count, mss, rel_err))"
   ],
   "metadata": {
    "collapsed": false,
    "ExecuteTime": {
     "end_time": "2023-10-06T16:23:00.951021Z",
     "start_time": "2023-10-06T16:23:00.890595Z"
    }
   },
   "id": "31893d47f6628c"
  },
  {
   "cell_type": "code",
   "execution_count": 35,
   "outputs": [
    {
     "data": {
      "text/plain": "0.7113567434297362"
     },
     "execution_count": 35,
     "metadata": {},
     "output_type": "execute_result"
    }
   ],
   "source": [
    "np.corrcoef(Xapp[ismiss], X[ismiss])[0,1]"
   ],
   "metadata": {
    "collapsed": false,
    "ExecuteTime": {
     "end_time": "2023-10-06T16:23:00.951150Z",
     "start_time": "2023-10-06T16:23:00.918704Z"
    }
   },
   "id": "23439c47b33c8f40"
  },
  {
   "cell_type": "markdown",
   "source": [
    "### 12.5.3 Clustering\n"
   ],
   "metadata": {
    "collapsed": false
   },
   "id": "cac5b5973165b0c7"
  },
  {
   "cell_type": "markdown",
   "source": [
    "#####  K-Means Clustering\n",
    "\n",
    "We can use the estimator from the ```sklearn``` package to perform ```K-means``` clustering."
   ],
   "metadata": {
    "collapsed": false
   },
   "id": "96dd594e1b5b6f0b"
  },
  {
   "cell_type": "code",
   "execution_count": 36,
   "outputs": [],
   "source": [
    "np.random.seed(0);\n",
    "X = np.random.standard_normal((50,2)); X[:25,0] += 3;\n",
    "X[:25,1] -= 4;"
   ],
   "metadata": {
    "collapsed": false,
    "ExecuteTime": {
     "end_time": "2023-10-06T16:23:00.951213Z",
     "start_time": "2023-10-06T16:23:00.924309Z"
    }
   },
   "id": "8903d82cb6b0c552"
  },
  {
   "cell_type": "code",
   "execution_count": 43,
   "outputs": [],
   "source": [
    "# This performs k-means with 2 clusters\n",
    "kmeans = KMeans(n_clusters=2, random_state=2, n_init=20).fit(X)\n",
    "# k-means with 5 clusters\n",
    "kmeans_three_clsuters = KMeans(n_clusters=5, random_state=2, n_init=20).fit(X)"
   ],
   "metadata": {
    "collapsed": false,
    "ExecuteTime": {
     "end_time": "2023-10-06T18:03:40.935969Z",
     "start_time": "2023-10-06T18:03:40.884038Z"
    }
   },
   "id": "b0dd4b5ffb154f5f"
  },
  {
   "cell_type": "code",
   "execution_count": 45,
   "outputs": [
    {
     "data": {
      "text/plain": "array([0, 0, 0, 0, 0, 0, 0, 0, 0, 0, 0, 0, 0, 0, 0, 0, 0, 0, 0, 0, 0, 1,\n       0, 0, 0, 1, 1, 1, 1, 1, 1, 1, 1, 1, 1, 1, 1, 1, 1, 1, 1, 1, 1, 1,\n       1, 1, 1, 1, 1, 1], dtype=int32)"
     },
     "execution_count": 45,
     "metadata": {},
     "output_type": "execute_result"
    }
   ],
   "source": [
    "# It looks like we were able to split the data perfectly even though we did not have any labels!\n",
    "kmeans.labels_"
   ],
   "metadata": {
    "collapsed": false,
    "ExecuteTime": {
     "end_time": "2023-10-06T18:03:46.787055Z",
     "start_time": "2023-10-06T18:03:46.759130Z"
    }
   },
   "id": "b60eb75b30803815"
  },
  {
   "cell_type": "markdown",
   "source": [
    "It is easy to plot the observations in the following cell because they are already two-dimensional."
   ],
   "metadata": {
    "collapsed": false
   },
   "id": "3725c9159f5de3b2"
  },
  {
   "cell_type": "code",
   "execution_count": 39,
   "outputs": [
    {
     "data": {
      "text/plain": "<Figure size 800x800 with 1 Axes>",
      "image/png": "[encoded data removed]"
     },
     "metadata": {},
     "output_type": "display_data"
    }
   ],
   "source": [
    "fig, ax = plt.subplots(1, 1, figsize=(8,8))\n",
    "ax.scatter(X[:,0], X[:,1], c=kmeans.labels_) \n",
    "ax.set_title(\"K-Means Clustering Results with K=2\");"
   ],
   "metadata": {
    "collapsed": false,
    "ExecuteTime": {
     "end_time": "2023-10-06T16:23:01.413192Z",
     "start_time": "2023-10-06T16:23:01.250756Z"
    }
   },
   "id": "17d5c4567f9e17dc"
  },
  {
   "cell_type": "markdown",
   "source": [
    "Next we try and cluster with K=3."
   ],
   "metadata": {
    "collapsed": false
   },
   "id": "df48e0b1d1750198"
  },
  {
   "cell_type": "code",
   "execution_count": 40,
   "outputs": [
    {
     "data": {
      "text/plain": "<Figure size 800x800 with 1 Axes>",
      "image/png": "[encoded data removed]"
     },
     "metadata": {},
     "output_type": "display_data"
    }
   ],
   "source": [
    "kmeans = KMeans(n_clusters=3, random_state=3,\n",
    "n_init=20).fit(X) \n",
    "fig, ax = plt.subplots(figsize=(8,8))\n",
    "ax.scatter(X[:,0], X[:,1], c=kmeans.labels_) \n",
    "ax.set_title(\"K-Means Clustering Results with K=3\");"
   ],
   "metadata": {
    "collapsed": false,
    "ExecuteTime": {
     "end_time": "2023-10-06T16:23:01.706449Z",
     "start_time": "2023-10-06T16:23:01.367042Z"
    }
   },
   "id": "11ae31fe975aa327"
  },
  {
   "cell_type": "code",
   "execution_count": 41,
   "outputs": [
    {
     "data": {
      "text/plain": "(76.85131986999252, 75.06261242745384)"
     },
     "execution_count": 41,
     "metadata": {},
     "output_type": "execute_result"
    }
   ],
   "source": [
    "kmeans1 = KMeans(n_clusters=3, random_state=3,\n",
    "n_init=1).fit(X) \n",
    "kmeans20 = KMeans(n_clusters=3, random_state=3,\n",
    "n_init=20).fit(X);\n",
    "kmeans1.inertia_, kmeans20.inertia_"
   ],
   "metadata": {
    "collapsed": false,
    "ExecuteTime": {
     "end_time": "2023-10-06T16:23:01.706769Z",
     "start_time": "2023-10-06T16:23:01.615411Z"
    }
   },
   "id": "bf281081348a2c57"
  },
  {
   "cell_type": "markdown",
   "source": [
    "\n",
    "The inertia (which can be calculated with ```.interti_``` gives is the total within-cluster sum of squares. We seek to minimize this value with K-means clustering.\n",
    "\n",
    "Some steps to take when we perform K-means are\n",
    "- Use random multiple initial cluster assignments\n",
    "- Use a random seed in the ```random_state``` argument for ```Kmeans()``` This is important so that you clan replicate the first step of the algorithm"
   ],
   "metadata": {
    "collapsed": false
   },
   "id": "4156a4769d0c3f1a"
  }
 ],
 "metadata": {
  "kernelspec": {
   "display_name": "Python 3 (ipykernel)",
   "language": "python",
   "name": "python3"
  },
  "language_info": {
   "codemirror_mode": {
    "name": "ipython",
    "version": 3
   },
   "file_extension": ".py",
   "mimetype": "text/x-python",
   "name": "python",
   "nbconvert_exporter": "python",
   "pygments_lexer": "ipython3",
   "version": "3.11.4"
  }
 },
 "nbformat": 4,
 "nbformat_minor": 5
}
