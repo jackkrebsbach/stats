{
 "cells": [
  {
   "cell_type": "markdown",
   "source": [
    "## Lab 4: Classification\n",
    "Jack Krebsbach Math 313 "
   ],
   "metadata": {
    "collapsed": false
   },
   "id": "35ba2f83-cc21-4e5b-ac16-c0b65beb51c1"
  },
  {
   "cell_type": "markdown",
   "source": [
    "#### Imports"
   ],
   "metadata": {
    "collapsed": false
   },
   "id": "2345992dc37466ee"
  },
  {
   "cell_type": "code",
   "execution_count": 1,
   "outputs": [],
   "source": [
    "import numpy as np\n",
    "import pandas as pd\n",
    "from matplotlib.pyplot import subplots\n",
    "import statsmodels.api as sm\n",
    "from ISLP import load_data\n",
    "from ISLP.models import (ModelSpec as MS,\n",
    "summarize)"
   ],
   "metadata": {
    "collapsed": false,
    "ExecuteTime": {
     "end_time": "2023-11-28T17:14:32.417005Z",
     "start_time": "2023-11-28T17:14:29.405233Z"
    }
   },
   "id": "ed2cde7d987e7c13"
  },
  {
   "cell_type": "markdown",
   "source": [
    "##### New imports needed"
   ],
   "metadata": {
    "collapsed": false
   },
   "id": "540888c500bd60f7"
  },
  {
   "cell_type": "code",
   "execution_count": 2,
   "outputs": [],
   "source": [
    "from ISLP import confusion_table\n",
    "from ISLP.models import contrast\n",
    "from sklearn.discriminant_analysis import \\\n",
    "(LinearDiscriminantAnalysis as LDA, QuadraticDiscriminantAnalysis as QDA)\n",
    "from sklearn.naive_bayes import GaussianNB\n",
    "from sklearn.neighbors import KNeighborsClassifier \n",
    "from sklearn.preprocessing import StandardScaler\n",
    "from sklearn.model_selection import train_test_split \n",
    "from sklearn.linear_model import LogisticRegression"
   ],
   "metadata": {
    "collapsed": false,
    "ExecuteTime": {
     "end_time": "2023-11-28T17:14:32.417235Z",
     "start_time": "2023-11-28T17:14:29.746542Z"
    }
   },
   "id": "10d054665c80c60b"
  },
  {
   "cell_type": "code",
   "execution_count": 3,
   "outputs": [
    {
     "data": {
      "text/plain": "      Year   Lag1   Lag2   Lag3   Lag4   Lag5   Volume  Today Direction\n0     2001  0.381 -0.192 -2.624 -1.055  5.010  1.19130  0.959        Up\n1     2001  0.959  0.381 -0.192 -2.624 -1.055  1.29650  1.032        Up\n2     2001  1.032  0.959  0.381 -0.192 -2.624  1.41120 -0.623      Down\n3     2001 -0.623  1.032  0.959  0.381 -0.192  1.27600  0.614        Up\n4     2001  0.614 -0.623  1.032  0.959  0.381  1.20570  0.213        Up\n...    ...    ...    ...    ...    ...    ...      ...    ...       ...\n1245  2005  0.422  0.252 -0.024 -0.584 -0.285  1.88850  0.043        Up\n1246  2005  0.043  0.422  0.252 -0.024 -0.584  1.28581 -0.955      Down\n1247  2005 -0.955  0.043  0.422  0.252 -0.024  1.54047  0.130        Up\n1248  2005  0.130 -0.955  0.043  0.422  0.252  1.42236 -0.298      Down\n1249  2005 -0.298  0.130 -0.955  0.043  0.422  1.38254 -0.489      Down\n\n[1250 rows x 9 columns]",
      "text/html": "<div>\n<style scoped>\n    .dataframe tbody tr th:only-of-type {\n        vertical-align: middle;\n    }\n\n    .dataframe tbody tr th {\n        vertical-align: top;\n    }\n\n    .dataframe thead th {\n        text-align: right;\n    }\n</style>\n<table border=\"1\" class=\"dataframe\">\n  <thead>\n    <tr style=\"text-align: right;\">\n      <th></th>\n      <th>Year</th>\n      <th>Lag1</th>\n      <th>Lag2</th>\n      <th>Lag3</th>\n      <th>Lag4</th>\n      <th>Lag5</th>\n      <th>Volume</th>\n      <th>Today</th>\n      <th>Direction</th>\n    </tr>\n  </thead>\n  <tbody>\n    <tr>\n      <th>0</th>\n      <td>2001</td>\n      <td>0.381</td>\n      <td>-0.192</td>\n      <td>-2.624</td>\n      <td>-1.055</td>\n      <td>5.010</td>\n      <td>1.19130</td>\n      <td>0.959</td>\n      <td>Up</td>\n    </tr>\n    <tr>\n      <th>1</th>\n      <td>2001</td>\n      <td>0.959</td>\n      <td>0.381</td>\n      <td>-0.192</td>\n      <td>-2.624</td>\n      <td>-1.055</td>\n      <td>1.29650</td>\n      <td>1.032</td>\n      <td>Up</td>\n    </tr>\n    <tr>\n      <th>2</th>\n      <td>2001</td>\n      <td>1.032</td>\n      <td>0.959</td>\n      <td>0.381</td>\n      <td>-0.192</td>\n      <td>-2.624</td>\n      <td>1.41120</td>\n      <td>-0.623</td>\n      <td>Down</td>\n    </tr>\n    <tr>\n      <th>3</th>\n      <td>2001</td>\n      <td>-0.623</td>\n      <td>1.032</td>\n      <td>0.959</td>\n      <td>0.381</td>\n      <td>-0.192</td>\n      <td>1.27600</td>\n      <td>0.614</td>\n      <td>Up</td>\n    </tr>\n    <tr>\n      <th>4</th>\n      <td>2001</td>\n      <td>0.614</td>\n      <td>-0.623</td>\n      <td>1.032</td>\n      <td>0.959</td>\n      <td>0.381</td>\n      <td>1.20570</td>\n      <td>0.213</td>\n      <td>Up</td>\n    </tr>\n    <tr>\n      <th>...</th>\n      <td>...</td>\n      <td>...</td>\n      <td>...</td>\n      <td>...</td>\n      <td>...</td>\n      <td>...</td>\n      <td>...</td>\n      <td>...</td>\n      <td>...</td>\n    </tr>\n    <tr>\n      <th>1245</th>\n      <td>2005</td>\n      <td>0.422</td>\n      <td>0.252</td>\n      <td>-0.024</td>\n      <td>-0.584</td>\n      <td>-0.285</td>\n      <td>1.88850</td>\n      <td>0.043</td>\n      <td>Up</td>\n    </tr>\n    <tr>\n      <th>1246</th>\n      <td>2005</td>\n      <td>0.043</td>\n      <td>0.422</td>\n      <td>0.252</td>\n      <td>-0.024</td>\n      <td>-0.584</td>\n      <td>1.28581</td>\n      <td>-0.955</td>\n      <td>Down</td>\n    </tr>\n    <tr>\n      <th>1247</th>\n      <td>2005</td>\n      <td>-0.955</td>\n      <td>0.043</td>\n      <td>0.422</td>\n      <td>0.252</td>\n      <td>-0.024</td>\n      <td>1.54047</td>\n      <td>0.130</td>\n      <td>Up</td>\n    </tr>\n    <tr>\n      <th>1248</th>\n      <td>2005</td>\n      <td>0.130</td>\n      <td>-0.955</td>\n      <td>0.043</td>\n      <td>0.422</td>\n      <td>0.252</td>\n      <td>1.42236</td>\n      <td>-0.298</td>\n      <td>Down</td>\n    </tr>\n    <tr>\n      <th>1249</th>\n      <td>2005</td>\n      <td>-0.298</td>\n      <td>0.130</td>\n      <td>-0.955</td>\n      <td>0.043</td>\n      <td>0.422</td>\n      <td>1.38254</td>\n      <td>-0.489</td>\n      <td>Down</td>\n    </tr>\n  </tbody>\n</table>\n<p>1250 rows × 9 columns</p>\n</div>"
     },
     "execution_count": 3,
     "metadata": {},
     "output_type": "execute_result"
    }
   ],
   "source": [
    "# Load the data\n",
    "Smarket = load_data('Smarket')\n",
    "Smarket"
   ],
   "metadata": {
    "collapsed": false,
    "ExecuteTime": {
     "end_time": "2023-11-28T17:14:32.417629Z",
     "start_time": "2023-11-28T17:14:29.760778Z"
    }
   },
   "id": "a7dfea7d18154ac"
  },
  {
   "cell_type": "code",
   "execution_count": 4,
   "outputs": [
    {
     "data": {
      "text/plain": "Index(['Year', 'Lag1', 'Lag2', 'Lag3', 'Lag4', 'Lag5', 'Volume', 'Today',\n       'Direction'],\n      dtype='object')"
     },
     "execution_count": 4,
     "metadata": {},
     "output_type": "execute_result"
    }
   ],
   "source": [
    "# Columns of data set\n",
    "Smarket.columns"
   ],
   "metadata": {
    "collapsed": false,
    "ExecuteTime": {
     "end_time": "2023-11-28T17:14:32.417807Z",
     "start_time": "2023-11-28T17:14:29.775858Z"
    }
   },
   "id": "a1fbb1903a9656a2"
  },
  {
   "cell_type": "code",
   "execution_count": 5,
   "outputs": [
    {
     "name": "stderr",
     "output_type": "stream",
     "text": [
      "/var/folders/gf/bt25hkv172n_bttx0h72_6340000gn/T/ipykernel_12419/1422385858.py:1: FutureWarning: The default value of numeric_only in DataFrame.corr is deprecated. In a future version, it will default to False. Select only valid columns or specify the value of numeric_only to silence this warning.\n",
      "  Smarket.corr()\n"
     ]
    },
    {
     "data": {
      "text/plain": "            Year      Lag1      Lag2      Lag3      Lag4      Lag5    Volume  \\\nYear    1.000000  0.029700  0.030596  0.033195  0.035689  0.029788  0.539006   \nLag1    0.029700  1.000000 -0.026294 -0.010803 -0.002986 -0.005675  0.040910   \nLag2    0.030596 -0.026294  1.000000 -0.025897 -0.010854 -0.003558 -0.043383   \nLag3    0.033195 -0.010803 -0.025897  1.000000 -0.024051 -0.018808 -0.041824   \nLag4    0.035689 -0.002986 -0.010854 -0.024051  1.000000 -0.027084 -0.048414   \nLag5    0.029788 -0.005675 -0.003558 -0.018808 -0.027084  1.000000 -0.022002   \nVolume  0.539006  0.040910 -0.043383 -0.041824 -0.048414 -0.022002  1.000000   \nToday   0.030095 -0.026155 -0.010250 -0.002448 -0.006900 -0.034860  0.014592   \n\n           Today  \nYear    0.030095  \nLag1   -0.026155  \nLag2   -0.010250  \nLag3   -0.002448  \nLag4   -0.006900  \nLag5   -0.034860  \nVolume  0.014592  \nToday   1.000000  ",
      "text/html": "<div>\n<style scoped>\n    .dataframe tbody tr th:only-of-type {\n        vertical-align: middle;\n    }\n\n    .dataframe tbody tr th {\n        vertical-align: top;\n    }\n\n    .dataframe thead th {\n        text-align: right;\n    }\n</style>\n<table border=\"1\" class=\"dataframe\">\n  <thead>\n    <tr style=\"text-align: right;\">\n      <th></th>\n      <th>Year</th>\n      <th>Lag1</th>\n      <th>Lag2</th>\n      <th>Lag3</th>\n      <th>Lag4</th>\n      <th>Lag5</th>\n      <th>Volume</th>\n      <th>Today</th>\n    </tr>\n  </thead>\n  <tbody>\n    <tr>\n      <th>Year</th>\n      <td>1.000000</td>\n      <td>0.029700</td>\n      <td>0.030596</td>\n      <td>0.033195</td>\n      <td>0.035689</td>\n      <td>0.029788</td>\n      <td>0.539006</td>\n      <td>0.030095</td>\n    </tr>\n    <tr>\n      <th>Lag1</th>\n      <td>0.029700</td>\n      <td>1.000000</td>\n      <td>-0.026294</td>\n      <td>-0.010803</td>\n      <td>-0.002986</td>\n      <td>-0.005675</td>\n      <td>0.040910</td>\n      <td>-0.026155</td>\n    </tr>\n    <tr>\n      <th>Lag2</th>\n      <td>0.030596</td>\n      <td>-0.026294</td>\n      <td>1.000000</td>\n      <td>-0.025897</td>\n      <td>-0.010854</td>\n      <td>-0.003558</td>\n      <td>-0.043383</td>\n      <td>-0.010250</td>\n    </tr>\n    <tr>\n      <th>Lag3</th>\n      <td>0.033195</td>\n      <td>-0.010803</td>\n      <td>-0.025897</td>\n      <td>1.000000</td>\n      <td>-0.024051</td>\n      <td>-0.018808</td>\n      <td>-0.041824</td>\n      <td>-0.002448</td>\n    </tr>\n    <tr>\n      <th>Lag4</th>\n      <td>0.035689</td>\n      <td>-0.002986</td>\n      <td>-0.010854</td>\n      <td>-0.024051</td>\n      <td>1.000000</td>\n      <td>-0.027084</td>\n      <td>-0.048414</td>\n      <td>-0.006900</td>\n    </tr>\n    <tr>\n      <th>Lag5</th>\n      <td>0.029788</td>\n      <td>-0.005675</td>\n      <td>-0.003558</td>\n      <td>-0.018808</td>\n      <td>-0.027084</td>\n      <td>1.000000</td>\n      <td>-0.022002</td>\n      <td>-0.034860</td>\n    </tr>\n    <tr>\n      <th>Volume</th>\n      <td>0.539006</td>\n      <td>0.040910</td>\n      <td>-0.043383</td>\n      <td>-0.041824</td>\n      <td>-0.048414</td>\n      <td>-0.022002</td>\n      <td>1.000000</td>\n      <td>0.014592</td>\n    </tr>\n    <tr>\n      <th>Today</th>\n      <td>0.030095</td>\n      <td>-0.026155</td>\n      <td>-0.010250</td>\n      <td>-0.002448</td>\n      <td>-0.006900</td>\n      <td>-0.034860</td>\n      <td>0.014592</td>\n      <td>1.000000</td>\n    </tr>\n  </tbody>\n</table>\n</div>"
     },
     "execution_count": 5,
     "metadata": {},
     "output_type": "execute_result"
    }
   ],
   "source": [
    "Smarket.corr()"
   ],
   "metadata": {
    "collapsed": false,
    "ExecuteTime": {
     "end_time": "2023-11-28T17:14:32.418088Z",
     "start_time": "2023-11-28T17:14:29.779520Z"
    }
   },
   "id": "ae338030e2030238"
  },
  {
   "cell_type": "code",
   "execution_count": 6,
   "outputs": [
    {
     "data": {
      "text/plain": "<Axes: >"
     },
     "execution_count": 6,
     "metadata": {},
     "output_type": "execute_result"
    },
    {
     "data": {
      "text/plain": "<Figure size 640x480 with 1 Axes>",
      "image/png": "[encoded data removed]"
     },
     "metadata": {},
     "output_type": "display_data"
    }
   ],
   "source": [
    "# Volume is increasing over time. \n",
    "Smarket.plot(y='Volume')"
   ],
   "metadata": {
    "collapsed": false,
    "ExecuteTime": {
     "end_time": "2023-11-28T17:14:32.418443Z",
     "start_time": "2023-11-28T17:14:29.785219Z"
    }
   },
   "id": "948e88da6f015ae9"
  },
  {
   "cell_type": "markdown",
   "source": [],
   "metadata": {
    "collapsed": false
   },
   "id": "7fba84b977abafb4"
  },
  {
   "cell_type": "markdown",
   "source": [
    "#### Logistic Regression\n",
    "We will fit a logistic regression models to predict ```Direction``` using ```Lag1``` through ```Lag5```."
   ],
   "metadata": {
    "collapsed": false
   },
   "id": "4b51e71c72a4add1"
  },
  {
   "cell_type": "code",
   "execution_count": 7,
   "outputs": [
    {
     "data": {
      "text/plain": "             coef  std err      z  P>|z|\nintercept -0.1260    0.241 -0.523  0.601\nLag1      -0.0731    0.050 -1.457  0.145\nLag2      -0.0423    0.050 -0.845  0.398\nLag3       0.0111    0.050  0.222  0.824\nLag4       0.0094    0.050  0.187  0.851\nLag5       0.0103    0.050  0.208  0.835\nVolume     0.1354    0.158  0.855  0.392",
      "text/html": "<div>\n<style scoped>\n    .dataframe tbody tr th:only-of-type {\n        vertical-align: middle;\n    }\n\n    .dataframe tbody tr th {\n        vertical-align: top;\n    }\n\n    .dataframe thead th {\n        text-align: right;\n    }\n</style>\n<table border=\"1\" class=\"dataframe\">\n  <thead>\n    <tr style=\"text-align: right;\">\n      <th></th>\n      <th>coef</th>\n      <th>std err</th>\n      <th>z</th>\n      <th>P&gt;|z|</th>\n    </tr>\n  </thead>\n  <tbody>\n    <tr>\n      <th>intercept</th>\n      <td>-0.1260</td>\n      <td>0.241</td>\n      <td>-0.523</td>\n      <td>0.601</td>\n    </tr>\n    <tr>\n      <th>Lag1</th>\n      <td>-0.0731</td>\n      <td>0.050</td>\n      <td>-1.457</td>\n      <td>0.145</td>\n    </tr>\n    <tr>\n      <th>Lag2</th>\n      <td>-0.0423</td>\n      <td>0.050</td>\n      <td>-0.845</td>\n      <td>0.398</td>\n    </tr>\n    <tr>\n      <th>Lag3</th>\n      <td>0.0111</td>\n      <td>0.050</td>\n      <td>0.222</td>\n      <td>0.824</td>\n    </tr>\n    <tr>\n      <th>Lag4</th>\n      <td>0.0094</td>\n      <td>0.050</td>\n      <td>0.187</td>\n      <td>0.851</td>\n    </tr>\n    <tr>\n      <th>Lag5</th>\n      <td>0.0103</td>\n      <td>0.050</td>\n      <td>0.208</td>\n      <td>0.835</td>\n    </tr>\n    <tr>\n      <th>Volume</th>\n      <td>0.1354</td>\n      <td>0.158</td>\n      <td>0.855</td>\n      <td>0.392</td>\n    </tr>\n  </tbody>\n</table>\n</div>"
     },
     "execution_count": 7,
     "metadata": {},
     "output_type": "execute_result"
    }
   ],
   "source": [
    "# To run LR we use family = sm.families.Binomial()\n",
    "allvars = Smarket.columns.drop(['Today', 'Direction', 'Year']) \n",
    "design = MS(allvars)\n",
    "X = design.fit_transform(Smarket)\n",
    "y = Smarket.Direction == 'Up'\n",
    "glm = sm.GLM(y, X, family=sm.families.Binomial())\n",
    "results = glm.fit()\n",
    "summarize(results)"
   ],
   "metadata": {
    "collapsed": false,
    "ExecuteTime": {
     "end_time": "2023-11-28T17:14:32.418674Z",
     "start_time": "2023-11-28T17:14:29.902864Z"
    }
   },
   "id": "722710083f6fc010"
  },
  {
   "cell_type": "markdown",
   "source": [
    "The smallest p-value here is associated with Lag1, but it is still not enough to provide clear evidence of an association between ```Lag1``` and ```Direction```. Because it is a negative coefficient that means a positive increase in market in the previous day suggests it is less likely to go up today."
   ],
   "metadata": {
    "collapsed": false
   },
   "id": "eaffab86f7a4a776"
  },
  {
   "cell_type": "code",
   "execution_count": 8,
   "outputs": [
    {
     "data": {
      "text/plain": "intercept   -0.126000\nLag1        -0.073074\nLag2        -0.042301\nLag3         0.011085\nLag4         0.009359\nLag5         0.010313\nVolume       0.135441\ndtype: float64"
     },
     "execution_count": 8,
     "metadata": {},
     "output_type": "execute_result"
    }
   ],
   "source": [
    "# Grab the coefficients \n",
    "results.params"
   ],
   "metadata": {
    "collapsed": false,
    "ExecuteTime": {
     "end_time": "2023-11-28T17:14:32.418788Z",
     "start_time": "2023-11-28T17:14:29.960075Z"
    }
   },
   "id": "5e64257d10bd714e"
  },
  {
   "cell_type": "code",
   "execution_count": 9,
   "outputs": [
    {
     "data": {
      "text/plain": "intercept    0.600700\nLag1         0.145232\nLag2         0.398352\nLag3         0.824334\nLag4         0.851445\nLag5         0.834998\nVolume       0.392404\ndtype: float64"
     },
     "execution_count": 9,
     "metadata": {},
     "output_type": "execute_result"
    }
   ],
   "source": [
    "# Grab the p-values\n",
    "results.pvalues"
   ],
   "metadata": {
    "collapsed": false,
    "ExecuteTime": {
     "end_time": "2023-11-28T17:14:32.427591Z",
     "start_time": "2023-11-28T17:14:29.963396Z"
    }
   },
   "id": "5b98b8a15d8ecc61"
  },
  {
   "cell_type": "code",
   "execution_count": 10,
   "outputs": [
    {
     "data": {
      "text/plain": "array([0.50708413, 0.48146788, 0.48113883, 0.51522236, 0.51078116,\n       0.50695646, 0.49265087, 0.50922916, 0.51761353, 0.48883778])"
     },
     "execution_count": 10,
     "metadata": {},
     "output_type": "execute_result"
    }
   ],
   "source": [
    "probs = results.predict() \n",
    "probs [:10]"
   ],
   "metadata": {
    "collapsed": false,
    "ExecuteTime": {
     "end_time": "2023-11-28T17:14:32.427791Z",
     "start_time": "2023-11-28T17:14:29.969445Z"
    }
   },
   "id": "f039d1661bbcf5dd"
  },
  {
   "cell_type": "markdown",
   "source": [
    "To predict a binary response -- up or down -- we must first convert these probabilities to class labels based on if the probability is greater or less than 0.5."
   ],
   "metadata": {
    "collapsed": false
   },
   "id": "b6400c5fc86f58a"
  },
  {
   "cell_type": "code",
   "execution_count": 11,
   "outputs": [],
   "source": [
    "# Create array of length 1250 with each element Down\n",
    "labels = np.array(['Down']*1250) \n",
    "labels[probs>0.5] = \"Up\""
   ],
   "metadata": {
    "collapsed": false,
    "ExecuteTime": {
     "end_time": "2023-11-28T17:14:32.427851Z",
     "start_time": "2023-11-28T17:14:29.972863Z"
    }
   },
   "id": "81d8abdddd05238"
  },
  {
   "cell_type": "code",
   "execution_count": 12,
   "outputs": [
    {
     "data": {
      "text/plain": "Truth      Down   Up\nPredicted           \nDown        145  141\nUp          457  507",
      "text/html": "<div>\n<style scoped>\n    .dataframe tbody tr th:only-of-type {\n        vertical-align: middle;\n    }\n\n    .dataframe tbody tr th {\n        vertical-align: top;\n    }\n\n    .dataframe thead th {\n        text-align: right;\n    }\n</style>\n<table border=\"1\" class=\"dataframe\">\n  <thead>\n    <tr style=\"text-align: right;\">\n      <th>Truth</th>\n      <th>Down</th>\n      <th>Up</th>\n    </tr>\n    <tr>\n      <th>Predicted</th>\n      <th></th>\n      <th></th>\n    </tr>\n  </thead>\n  <tbody>\n    <tr>\n      <th>Down</th>\n      <td>145</td>\n      <td>141</td>\n    </tr>\n    <tr>\n      <th>Up</th>\n      <td>457</td>\n      <td>507</td>\n    </tr>\n  </tbody>\n</table>\n</div>"
     },
     "execution_count": 12,
     "metadata": {},
     "output_type": "execute_result"
    }
   ],
   "source": [
    "confusion_table(labels, Smarket.Direction)"
   ],
   "metadata": {
    "collapsed": false,
    "ExecuteTime": {
     "end_time": "2023-11-28T17:14:32.428249Z",
     "start_time": "2023-11-28T17:14:29.975572Z"
    }
   },
   "id": "59b460bed833dab"
  },
  {
   "cell_type": "code",
   "execution_count": 13,
   "outputs": [
    {
     "data": {
      "text/plain": "(0.5216, 0.5216)"
     },
     "execution_count": 13,
     "metadata": {},
     "output_type": "execute_result"
    }
   ],
   "source": [
    "(507+145)/1250, np.mean(labels == Smarket.Direction)"
   ],
   "metadata": {
    "collapsed": false,
    "ExecuteTime": {
     "end_time": "2023-11-28T17:14:32.428366Z",
     "start_time": "2023-11-28T17:14:29.982235Z"
    }
   },
   "id": "4faa7f6c805a283f"
  },
  {
   "cell_type": "markdown",
   "source": [
    "The training error rate here is 100 - 52.2 = 47.8, which is overly optimistic. To get a more clear idea of the true error rate we create a training and testing set. "
   ],
   "metadata": {
    "collapsed": false
   },
   "id": "bad74bacc80d1660"
  },
  {
   "cell_type": "code",
   "execution_count": 14,
   "outputs": [
    {
     "data": {
      "text/plain": "(252, 9)"
     },
     "execution_count": 14,
     "metadata": {},
     "output_type": "execute_result"
    }
   ],
   "source": [
    "train = (Smarket.Year < 2005) \n",
    "Smarket_train = Smarket.loc[train]\n",
    "Smarket_test = Smarket.loc[~train]\n",
    "Smarket_test.shape"
   ],
   "metadata": {
    "collapsed": false,
    "ExecuteTime": {
     "end_time": "2023-11-28T17:14:32.428471Z",
     "start_time": "2023-11-28T17:14:29.984793Z"
    }
   },
   "id": "56770205d2072be2"
  },
  {
   "cell_type": "markdown",
   "source": [],
   "metadata": {
    "collapsed": false
   },
   "id": "d80d82ed80de6483"
  },
  {
   "cell_type": "code",
   "execution_count": 15,
   "outputs": [],
   "source": [
    "X_train, X_test = X.loc[train], X.loc[~train] \n",
    "y_train, y_test = y.loc[train], y.loc[~train] \n",
    "glm_train = sm.GLM(y_train, X_train , family=sm.families.Binomial())\n",
    "results = glm_train.fit()\n",
    "probs = results.predict(exog=X_test)"
   ],
   "metadata": {
    "collapsed": false,
    "ExecuteTime": {
     "end_time": "2023-11-28T17:14:32.428520Z",
     "start_time": "2023-11-28T17:14:29.988766Z"
    }
   },
   "id": "ac0f029c82dd78a3"
  },
  {
   "cell_type": "code",
   "execution_count": 16,
   "outputs": [],
   "source": [
    "D = Smarket.Direction\n",
    "L_train, L_test = D.loc[train], D.loc[~train]"
   ],
   "metadata": {
    "collapsed": false,
    "ExecuteTime": {
     "end_time": "2023-11-28T17:14:32.428567Z",
     "start_time": "2023-11-28T17:14:29.993141Z"
    }
   },
   "id": "959e3bf439a0ba3e"
  },
  {
   "cell_type": "code",
   "execution_count": 17,
   "outputs": [
    {
     "data": {
      "text/plain": "Truth      Down  Up\nPredicted          \nDown         77  97\nUp           34  44",
      "text/html": "<div>\n<style scoped>\n    .dataframe tbody tr th:only-of-type {\n        vertical-align: middle;\n    }\n\n    .dataframe tbody tr th {\n        vertical-align: top;\n    }\n\n    .dataframe thead th {\n        text-align: right;\n    }\n</style>\n<table border=\"1\" class=\"dataframe\">\n  <thead>\n    <tr style=\"text-align: right;\">\n      <th>Truth</th>\n      <th>Down</th>\n      <th>Up</th>\n    </tr>\n    <tr>\n      <th>Predicted</th>\n      <th></th>\n      <th></th>\n    </tr>\n  </thead>\n  <tbody>\n    <tr>\n      <th>Down</th>\n      <td>77</td>\n      <td>97</td>\n    </tr>\n    <tr>\n      <th>Up</th>\n      <td>34</td>\n      <td>44</td>\n    </tr>\n  </tbody>\n</table>\n</div>"
     },
     "execution_count": 17,
     "metadata": {},
     "output_type": "execute_result"
    }
   ],
   "source": [
    "# Create array for all observations\n",
    "labels = np.array(['Down']*252)\n",
    "# Classify with decision rule\n",
    "labels[probs>0.5] = 'Up' \n",
    "# Create confusion matrix\n",
    "confusion_table(labels, L_test)"
   ],
   "metadata": {
    "collapsed": false,
    "ExecuteTime": {
     "end_time": "2023-11-28T17:14:32.428711Z",
     "start_time": "2023-11-28T17:14:29.995890Z"
    }
   },
   "id": "dc94d17b2defc1a9"
  },
  {
   "cell_type": "code",
   "execution_count": 18,
   "outputs": [
    {
     "data": {
      "text/plain": "(0.4801587301587302, 0.5198412698412699)"
     },
     "execution_count": 18,
     "metadata": {},
     "output_type": "execute_result"
    }
   ],
   "source": [
    "np.mean(labels == L_test), np.mean(labels != L_test)"
   ],
   "metadata": {
    "collapsed": false,
    "ExecuteTime": {
     "end_time": "2023-11-28T17:14:32.428823Z",
     "start_time": "2023-11-28T17:14:30.000563Z"
    }
   },
   "id": "afdf812f552b2808"
  },
  {
   "cell_type": "markdown",
   "source": [
    "- The diagonals of the decision matrix are the correct values.\n",
    "- The test accuracy is ~48%\n",
    "- The test error rate is ~52%"
   ],
   "metadata": {
    "collapsed": false
   },
   "id": "de4d21af8156398c"
  },
  {
   "cell_type": "markdown",
   "source": [],
   "metadata": {
    "collapsed": false
   },
   "id": "8e296a57c08816da"
  },
  {
   "cell_type": "code",
   "execution_count": 19,
   "outputs": [
    {
     "data": {
      "text/plain": "Truth      Down   Up\nPredicted           \nDown         35   35\nUp           76  106",
      "text/html": "<div>\n<style scoped>\n    .dataframe tbody tr th:only-of-type {\n        vertical-align: middle;\n    }\n\n    .dataframe tbody tr th {\n        vertical-align: top;\n    }\n\n    .dataframe thead th {\n        text-align: right;\n    }\n</style>\n<table border=\"1\" class=\"dataframe\">\n  <thead>\n    <tr style=\"text-align: right;\">\n      <th>Truth</th>\n      <th>Down</th>\n      <th>Up</th>\n    </tr>\n    <tr>\n      <th>Predicted</th>\n      <th></th>\n      <th></th>\n    </tr>\n  </thead>\n  <tbody>\n    <tr>\n      <th>Down</th>\n      <td>35</td>\n      <td>35</td>\n    </tr>\n    <tr>\n      <th>Up</th>\n      <td>76</td>\n      <td>106</td>\n    </tr>\n  </tbody>\n</table>\n</div>"
     },
     "execution_count": 19,
     "metadata": {},
     "output_type": "execute_result"
    }
   ],
   "source": [
    "# We build a model with just Lag1 and Lag2\n",
    "model = MS(['Lag1', 'Lag2']).fit(Smarket)\n",
    "X = model.transform(Smarket)\n",
    "X_train, X_test = X.loc[train], X.loc[~train]\n",
    "glm_train = sm.GLM(y_train, X_train , family=sm.families.Binomial()) \n",
    "results = glm_train.fit()\n",
    "probs = results.predict(exog=X_test)\n",
    "labels = np.array(['Down']*252) \n",
    "labels[probs>0.5] = 'Up' \n",
    "confusion_table(labels, L_test)"
   ],
   "metadata": {
    "collapsed": false,
    "ExecuteTime": {
     "end_time": "2023-11-28T17:14:32.428969Z",
     "start_time": "2023-11-28T17:14:30.007089Z"
    }
   },
   "id": "94e7820886b2f179"
  },
  {
   "cell_type": "code",
   "execution_count": 20,
   "outputs": [
    {
     "data": {
      "text/plain": "(0.5595238095238095, 0.5824175824175825)"
     },
     "execution_count": 20,
     "metadata": {},
     "output_type": "execute_result"
    }
   ],
   "source": [
    "(35+106) /252 ,106/(106+76)"
   ],
   "metadata": {
    "collapsed": false,
    "ExecuteTime": {
     "end_time": "2023-11-28T17:14:32.429081Z",
     "start_time": "2023-11-28T17:14:30.013890Z"
    }
   },
   "id": "48500ac6956dffd9"
  },
  {
   "cell_type": "code",
   "execution_count": 21,
   "outputs": [],
   "source": [
    "newdata = pd.DataFrame({'Lag1':[1.2, 1.5], 'Lag2':[1.1, -0.8]});"
   ],
   "metadata": {
    "collapsed": false,
    "ExecuteTime": {
     "end_time": "2023-11-28T17:14:32.429128Z",
     "start_time": "2023-11-28T17:14:30.016334Z"
    }
   },
   "id": "62fb9cf4263a2924"
  },
  {
   "cell_type": "code",
   "execution_count": 22,
   "outputs": [
    {
     "data": {
      "text/plain": "0    0.479146\n1    0.496094\ndtype: float64"
     },
     "execution_count": 22,
     "metadata": {},
     "output_type": "execute_result"
    }
   ],
   "source": [
    "newX = model.transform(newdata)\n",
    "results.predict(newX)"
   ],
   "metadata": {
    "collapsed": false,
    "ExecuteTime": {
     "end_time": "2023-11-28T17:14:32.429235Z",
     "start_time": "2023-11-28T17:14:30.020341Z"
    }
   },
   "id": "442ea90d3293c3f4"
  },
  {
   "cell_type": "markdown",
   "source": [
    "We see that when in this new model the overall accuracy goes up. This logistic regression model has a 58% accuracy rate predicting increases in the market."
   ],
   "metadata": {
    "collapsed": false
   },
   "id": "9939aed6573c59b4"
  },
  {
   "cell_type": "markdown",
   "source": [
    "#### Linear Discriminant Analysis\n",
    "\n",
    "We perform Linear Discriminant Analysis on the Smarket data."
   ],
   "metadata": {
    "collapsed": false
   },
   "id": "1a1673441d07ede6"
  },
  {
   "cell_type": "code",
   "execution_count": 23,
   "outputs": [],
   "source": [
    "# Create instance of LDA\n",
    "lda = LDA(store_covariance=True)"
   ],
   "metadata": {
    "collapsed": false,
    "ExecuteTime": {
     "end_time": "2023-11-28T17:14:32.429282Z",
     "start_time": "2023-11-28T17:14:30.022141Z"
    }
   },
   "id": "b99e27e0f373daa1"
  },
  {
   "cell_type": "code",
   "execution_count": 24,
   "outputs": [
    {
     "data": {
      "text/plain": "LinearDiscriminantAnalysis(store_covariance=True)",
      "text/html": "<style>#sk-container-id-1 {color: black;background-color: white;}#sk-container-id-1 pre{padding: 0;}#sk-container-id-1 div.sk-toggleable {background-color: white;}#sk-container-id-1 label.sk-toggleable__label {cursor: pointer;display: block;width: 100%;margin-bottom: 0;padding: 0.3em;box-sizing: border-box;text-align: center;}#sk-container-id-1 label.sk-toggleable__label-arrow:before {content: \"▸\";float: left;margin-right: 0.25em;color: #696969;}#sk-container-id-1 label.sk-toggleable__label-arrow:hover:before {color: black;}#sk-container-id-1 div.sk-estimator:hover label.sk-toggleable__label-arrow:before {color: black;}#sk-container-id-1 div.sk-toggleable__content {max-height: 0;max-width: 0;overflow: hidden;text-align: left;background-color: #f0f8ff;}#sk-container-id-1 div.sk-toggleable__content pre {margin: 0.2em;color: black;border-radius: 0.25em;background-color: #f0f8ff;}#sk-container-id-1 input.sk-toggleable__control:checked~div.sk-toggleable__content {max-height: 200px;max-width: 100%;overflow: auto;}#sk-container-id-1 input.sk-toggleable__control:checked~label.sk-toggleable__label-arrow:before {content: \"▾\";}#sk-container-id-1 div.sk-estimator input.sk-toggleable__control:checked~label.sk-toggleable__label {background-color: #d4ebff;}#sk-container-id-1 div.sk-label input.sk-toggleable__control:checked~label.sk-toggleable__label {background-color: #d4ebff;}#sk-container-id-1 input.sk-hidden--visually {border: 0;clip: rect(1px 1px 1px 1px);clip: rect(1px, 1px, 1px, 1px);height: 1px;margin: -1px;overflow: hidden;padding: 0;position: absolute;width: 1px;}#sk-container-id-1 div.sk-estimator {font-family: monospace;background-color: #f0f8ff;border: 1px dotted black;border-radius: 0.25em;box-sizing: border-box;margin-bottom: 0.5em;}#sk-container-id-1 div.sk-estimator:hover {background-color: #d4ebff;}#sk-container-id-1 div.sk-parallel-item::after {content: \"\";width: 100%;border-bottom: 1px solid gray;flex-grow: 1;}#sk-container-id-1 div.sk-label:hover label.sk-toggleable__label {background-color: #d4ebff;}#sk-container-id-1 div.sk-serial::before {content: \"\";position: absolute;border-left: 1px solid gray;box-sizing: border-box;top: 0;bottom: 0;left: 50%;z-index: 0;}#sk-container-id-1 div.sk-serial {display: flex;flex-direction: column;align-items: center;background-color: white;padding-right: 0.2em;padding-left: 0.2em;position: relative;}#sk-container-id-1 div.sk-item {position: relative;z-index: 1;}#sk-container-id-1 div.sk-parallel {display: flex;align-items: stretch;justify-content: center;background-color: white;position: relative;}#sk-container-id-1 div.sk-item::before, #sk-container-id-1 div.sk-parallel-item::before {content: \"\";position: absolute;border-left: 1px solid gray;box-sizing: border-box;top: 0;bottom: 0;left: 50%;z-index: -1;}#sk-container-id-1 div.sk-parallel-item {display: flex;flex-direction: column;z-index: 1;position: relative;background-color: white;}#sk-container-id-1 div.sk-parallel-item:first-child::after {align-self: flex-end;width: 50%;}#sk-container-id-1 div.sk-parallel-item:last-child::after {align-self: flex-start;width: 50%;}#sk-container-id-1 div.sk-parallel-item:only-child::after {width: 0;}#sk-container-id-1 div.sk-dashed-wrapped {border: 1px dashed gray;margin: 0 0.4em 0.5em 0.4em;box-sizing: border-box;padding-bottom: 0.4em;background-color: white;}#sk-container-id-1 div.sk-label label {font-family: monospace;font-weight: bold;display: inline-block;line-height: 1.2em;}#sk-container-id-1 div.sk-label-container {text-align: center;}#sk-container-id-1 div.sk-container {/* jupyter's `normalize.less` sets `[hidden] { display: none; }` but bootstrap.min.css set `[hidden] { display: none !important; }` so we also need the `!important` here to be able to override the default hidden behavior on the sphinx rendered scikit-learn.org. See: https://github.com/scikit-learn/scikit-learn/issues/21755 */display: inline-block !important;position: relative;}#sk-container-id-1 div.sk-text-repr-fallback {display: none;}</style><div id=\"sk-container-id-1\" class=\"sk-top-container\"><div class=\"sk-text-repr-fallback\"><pre>LinearDiscriminantAnalysis(store_covariance=True)</pre><b>In a Jupyter environment, please rerun this cell to show the HTML representation or trust the notebook. <br />On GitHub, the HTML representation is unable to render, please try loading this page with nbviewer.org.</b></div><div class=\"sk-container\" hidden><div class=\"sk-item\"><div class=\"sk-estimator sk-toggleable\"><input class=\"sk-toggleable__control sk-hidden--visually\" id=\"sk-estimator-id-1\" type=\"checkbox\" checked><label for=\"sk-estimator-id-1\" class=\"sk-toggleable__label sk-toggleable__label-arrow\">LinearDiscriminantAnalysis</label><div class=\"sk-toggleable__content\"><pre>LinearDiscriminantAnalysis(store_covariance=True)</pre></div></div></div></div></div>"
     },
     "execution_count": 24,
     "metadata": {},
     "output_type": "execute_result"
    }
   ],
   "source": [
    "# Split the train ant test set\n",
    "X_train, X_test = [M.drop(columns=['intercept']) for M in [X_train, X_test]]\n",
    "lda.fit(X_train, L_train)"
   ],
   "metadata": {
    "collapsed": false,
    "ExecuteTime": {
     "end_time": "2023-11-28T17:14:32.429515Z",
     "start_time": "2023-11-28T17:14:30.025409Z"
    }
   },
   "id": "4c3a0f9dbcab46df"
  },
  {
   "cell_type": "markdown",
   "source": [
    "We can extract the means of the two classes with the means attribute on the ```lda``` object."
   ],
   "metadata": {
    "collapsed": false
   },
   "id": "d566158a054c9a8b"
  },
  {
   "cell_type": "code",
   "execution_count": 25,
   "outputs": [
    {
     "data": {
      "text/plain": "array([[ 0.04279022,  0.03389409],\n       [-0.03954635, -0.03132544]])"
     },
     "execution_count": 25,
     "metadata": {},
     "output_type": "execute_result"
    }
   ],
   "source": [
    "lda.means_"
   ],
   "metadata": {
    "collapsed": false,
    "ExecuteTime": {
     "end_time": "2023-11-28T17:14:32.429632Z",
     "start_time": "2023-11-28T17:14:30.031218Z"
    }
   },
   "id": "a3c421f1b5f54690"
  },
  {
   "cell_type": "markdown",
   "source": [
    "To insure we know which class is corresponding to which label with ```lda.classes_```."
   ],
   "metadata": {
    "collapsed": false
   },
   "id": "999e39f2408f8ea9"
  },
  {
   "cell_type": "code",
   "execution_count": 26,
   "outputs": [
    {
     "data": {
      "text/plain": "array(['Down', 'Up'], dtype='<U4')"
     },
     "execution_count": 26,
     "metadata": {},
     "output_type": "execute_result"
    }
   ],
   "source": [
    "lda.classes_"
   ],
   "metadata": {
    "collapsed": false,
    "ExecuteTime": {
     "end_time": "2023-11-28T17:14:32.429738Z",
     "start_time": "2023-11-28T17:14:30.034027Z"
    }
   },
   "id": "17ee98aa1ee33e59"
  },
  {
   "cell_type": "markdown",
   "source": [
    "Extracting the priors yeilds"
   ],
   "metadata": {
    "collapsed": false
   },
   "id": "720bd9690709b6d1"
  },
  {
   "cell_type": "code",
   "execution_count": 27,
   "outputs": [
    {
     "data": {
      "text/plain": "array([0.49198397, 0.50801603])"
     },
     "execution_count": 27,
     "metadata": {},
     "output_type": "execute_result"
    }
   ],
   "source": [
    "lda.priors_"
   ],
   "metadata": {
    "collapsed": false,
    "ExecuteTime": {
     "end_time": "2023-11-28T17:14:32.429898Z",
     "start_time": "2023-11-28T17:14:30.036659Z"
    }
   },
   "id": "fc1baeb590395764"
  },
  {
   "cell_type": "code",
   "execution_count": 28,
   "outputs": [],
   "source": [
    "# Make predictions on the test set\n",
    "lda_pred = lda.predict(X_test)"
   ],
   "metadata": {
    "collapsed": false,
    "ExecuteTime": {
     "end_time": "2023-11-28T17:14:32.429946Z",
     "start_time": "2023-11-28T17:14:30.043430Z"
    }
   },
   "id": "3bb51d89a670ef35"
  },
  {
   "cell_type": "code",
   "execution_count": 29,
   "outputs": [
    {
     "data": {
      "text/plain": "array([[-0.64201904],\n       [-0.51352928]])"
     },
     "execution_count": 29,
     "metadata": {},
     "output_type": "execute_result"
    }
   ],
   "source": [
    "# The linear discriminant vectors\n",
    "lda.scalings_"
   ],
   "metadata": {
    "collapsed": false,
    "ExecuteTime": {
     "end_time": "2023-11-28T17:14:32.430049Z",
     "start_time": "2023-11-28T17:14:30.045497Z"
    }
   },
   "id": "dd01da3a7231dd98"
  },
  {
   "cell_type": "code",
   "execution_count": 30,
   "outputs": [],
   "source": [
    "# Make predictions\n",
    "lda_pred = lda.predict(X_test)"
   ],
   "metadata": {
    "collapsed": false,
    "ExecuteTime": {
     "end_time": "2023-11-28T17:14:32.430096Z",
     "start_time": "2023-11-28T17:14:30.048574Z"
    }
   },
   "id": "b1fdd9ed6a5c529a"
  },
  {
   "cell_type": "code",
   "execution_count": 31,
   "outputs": [
    {
     "data": {
      "text/plain": "Truth      Down   Up\nPredicted           \nDown         35   35\nUp           76  106",
      "text/html": "<div>\n<style scoped>\n    .dataframe tbody tr th:only-of-type {\n        vertical-align: middle;\n    }\n\n    .dataframe tbody tr th {\n        vertical-align: top;\n    }\n\n    .dataframe thead th {\n        text-align: right;\n    }\n</style>\n<table border=\"1\" class=\"dataframe\">\n  <thead>\n    <tr style=\"text-align: right;\">\n      <th>Truth</th>\n      <th>Down</th>\n      <th>Up</th>\n    </tr>\n    <tr>\n      <th>Predicted</th>\n      <th></th>\n      <th></th>\n    </tr>\n  </thead>\n  <tbody>\n    <tr>\n      <th>Down</th>\n      <td>35</td>\n      <td>35</td>\n    </tr>\n    <tr>\n      <th>Up</th>\n      <td>76</td>\n      <td>106</td>\n    </tr>\n  </tbody>\n</table>\n</div>"
     },
     "execution_count": 31,
     "metadata": {},
     "output_type": "execute_result"
    }
   ],
   "source": [
    "# Create confusing matrix\n",
    "confusion_table(lda_pred, L_test)"
   ],
   "metadata": {
    "collapsed": false,
    "ExecuteTime": {
     "end_time": "2023-11-28T17:14:32.430240Z",
     "start_time": "2023-11-28T17:14:30.052850Z"
    }
   },
   "id": "4f7a50a3042a5e13"
  },
  {
   "cell_type": "markdown",
   "source": [],
   "metadata": {
    "collapsed": false
   },
   "id": "e626fb3a62cbb9f6"
  },
  {
   "cell_type": "code",
   "execution_count": 32,
   "outputs": [
    {
     "data": {
      "text/plain": "True"
     },
     "execution_count": 32,
     "metadata": {},
     "output_type": "execute_result"
    }
   ],
   "source": [
    "lda_prob = lda.predict_proba(X_test)\n",
    "np.all(\n",
    "np.where(lda_prob[:,1] >= 0.5, 'Up','Down') == lda_pred )"
   ],
   "metadata": {
    "collapsed": false,
    "ExecuteTime": {
     "end_time": "2023-11-28T17:14:32.430343Z",
     "start_time": "2023-11-28T17:14:30.055937Z"
    }
   },
   "id": "ab9dff84f2af1efb"
  },
  {
   "cell_type": "markdown",
   "source": [
    "We can also use the posterior probabilities with a 50% threshold to re-create the predictions from the fitted lda instance."
   ],
   "metadata": {
    "collapsed": false
   },
   "id": "36c5c6f0b02d1519"
  },
  {
   "cell_type": "code",
   "execution_count": 33,
   "outputs": [
    {
     "data": {
      "text/plain": "True"
     },
     "execution_count": 33,
     "metadata": {},
     "output_type": "execute_result"
    }
   ],
   "source": [
    "np.all(\n",
    "[lda.classes_[i] for i in np.argmax(lda_prob, 1)] ==\n",
    "lda_pred )"
   ],
   "metadata": {
    "collapsed": false,
    "ExecuteTime": {
     "end_time": "2023-11-28T17:14:32.430445Z",
     "start_time": "2023-11-28T17:14:30.058974Z"
    }
   },
   "id": "4daa6ad755e42248"
  },
  {
   "cell_type": "code",
   "execution_count": 34,
   "outputs": [
    {
     "data": {
      "text/plain": "0"
     },
     "execution_count": 34,
     "metadata": {},
     "output_type": "execute_result"
    }
   ],
   "source": [
    "np.sum(lda_prob[:,0] > 0.9)"
   ],
   "metadata": {
    "collapsed": false,
    "ExecuteTime": {
     "end_time": "2023-11-28T17:14:32.430546Z",
     "start_time": "2023-11-28T17:14:30.061593Z"
    }
   },
   "id": "9a6c76a0a0a09e02"
  },
  {
   "cell_type": "markdown",
   "source": [
    "Interestingly, there are no days that meet the threshold of 90%! "
   ],
   "metadata": {
    "collapsed": false
   },
   "id": "cb1a9c4ac767de9c"
  },
  {
   "cell_type": "markdown",
   "source": [
    "\n",
    "#### Quadratic Discriminant Analysis\n",
    "Fit a QDA model on the Smarket data"
   ],
   "metadata": {
    "collapsed": false
   },
   "id": "a1a26377afa41844"
  },
  {
   "cell_type": "code",
   "execution_count": 35,
   "outputs": [
    {
     "data": {
      "text/plain": "QuadraticDiscriminantAnalysis(store_covariance=True)",
      "text/html": "<style>#sk-container-id-2 {color: black;background-color: white;}#sk-container-id-2 pre{padding: 0;}#sk-container-id-2 div.sk-toggleable {background-color: white;}#sk-container-id-2 label.sk-toggleable__label {cursor: pointer;display: block;width: 100%;margin-bottom: 0;padding: 0.3em;box-sizing: border-box;text-align: center;}#sk-container-id-2 label.sk-toggleable__label-arrow:before {content: \"▸\";float: left;margin-right: 0.25em;color: #696969;}#sk-container-id-2 label.sk-toggleable__label-arrow:hover:before {color: black;}#sk-container-id-2 div.sk-estimator:hover label.sk-toggleable__label-arrow:before {color: black;}#sk-container-id-2 div.sk-toggleable__content {max-height: 0;max-width: 0;overflow: hidden;text-align: left;background-color: #f0f8ff;}#sk-container-id-2 div.sk-toggleable__content pre {margin: 0.2em;color: black;border-radius: 0.25em;background-color: #f0f8ff;}#sk-container-id-2 input.sk-toggleable__control:checked~div.sk-toggleable__content {max-height: 200px;max-width: 100%;overflow: auto;}#sk-container-id-2 input.sk-toggleable__control:checked~label.sk-toggleable__label-arrow:before {content: \"▾\";}#sk-container-id-2 div.sk-estimator input.sk-toggleable__control:checked~label.sk-toggleable__label {background-color: #d4ebff;}#sk-container-id-2 div.sk-label input.sk-toggleable__control:checked~label.sk-toggleable__label {background-color: #d4ebff;}#sk-container-id-2 input.sk-hidden--visually {border: 0;clip: rect(1px 1px 1px 1px);clip: rect(1px, 1px, 1px, 1px);height: 1px;margin: -1px;overflow: hidden;padding: 0;position: absolute;width: 1px;}#sk-container-id-2 div.sk-estimator {font-family: monospace;background-color: #f0f8ff;border: 1px dotted black;border-radius: 0.25em;box-sizing: border-box;margin-bottom: 0.5em;}#sk-container-id-2 div.sk-estimator:hover {background-color: #d4ebff;}#sk-container-id-2 div.sk-parallel-item::after {content: \"\";width: 100%;border-bottom: 1px solid gray;flex-grow: 1;}#sk-container-id-2 div.sk-label:hover label.sk-toggleable__label {background-color: #d4ebff;}#sk-container-id-2 div.sk-serial::before {content: \"\";position: absolute;border-left: 1px solid gray;box-sizing: border-box;top: 0;bottom: 0;left: 50%;z-index: 0;}#sk-container-id-2 div.sk-serial {display: flex;flex-direction: column;align-items: center;background-color: white;padding-right: 0.2em;padding-left: 0.2em;position: relative;}#sk-container-id-2 div.sk-item {position: relative;z-index: 1;}#sk-container-id-2 div.sk-parallel {display: flex;align-items: stretch;justify-content: center;background-color: white;position: relative;}#sk-container-id-2 div.sk-item::before, #sk-container-id-2 div.sk-parallel-item::before {content: \"\";position: absolute;border-left: 1px solid gray;box-sizing: border-box;top: 0;bottom: 0;left: 50%;z-index: -1;}#sk-container-id-2 div.sk-parallel-item {display: flex;flex-direction: column;z-index: 1;position: relative;background-color: white;}#sk-container-id-2 div.sk-parallel-item:first-child::after {align-self: flex-end;width: 50%;}#sk-container-id-2 div.sk-parallel-item:last-child::after {align-self: flex-start;width: 50%;}#sk-container-id-2 div.sk-parallel-item:only-child::after {width: 0;}#sk-container-id-2 div.sk-dashed-wrapped {border: 1px dashed gray;margin: 0 0.4em 0.5em 0.4em;box-sizing: border-box;padding-bottom: 0.4em;background-color: white;}#sk-container-id-2 div.sk-label label {font-family: monospace;font-weight: bold;display: inline-block;line-height: 1.2em;}#sk-container-id-2 div.sk-label-container {text-align: center;}#sk-container-id-2 div.sk-container {/* jupyter's `normalize.less` sets `[hidden] { display: none; }` but bootstrap.min.css set `[hidden] { display: none !important; }` so we also need the `!important` here to be able to override the default hidden behavior on the sphinx rendered scikit-learn.org. See: https://github.com/scikit-learn/scikit-learn/issues/21755 */display: inline-block !important;position: relative;}#sk-container-id-2 div.sk-text-repr-fallback {display: none;}</style><div id=\"sk-container-id-2\" class=\"sk-top-container\"><div class=\"sk-text-repr-fallback\"><pre>QuadraticDiscriminantAnalysis(store_covariance=True)</pre><b>In a Jupyter environment, please rerun this cell to show the HTML representation or trust the notebook. <br />On GitHub, the HTML representation is unable to render, please try loading this page with nbviewer.org.</b></div><div class=\"sk-container\" hidden><div class=\"sk-item\"><div class=\"sk-estimator sk-toggleable\"><input class=\"sk-toggleable__control sk-hidden--visually\" id=\"sk-estimator-id-2\" type=\"checkbox\" checked><label for=\"sk-estimator-id-2\" class=\"sk-toggleable__label sk-toggleable__label-arrow\">QuadraticDiscriminantAnalysis</label><div class=\"sk-toggleable__content\"><pre>QuadraticDiscriminantAnalysis(store_covariance=True)</pre></div></div></div></div></div>"
     },
     "execution_count": 35,
     "metadata": {},
     "output_type": "execute_result"
    }
   ],
   "source": [
    "# Instantiate the model\n",
    "qda = QDA(store_covariance=True) \n",
    "qda.fit(X_train, L_train)"
   ],
   "metadata": {
    "collapsed": false,
    "ExecuteTime": {
     "end_time": "2023-11-28T17:14:32.430745Z",
     "start_time": "2023-11-28T17:14:30.065306Z"
    }
   },
   "id": "354be4db652a616f"
  },
  {
   "cell_type": "code",
   "execution_count": 36,
   "outputs": [
    {
     "data": {
      "text/plain": "(array([[ 0.04279022,  0.03389409],\n        [-0.03954635, -0.03132544]]),\n array([0.49198397, 0.50801603]))"
     },
     "execution_count": 36,
     "metadata": {},
     "output_type": "execute_result"
    }
   ],
   "source": [
    "# Get the means and priors\n",
    "qda.means_, qda.priors_"
   ],
   "metadata": {
    "collapsed": false,
    "ExecuteTime": {
     "end_time": "2023-11-28T17:14:32.430855Z",
     "start_time": "2023-11-28T17:14:30.069811Z"
    }
   },
   "id": "96fc2bb7fa16d9ed"
  },
  {
   "cell_type": "markdown",
   "source": [],
   "metadata": {
    "collapsed": false
   },
   "id": "94bd8de8872a465f"
  },
  {
   "cell_type": "markdown",
   "source": [
    "The QDA() function will compute each a covariance matrix for each class."
   ],
   "metadata": {
    "collapsed": false
   },
   "id": "b59c988cd590da7c"
  },
  {
   "cell_type": "code",
   "execution_count": 37,
   "outputs": [
    {
     "data": {
      "text/plain": "array([[ 1.50662277, -0.03924806],\n       [-0.03924806,  1.53559498]])"
     },
     "execution_count": 37,
     "metadata": {},
     "output_type": "execute_result"
    }
   ],
   "source": [
    "# Extract the covariance matrix for the first class.\n",
    "qda.covariance_[0]"
   ],
   "metadata": {
    "collapsed": false,
    "ExecuteTime": {
     "end_time": "2023-11-28T17:14:32.430960Z",
     "start_time": "2023-11-28T17:14:30.072547Z"
    }
   },
   "id": "4080bb89ef21a801"
  },
  {
   "cell_type": "markdown",
   "source": [
    "Just like before we can make predictions on the test set using the trained classifier. "
   ],
   "metadata": {
    "collapsed": false
   },
   "id": "388fddfa7bc9f0e8"
  },
  {
   "cell_type": "code",
   "execution_count": 38,
   "outputs": [
    {
     "data": {
      "text/plain": "Truth      Down   Up\nPredicted           \nDown         30   20\nUp           81  121",
      "text/html": "<div>\n<style scoped>\n    .dataframe tbody tr th:only-of-type {\n        vertical-align: middle;\n    }\n\n    .dataframe tbody tr th {\n        vertical-align: top;\n    }\n\n    .dataframe thead th {\n        text-align: right;\n    }\n</style>\n<table border=\"1\" class=\"dataframe\">\n  <thead>\n    <tr style=\"text-align: right;\">\n      <th>Truth</th>\n      <th>Down</th>\n      <th>Up</th>\n    </tr>\n    <tr>\n      <th>Predicted</th>\n      <th></th>\n      <th></th>\n    </tr>\n  </thead>\n  <tbody>\n    <tr>\n      <th>Down</th>\n      <td>30</td>\n      <td>20</td>\n    </tr>\n    <tr>\n      <th>Up</th>\n      <td>81</td>\n      <td>121</td>\n    </tr>\n  </tbody>\n</table>\n</div>"
     },
     "execution_count": 38,
     "metadata": {},
     "output_type": "execute_result"
    }
   ],
   "source": [
    "qda_pred = qda.predict(X_test) \n",
    "confusion_table(qda_pred, L_test)"
   ],
   "metadata": {
    "collapsed": false,
    "ExecuteTime": {
     "end_time": "2023-11-28T17:14:32.431112Z",
     "start_time": "2023-11-28T17:14:30.076030Z"
    }
   },
   "id": "83cfbf9c522d40e5"
  },
  {
   "cell_type": "code",
   "execution_count": 39,
   "outputs": [
    {
     "data": {
      "text/plain": "0.5992063492063492"
     },
     "execution_count": 39,
     "metadata": {},
     "output_type": "execute_result"
    }
   ],
   "source": [
    "np.mean(qda_pred == L_test)"
   ],
   "metadata": {
    "collapsed": false,
    "ExecuteTime": {
     "end_time": "2023-11-28T17:14:32.431215Z",
     "start_time": "2023-11-28T17:14:30.080757Z"
    }
   },
   "id": "1a8f2d699d290f4a"
  },
  {
   "cell_type": "markdown",
   "source": [
    "An accuracy this high for stock market data suggests that QDA has the possibility of capturing the true relationship more than the linear forms."
   ],
   "metadata": {
    "collapsed": false
   },
   "id": "bc5dc6bfac301265"
  },
  {
   "cell_type": "markdown",
   "source": [
    "#### Naive Bayes"
   ],
   "metadata": {
    "collapsed": false
   },
   "id": "ae735534b2229659"
  },
  {
   "cell_type": "code",
   "execution_count": 40,
   "outputs": [
    {
     "data": {
      "text/plain": "GaussianNB()",
      "text/html": "<style>#sk-container-id-3 {color: black;background-color: white;}#sk-container-id-3 pre{padding: 0;}#sk-container-id-3 div.sk-toggleable {background-color: white;}#sk-container-id-3 label.sk-toggleable__label {cursor: pointer;display: block;width: 100%;margin-bottom: 0;padding: 0.3em;box-sizing: border-box;text-align: center;}#sk-container-id-3 label.sk-toggleable__label-arrow:before {content: \"▸\";float: left;margin-right: 0.25em;color: #696969;}#sk-container-id-3 label.sk-toggleable__label-arrow:hover:before {color: black;}#sk-container-id-3 div.sk-estimator:hover label.sk-toggleable__label-arrow:before {color: black;}#sk-container-id-3 div.sk-toggleable__content {max-height: 0;max-width: 0;overflow: hidden;text-align: left;background-color: #f0f8ff;}#sk-container-id-3 div.sk-toggleable__content pre {margin: 0.2em;color: black;border-radius: 0.25em;background-color: #f0f8ff;}#sk-container-id-3 input.sk-toggleable__control:checked~div.sk-toggleable__content {max-height: 200px;max-width: 100%;overflow: auto;}#sk-container-id-3 input.sk-toggleable__control:checked~label.sk-toggleable__label-arrow:before {content: \"▾\";}#sk-container-id-3 div.sk-estimator input.sk-toggleable__control:checked~label.sk-toggleable__label {background-color: #d4ebff;}#sk-container-id-3 div.sk-label input.sk-toggleable__control:checked~label.sk-toggleable__label {background-color: #d4ebff;}#sk-container-id-3 input.sk-hidden--visually {border: 0;clip: rect(1px 1px 1px 1px);clip: rect(1px, 1px, 1px, 1px);height: 1px;margin: -1px;overflow: hidden;padding: 0;position: absolute;width: 1px;}#sk-container-id-3 div.sk-estimator {font-family: monospace;background-color: #f0f8ff;border: 1px dotted black;border-radius: 0.25em;box-sizing: border-box;margin-bottom: 0.5em;}#sk-container-id-3 div.sk-estimator:hover {background-color: #d4ebff;}#sk-container-id-3 div.sk-parallel-item::after {content: \"\";width: 100%;border-bottom: 1px solid gray;flex-grow: 1;}#sk-container-id-3 div.sk-label:hover label.sk-toggleable__label {background-color: #d4ebff;}#sk-container-id-3 div.sk-serial::before {content: \"\";position: absolute;border-left: 1px solid gray;box-sizing: border-box;top: 0;bottom: 0;left: 50%;z-index: 0;}#sk-container-id-3 div.sk-serial {display: flex;flex-direction: column;align-items: center;background-color: white;padding-right: 0.2em;padding-left: 0.2em;position: relative;}#sk-container-id-3 div.sk-item {position: relative;z-index: 1;}#sk-container-id-3 div.sk-parallel {display: flex;align-items: stretch;justify-content: center;background-color: white;position: relative;}#sk-container-id-3 div.sk-item::before, #sk-container-id-3 div.sk-parallel-item::before {content: \"\";position: absolute;border-left: 1px solid gray;box-sizing: border-box;top: 0;bottom: 0;left: 50%;z-index: -1;}#sk-container-id-3 div.sk-parallel-item {display: flex;flex-direction: column;z-index: 1;position: relative;background-color: white;}#sk-container-id-3 div.sk-parallel-item:first-child::after {align-self: flex-end;width: 50%;}#sk-container-id-3 div.sk-parallel-item:last-child::after {align-self: flex-start;width: 50%;}#sk-container-id-3 div.sk-parallel-item:only-child::after {width: 0;}#sk-container-id-3 div.sk-dashed-wrapped {border: 1px dashed gray;margin: 0 0.4em 0.5em 0.4em;box-sizing: border-box;padding-bottom: 0.4em;background-color: white;}#sk-container-id-3 div.sk-label label {font-family: monospace;font-weight: bold;display: inline-block;line-height: 1.2em;}#sk-container-id-3 div.sk-label-container {text-align: center;}#sk-container-id-3 div.sk-container {/* jupyter's `normalize.less` sets `[hidden] { display: none; }` but bootstrap.min.css set `[hidden] { display: none !important; }` so we also need the `!important` here to be able to override the default hidden behavior on the sphinx rendered scikit-learn.org. See: https://github.com/scikit-learn/scikit-learn/issues/21755 */display: inline-block !important;position: relative;}#sk-container-id-3 div.sk-text-repr-fallback {display: none;}</style><div id=\"sk-container-id-3\" class=\"sk-top-container\"><div class=\"sk-text-repr-fallback\"><pre>GaussianNB()</pre><b>In a Jupyter environment, please rerun this cell to show the HTML representation or trust the notebook. <br />On GitHub, the HTML representation is unable to render, please try loading this page with nbviewer.org.</b></div><div class=\"sk-container\" hidden><div class=\"sk-item\"><div class=\"sk-estimator sk-toggleable\"><input class=\"sk-toggleable__control sk-hidden--visually\" id=\"sk-estimator-id-3\" type=\"checkbox\" checked><label for=\"sk-estimator-id-3\" class=\"sk-toggleable__label sk-toggleable__label-arrow\">GaussianNB</label><div class=\"sk-toggleable__content\"><pre>GaussianNB()</pre></div></div></div></div></div>"
     },
     "execution_count": 40,
     "metadata": {},
     "output_type": "execute_result"
    }
   ],
   "source": [
    "# Instantiate object\n",
    "NB = GaussianNB() \n",
    "NB.fit(X_train, L_train)"
   ],
   "metadata": {
    "collapsed": false,
    "ExecuteTime": {
     "end_time": "2023-11-28T17:14:32.431419Z",
     "start_time": "2023-11-28T17:14:30.083814Z"
    }
   },
   "id": "8e1656693cd258b"
  },
  {
   "cell_type": "code",
   "execution_count": 41,
   "outputs": [
    {
     "data": {
      "text/plain": "array(['Down', 'Up'], dtype='<U4')"
     },
     "execution_count": 41,
     "metadata": {},
     "output_type": "execute_result"
    }
   ],
   "source": [
    "# Get the classes\n",
    "NB.classes_"
   ],
   "metadata": {
    "collapsed": false,
    "ExecuteTime": {
     "end_time": "2023-11-28T17:14:32.431524Z",
     "start_time": "2023-11-28T17:14:30.087601Z"
    }
   },
   "id": "62f9165d13159355"
  },
  {
   "cell_type": "code",
   "execution_count": 42,
   "outputs": [
    {
     "data": {
      "text/plain": "array([0.49198397, 0.50801603])"
     },
     "execution_count": 42,
     "metadata": {},
     "output_type": "execute_result"
    }
   ],
   "source": [
    "# Extract the prior probabilities   \n",
    "NB.class_prior_"
   ],
   "metadata": {
    "collapsed": false,
    "ExecuteTime": {
     "end_time": "2023-11-28T17:14:32.431627Z",
     "start_time": "2023-11-28T17:14:30.090102Z"
    }
   },
   "id": "14e3e61fc47e35ac"
  },
  {
   "cell_type": "code",
   "execution_count": 43,
   "outputs": [
    {
     "data": {
      "text/plain": "array([[ 0.04279022,  0.03389409],\n       [-0.03954635, -0.03132544]])"
     },
     "execution_count": 43,
     "metadata": {},
     "output_type": "execute_result"
    }
   ],
   "source": [
    "# These are the means for each fitted model by each class and feature\n",
    "NB.theta_"
   ],
   "metadata": {
    "collapsed": false,
    "ExecuteTime": {
     "end_time": "2023-11-28T17:14:32.431730Z",
     "start_time": "2023-11-28T17:14:30.092647Z"
    }
   },
   "id": "bc818a05af13170f"
  },
  {
   "cell_type": "code",
   "execution_count": 44,
   "outputs": [
    {
     "data": {
      "text/plain": "array([[1.50355429, 1.53246749],\n       [1.51401364, 1.48732877]])"
     },
     "execution_count": 44,
     "metadata": {},
     "output_type": "execute_result"
    }
   ],
   "source": [
    "# Similarly here are the variances. 2 classes * 2 features= 4 variances\n",
    "NB.var_"
   ],
   "metadata": {
    "collapsed": false,
    "ExecuteTime": {
     "end_time": "2023-11-28T17:14:32.431837Z",
     "start_time": "2023-11-28T17:14:30.095220Z"
    }
   },
   "id": "1d6e3f19e2113068"
  },
  {
   "cell_type": "code",
   "execution_count": 45,
   "outputs": [
    {
     "name": "stdout",
     "output_type": "stream",
     "text": [
      "Mean: Lag1    0.042790\n",
      "Lag2    0.033894\n",
      "dtype: float64\n",
      "Variance: Lag1    1.503554\n",
      "Lag2    1.532467\n",
      "dtype: float64\n"
     ]
    }
   ],
   "source": [
    "mean= X_train[L_train == 'Down'].mean()\n",
    "variance = X_train[L_train == 'Down'].var(ddof=0)\n",
    "print(f'Mean: {mean}')\n",
    "print(f'Variance: {variance}')"
   ],
   "metadata": {
    "collapsed": false,
    "ExecuteTime": {
     "end_time": "2023-11-28T17:14:32.431940Z",
     "start_time": "2023-11-28T17:14:30.099358Z"
    }
   },
   "id": "4f78ab24524a9465"
  },
  {
   "cell_type": "code",
   "execution_count": 46,
   "outputs": [
    {
     "data": {
      "text/plain": "Truth      Down   Up\nPredicted           \nDown         29   20\nUp           82  121",
      "text/html": "<div>\n<style scoped>\n    .dataframe tbody tr th:only-of-type {\n        vertical-align: middle;\n    }\n\n    .dataframe tbody tr th {\n        vertical-align: top;\n    }\n\n    .dataframe thead th {\n        text-align: right;\n    }\n</style>\n<table border=\"1\" class=\"dataframe\">\n  <thead>\n    <tr style=\"text-align: right;\">\n      <th>Truth</th>\n      <th>Down</th>\n      <th>Up</th>\n    </tr>\n    <tr>\n      <th>Predicted</th>\n      <th></th>\n      <th></th>\n    </tr>\n  </thead>\n  <tbody>\n    <tr>\n      <th>Down</th>\n      <td>29</td>\n      <td>20</td>\n    </tr>\n    <tr>\n      <th>Up</th>\n      <td>82</td>\n      <td>121</td>\n    </tr>\n  </tbody>\n</table>\n</div>"
     },
     "execution_count": 46,
     "metadata": {},
     "output_type": "execute_result"
    }
   ],
   "source": [
    "# Extract confusion matrix\n",
    "nb_labels = NB.predict(X_test)\n",
    "confusion_table(nb_labels, L_test)"
   ],
   "metadata": {
    "collapsed": false,
    "ExecuteTime": {
     "end_time": "2023-11-28T17:14:32.432079Z",
     "start_time": "2023-11-28T17:14:30.102630Z"
    }
   },
   "id": "e4aae3c5fbaf041b"
  },
  {
   "cell_type": "code",
   "execution_count": 47,
   "outputs": [
    {
     "data": {
      "text/plain": "array([[0.4873288 , 0.5126712 ],\n       [0.47623584, 0.52376416],\n       [0.46529531, 0.53470469],\n       [0.47484469, 0.52515531],\n       [0.49020587, 0.50979413]])"
     },
     "execution_count": 47,
     "metadata": {},
     "output_type": "execute_result"
    }
   ],
   "source": [
    "# Predict on new data points\n",
    "NB.predict_proba(X_test)[:5]"
   ],
   "metadata": {
    "collapsed": false,
    "ExecuteTime": {
     "end_time": "2023-11-28T17:14:32.432185Z",
     "start_time": "2023-11-28T17:14:30.107315Z"
    }
   },
   "id": "dee36abd53a6b020"
  },
  {
   "cell_type": "markdown",
   "source": [
    "Using ```NB.predict_proba``` we can estimate the probability that each observation belongs to a particular class."
   ],
   "metadata": {
    "collapsed": false
   },
   "id": "50a75d54d22d0485"
  },
  {
   "cell_type": "markdown",
   "source": [
    "#### K-Nearest Neighbors\n",
    "We can also use K-Nearest Neighbors to create a classifier"
   ],
   "metadata": {
    "collapsed": false
   },
   "id": "ced6c1b33ee07a96"
  },
  {
   "cell_type": "code",
   "execution_count": 48,
   "outputs": [
    {
     "data": {
      "text/plain": "Truth      Down  Up\nPredicted          \nDown         43  58\nUp           68  83",
      "text/html": "<div>\n<style scoped>\n    .dataframe tbody tr th:only-of-type {\n        vertical-align: middle;\n    }\n\n    .dataframe tbody tr th {\n        vertical-align: top;\n    }\n\n    .dataframe thead th {\n        text-align: right;\n    }\n</style>\n<table border=\"1\" class=\"dataframe\">\n  <thead>\n    <tr style=\"text-align: right;\">\n      <th>Truth</th>\n      <th>Down</th>\n      <th>Up</th>\n    </tr>\n    <tr>\n      <th>Predicted</th>\n      <th></th>\n      <th></th>\n    </tr>\n  </thead>\n  <tbody>\n    <tr>\n      <th>Down</th>\n      <td>43</td>\n      <td>58</td>\n    </tr>\n    <tr>\n      <th>Up</th>\n      <td>68</td>\n      <td>83</td>\n    </tr>\n  </tbody>\n</table>\n</div>"
     },
     "execution_count": 48,
     "metadata": {},
     "output_type": "execute_result"
    }
   ],
   "source": [
    "knn1 = KNeighborsClassifier(n_neighbors=1) \n",
    "knn1.fit(X_train, L_train)\n",
    "knn1_pred = knn1.predict(X_test) \n",
    "confusion_table(knn1_pred, L_test)"
   ],
   "metadata": {
    "collapsed": false,
    "ExecuteTime": {
     "end_time": "2023-11-28T17:14:32.432326Z",
     "start_time": "2023-11-28T17:14:30.111084Z"
    }
   },
   "id": "2771889d22b8cc12"
  },
  {
   "cell_type": "code",
   "execution_count": 49,
   "outputs": [
    {
     "data": {
      "text/plain": "(0.5, 0.5)"
     },
     "execution_count": 49,
     "metadata": {},
     "output_type": "execute_result"
    }
   ],
   "source": [
    "# Not a very good fit with 50 percent accuracy\n",
    "(83+43)/252, np.mean(knn1_pred == L_test)"
   ],
   "metadata": {
    "collapsed": false,
    "ExecuteTime": {
     "end_time": "2023-11-28T17:14:32.432431Z",
     "start_time": "2023-11-28T17:14:30.120775Z"
    }
   },
   "id": "fe392028c69e7897"
  },
  {
   "cell_type": "markdown",
   "source": [
    "Since we did not get a good accuracy with 2 nearest neighbors we can try with 3."
   ],
   "metadata": {
    "collapsed": false
   },
   "id": "38e007ab831fc745"
  },
  {
   "cell_type": "code",
   "execution_count": 50,
   "outputs": [
    {
     "data": {
      "text/plain": "0.5317460317460317"
     },
     "execution_count": 50,
     "metadata": {},
     "output_type": "execute_result"
    }
   ],
   "source": [
    "knn3 = KNeighborsClassifier(n_neighbors=3)\n",
    "knn3_pred = knn3.fit(X_train, L_train).predict(X_test) \n",
    "np.mean(knn3_pred == L_test)"
   ],
   "metadata": {
    "collapsed": false,
    "ExecuteTime": {
     "end_time": "2023-11-28T17:14:32.432532Z",
     "start_time": "2023-11-28T17:14:30.124739Z"
    }
   },
   "id": "39b283fe0aa643b5"
  },
  {
   "cell_type": "markdown",
   "source": [
    "We only did a little bit better, now with 53% accuracy. Thus, KNN does not do well on the ```Smarket``` data set. We can see its utility using the ```Caravan``` data set."
   ],
   "metadata": {
    "collapsed": false
   },
   "id": "897626ba2bdbaafb"
  },
  {
   "cell_type": "code",
   "execution_count": 51,
   "outputs": [
    {
     "data": {
      "text/plain": "No     5474\nYes     348\nName: Purchase, dtype: int64"
     },
     "execution_count": 51,
     "metadata": {},
     "output_type": "execute_result"
    }
   ],
   "source": [
    "Caravan = load_data('Caravan') \n",
    "Purchase = Caravan.Purchase \n",
    "Purchase.value_counts()"
   ],
   "metadata": {
    "collapsed": false,
    "ExecuteTime": {
     "end_time": "2023-11-28T17:14:32.432636Z",
     "start_time": "2023-11-28T17:14:30.132510Z"
    }
   },
   "id": "c60aeebb90fdc7ff"
  },
  {
   "cell_type": "code",
   "execution_count": 75,
   "outputs": [
    {
     "data": {
      "text/plain": "0.05977327378907592"
     },
     "execution_count": 75,
     "metadata": {},
     "output_type": "execute_result"
    }
   ],
   "source": [
    "# Proportion of individuals that purchase a caravan insurance policy.\n",
    "348 / 5822"
   ],
   "metadata": {
    "collapsed": false,
    "ExecuteTime": {
     "end_time": "2023-11-28T19:12:39.681187Z",
     "start_time": "2023-11-28T19:12:39.656268Z"
    }
   },
   "id": "a7119b6af0ed69a7"
  },
  {
   "cell_type": "code",
   "execution_count": 53,
   "outputs": [],
   "source": [
    "# Create the feature data frame\n",
    "feature_df = Caravan.drop(columns=['Purchase'])"
   ],
   "metadata": {
    "collapsed": false,
    "ExecuteTime": {
     "end_time": "2023-11-28T17:14:32.432792Z",
     "start_time": "2023-11-28T17:14:30.153578Z"
    }
   },
   "id": "50308df74c8cdd40"
  },
  {
   "cell_type": "markdown",
   "source": [],
   "metadata": {
    "collapsed": false
   },
   "id": "45aef4f73bff0144"
  },
  {
   "cell_type": "code",
   "execution_count": 54,
   "outputs": [],
   "source": [
    "# Create scaler\n",
    "scaler = StandardScaler(with_mean=True, with_std=True,\n",
    "copy=True)"
   ],
   "metadata": {
    "collapsed": false,
    "ExecuteTime": {
     "end_time": "2023-11-28T17:14:32.432840Z",
     "start_time": "2023-11-28T17:14:30.155501Z"
    }
   },
   "id": "97ed64e6557fde06"
  },
  {
   "cell_type": "markdown",
   "source": [
    "When argument ```with_mean``` is True the means are subtracted off."
   ],
   "metadata": {
    "collapsed": false
   },
   "id": "95f15f4656862195"
  },
  {
   "cell_type": "code",
   "execution_count": 55,
   "outputs": [],
   "source": [
    "# Scale the data\n",
    "scaler.fit(feature_df)\n",
    "X_std = scaler.transform(feature_df)"
   ],
   "metadata": {
    "collapsed": false,
    "ExecuteTime": {
     "end_time": "2023-11-28T17:14:32.432932Z",
     "start_time": "2023-11-28T17:14:30.167343Z"
    }
   },
   "id": "cfed692ce189d4b0"
  },
  {
   "cell_type": "code",
   "execution_count": 56,
   "outputs": [
    {
     "data": {
      "text/plain": "MOSTYPE     1.000086\nMAANTHUI    1.000086\nMGEMOMV     1.000086\nMGEMLEEF    1.000086\nMOSHOOFD    1.000086\n              ...   \nAZEILPL     1.000086\nAPLEZIER    1.000086\nAFIETS      1.000086\nAINBOED     1.000086\nABYSTAND    1.000086\nLength: 85, dtype: float64"
     },
     "execution_count": 56,
     "metadata": {},
     "output_type": "execute_result"
    }
   ],
   "source": [
    "feature_std = pd.DataFrame( X_std , columns=feature_df.columns);\n",
    "feature_std.std()"
   ],
   "metadata": {
    "collapsed": false,
    "ExecuteTime": {
     "end_time": "2023-11-28T17:14:32.478271Z",
     "start_time": "2023-11-28T17:14:30.173850Z"
    }
   },
   "id": "a3b8a4c5ffb3b46b"
  },
  {
   "cell_type": "markdown",
   "source": [],
   "metadata": {
    "collapsed": false
   },
   "id": "3d8165a7be0a3b37"
  },
  {
   "cell_type": "code",
   "execution_count": 57,
   "outputs": [],
   "source": [
    "(X_train, X_test , y_train , y_test) = train_test_split(feature_std, Purchase , test_size=1000, random_state=0)"
   ],
   "metadata": {
    "collapsed": false,
    "ExecuteTime": {
     "end_time": "2023-11-28T17:14:32.478515Z",
     "start_time": "2023-11-28T17:14:30.180891Z"
    }
   },
   "id": "b88c552917311b15"
  },
  {
   "cell_type": "code",
   "execution_count": 58,
   "outputs": [
    {
     "data": {
      "text/plain": "(0.111, 0.067)"
     },
     "execution_count": 58,
     "metadata": {},
     "output_type": "execute_result"
    }
   ],
   "source": [
    "# Instantiate classifier\n",
    "knn1 = KNeighborsClassifier(n_neighbors=1)\n",
    "# Fit the model\n",
    "knn1_pred = knn1.fit(X_train, y_train).predict(X_test) \n",
    "# Get the fitted values.\n",
    "np.mean(y_test != knn1_pred), np.mean(y_test != \"No\")"
   ],
   "metadata": {
    "collapsed": false,
    "ExecuteTime": {
     "end_time": "2023-11-28T17:14:32.530266Z",
     "start_time": "2023-11-28T17:14:30.186037Z"
    }
   },
   "id": "3e3df0e9052654b4"
  },
  {
   "cell_type": "code",
   "execution_count": 74,
   "outputs": [
    {
     "data": {
      "text/plain": "Truth       No  Yes\nPredicted          \nNo         880   58\nYes         53    9",
      "text/html": "<div>\n<style scoped>\n    .dataframe tbody tr th:only-of-type {\n        vertical-align: middle;\n    }\n\n    .dataframe tbody tr th {\n        vertical-align: top;\n    }\n\n    .dataframe thead th {\n        text-align: right;\n    }\n</style>\n<table border=\"1\" class=\"dataframe\">\n  <thead>\n    <tr style=\"text-align: right;\">\n      <th>Truth</th>\n      <th>No</th>\n      <th>Yes</th>\n    </tr>\n    <tr>\n      <th>Predicted</th>\n      <th></th>\n      <th></th>\n    </tr>\n  </thead>\n  <tbody>\n    <tr>\n      <th>No</th>\n      <td>880</td>\n      <td>58</td>\n    </tr>\n    <tr>\n      <th>Yes</th>\n      <td>53</td>\n      <td>9</td>\n    </tr>\n  </tbody>\n</table>\n</div>"
     },
     "execution_count": 74,
     "metadata": {},
     "output_type": "execute_result"
    }
   ],
   "source": [
    "# Confusion matrix\n",
    "confusion_table(knn1_pred, y_test)"
   ],
   "metadata": {
    "collapsed": false,
    "ExecuteTime": {
     "end_time": "2023-11-28T19:09:11.202831Z",
     "start_time": "2023-11-28T19:09:11.152506Z"
    }
   },
   "id": "acc97e6f6bf49ae4"
  },
  {
   "cell_type": "code",
   "execution_count": 60,
   "outputs": [
    {
     "data": {
      "text/plain": "0.14516129032258066"
     },
     "execution_count": 60,
     "metadata": {},
     "output_type": "execute_result"
    }
   ],
   "source": [
    "9/(53+9)"
   ],
   "metadata": {
    "collapsed": false,
    "ExecuteTime": {
     "end_time": "2023-11-28T17:14:32.530634Z",
     "start_time": "2023-11-28T17:14:31.267458Z"
    }
   },
   "id": "e4f95e117d018361"
  },
  {
   "cell_type": "markdown",
   "source": [
    "The KNN model with K=1 does a good job at predicting customers that buy insurance. This is double what you would get if you were just guessing."
   ],
   "metadata": {
    "collapsed": false
   },
   "id": "9e76d40630c6583e"
  },
  {
   "cell_type": "markdown",
   "source": [
    "##### Tuning Parameters"
   ],
   "metadata": {
    "collapsed": false
   },
   "id": "1de8bc481191bccc"
  },
  {
   "cell_type": "code",
   "execution_count": 76,
   "outputs": [
    {
     "name": "stdout",
     "output_type": "stream",
     "text": [
      "K=1: # predicted to rent: 62, # who did rent 9, accuracy 14.5%\n",
      "K=2: # predicted to rent:  6, # who did rent 1, accuracy 16.7%\n",
      "K=3: # predicted to rent: 20, # who did rent 3, accuracy 15.0%\n",
      "K=4: # predicted to rent:  4, # who did rent 0, accuracy 0.0%\n",
      "K=5: # predicted to rent:  7, # who did rent 1, accuracy 14.3%\n"
     ]
    }
   ],
   "source": [
    "for K in range(1,6):\n",
    "    knn = KNeighborsClassifier(n_neighbors=K)\n",
    "    knn_pred = knn.fit(X_train, y_train).predict(X_test) \n",
    "    C = confusion_table(knn_pred, y_test)\n",
    "    templ = ('K={0:d}: # predicted to rent: {1:>2},' +\n",
    "' # who did rent {2:d}, accuracy {3:.1%}') \n",
    "    pred = C.loc['Yes'].sum()\n",
    "    did_rent = C.loc['Yes','Yes']\n",
    "    print(templ.format(K, pred , did_rent ,did_rent / pred))"
   ],
   "metadata": {
    "collapsed": false,
    "ExecuteTime": {
     "end_time": "2023-11-28T19:16:22.422453Z",
     "start_time": "2023-11-28T19:16:16.408937Z"
    }
   },
   "id": "7d63db87bba9b98e"
  },
  {
   "cell_type": "markdown",
   "source": [
    "Here we see that at K=4 the accuracy and predictions is very different than the rest."
   ],
   "metadata": {
    "collapsed": false
   },
   "id": "70cca68d0acf9a8b"
  },
  {
   "cell_type": "markdown",
   "source": [
    "##### Comparison to Logistic Regression"
   ],
   "metadata": {
    "collapsed": false
   },
   "id": "cca32d8efdee7089"
  },
  {
   "cell_type": "code",
   "execution_count": 62,
   "outputs": [
    {
     "data": {
      "text/plain": "Truth       No  Yes\nPredicted          \nNo         933   67\nYes          0    0",
      "text/html": "<div>\n<style scoped>\n    .dataframe tbody tr th:only-of-type {\n        vertical-align: middle;\n    }\n\n    .dataframe tbody tr th {\n        vertical-align: top;\n    }\n\n    .dataframe thead th {\n        text-align: right;\n    }\n</style>\n<table border=\"1\" class=\"dataframe\">\n  <thead>\n    <tr style=\"text-align: right;\">\n      <th>Truth</th>\n      <th>No</th>\n      <th>Yes</th>\n    </tr>\n    <tr>\n      <th>Predicted</th>\n      <th></th>\n      <th></th>\n    </tr>\n  </thead>\n  <tbody>\n    <tr>\n      <th>No</th>\n      <td>933</td>\n      <td>67</td>\n    </tr>\n    <tr>\n      <th>Yes</th>\n      <td>0</td>\n      <td>0</td>\n    </tr>\n  </tbody>\n</table>\n</div>"
     },
     "execution_count": 62,
     "metadata": {},
     "output_type": "execute_result"
    }
   ],
   "source": [
    "logit = LogisticRegression(C=1e10, solver='liblinear')\n",
    "logit.fit(X_train, y_train)\n",
    "logit_pred = logit.predict_proba(X_test)\n",
    "logit_labels = np.where(logit_pred[:,1] > 5, 'Yes', 'No')\n",
    "confusion_table(logit_labels, y_test)"
   ],
   "metadata": {
    "collapsed": false,
    "ExecuteTime": {
     "end_time": "2023-11-28T17:14:37.389542Z",
     "start_time": "2023-11-28T17:14:36.611958Z"
    }
   },
   "id": "9823c99106a8bf51"
  },
  {
   "cell_type": "code",
   "execution_count": 63,
   "outputs": [
    {
     "data": {
      "text/plain": "Truth       No  Yes\nPredicted          \nNo         913   58\nYes         20    9",
      "text/html": "<div>\n<style scoped>\n    .dataframe tbody tr th:only-of-type {\n        vertical-align: middle;\n    }\n\n    .dataframe tbody tr th {\n        vertical-align: top;\n    }\n\n    .dataframe thead th {\n        text-align: right;\n    }\n</style>\n<table border=\"1\" class=\"dataframe\">\n  <thead>\n    <tr style=\"text-align: right;\">\n      <th>Truth</th>\n      <th>No</th>\n      <th>Yes</th>\n    </tr>\n    <tr>\n      <th>Predicted</th>\n      <th></th>\n      <th></th>\n    </tr>\n  </thead>\n  <tbody>\n    <tr>\n      <th>No</th>\n      <td>913</td>\n      <td>58</td>\n    </tr>\n    <tr>\n      <th>Yes</th>\n      <td>20</td>\n      <td>9</td>\n    </tr>\n  </tbody>\n</table>\n</div>"
     },
     "execution_count": 63,
     "metadata": {},
     "output_type": "execute_result"
    }
   ],
   "source": [
    "logit_labels = np.where(logit_pred[:,1]>0.25, 'Yes', 'No')\n",
    "confusion_table(logit_labels, y_test)"
   ],
   "metadata": {
    "collapsed": false,
    "ExecuteTime": {
     "end_time": "2023-11-28T17:14:37.390044Z",
     "start_time": "2023-11-28T17:14:37.295261Z"
    }
   },
   "id": "e4db26c135798d28"
  },
  {
   "cell_type": "code",
   "execution_count": 64,
   "outputs": [
    {
     "data": {
      "text/plain": "0.3103448275862069"
     },
     "execution_count": 64,
     "metadata": {},
     "output_type": "execute_result"
    }
   ],
   "source": [
    "9/(20+9)"
   ],
   "metadata": {
    "collapsed": false,
    "ExecuteTime": {
     "end_time": "2023-11-28T17:14:37.390190Z",
     "start_time": "2023-11-28T17:14:37.303019Z"
    }
   },
   "id": "60851a096b33b9f7"
  },
  {
   "cell_type": "markdown",
   "source": [
    "#### Linear and Poisson Regression on Bikeshare Data"
   ],
   "metadata": {
    "collapsed": false
   },
   "id": "fd2ab5c7b6e0b98"
  },
  {
   "cell_type": "code",
   "execution_count": 65,
   "outputs": [],
   "source": [
    "# Load the data\n",
    "Bike = load_data('Bikeshare')"
   ],
   "metadata": {
    "collapsed": false,
    "ExecuteTime": {
     "end_time": "2023-11-28T17:14:37.390300Z",
     "start_time": "2023-11-28T17:14:37.305520Z"
    }
   },
   "id": "dacb176d8daa1195"
  },
  {
   "cell_type": "markdown",
   "source": [
    "First we fit a linear regression model to the data."
   ],
   "metadata": {
    "collapsed": false
   },
   "id": "2ed79ab3e86e4840"
  },
  {
   "cell_type": "code",
   "execution_count": 66,
   "outputs": [
    {
     "data": {
      "text/plain": "                                 coef  std err       t  P>|t|\nintercept                    -68.6317    5.307 -12.932  0.000\nmnth[Feb]                      6.8452    4.287   1.597  0.110\nmnth[March]                   16.5514    4.301   3.848  0.000\nmnth[April]                   41.4249    4.972   8.331  0.000\nmnth[May]                     72.5571    5.641  12.862  0.000\nmnth[June]                    67.8187    6.544  10.364  0.000\nmnth[July]                    45.3245    7.081   6.401  0.000\nmnth[Aug]                     53.2430    6.640   8.019  0.000\nmnth[Sept]                    66.6783    5.925  11.254  0.000\nmnth[Oct]                     75.8343    4.950  15.319  0.000\nmnth[Nov]                     60.3100    4.610  13.083  0.000\nmnth[Dec]                     46.4577    4.271  10.878  0.000\nhr[1]                        -14.5793    5.699  -2.558  0.011\nhr[2]                        -21.5791    5.733  -3.764  0.000\nhr[3]                        -31.1408    5.778  -5.389  0.000\nhr[4]                        -36.9075    5.802  -6.361  0.000\nhr[5]                        -24.1355    5.737  -4.207  0.000\nhr[6]                         20.5997    5.704   3.612  0.000\nhr[7]                        120.0931    5.693  21.095  0.000\nhr[8]                        223.6619    5.690  39.310  0.000\nhr[9]                        120.5819    5.693  21.182  0.000\nhr[10]                        83.8013    5.705  14.689  0.000\nhr[11]                       105.4234    5.722  18.424  0.000\nhr[12]                       137.2837    5.740  23.916  0.000\nhr[13]                       136.0359    5.760  23.617  0.000\nhr[14]                       126.6361    5.776  21.923  0.000\nhr[15]                       132.0865    5.780  22.852  0.000\nhr[16]                       178.5206    5.772  30.927  0.000\nhr[17]                       296.2670    5.749  51.537  0.000\nhr[18]                       269.4409    5.736  46.976  0.000\nhr[19]                       186.2558    5.714  32.596  0.000\nhr[20]                       125.5492    5.704  22.012  0.000\nhr[21]                        87.5537    5.693  15.378  0.000\nhr[22]                        59.1226    5.689  10.392  0.000\nhr[23]                        26.8376    5.688   4.719  0.000\nworkingday                     1.2696    1.784   0.711  0.477\ntemp                         157.2094   10.261  15.321  0.000\nweathersit[cloudy/misty]     -12.8903    1.964  -6.562  0.000\nweathersit[heavy rain/snow] -109.7446   76.667  -1.431  0.152\nweathersit[light rain/snow]  -66.4944    2.965 -22.425  0.000",
      "text/html": "<div>\n<style scoped>\n    .dataframe tbody tr th:only-of-type {\n        vertical-align: middle;\n    }\n\n    .dataframe tbody tr th {\n        vertical-align: top;\n    }\n\n    .dataframe thead th {\n        text-align: right;\n    }\n</style>\n<table border=\"1\" class=\"dataframe\">\n  <thead>\n    <tr style=\"text-align: right;\">\n      <th></th>\n      <th>coef</th>\n      <th>std err</th>\n      <th>t</th>\n      <th>P&gt;|t|</th>\n    </tr>\n  </thead>\n  <tbody>\n    <tr>\n      <th>intercept</th>\n      <td>-68.6317</td>\n      <td>5.307</td>\n      <td>-12.932</td>\n      <td>0.000</td>\n    </tr>\n    <tr>\n      <th>mnth[Feb]</th>\n      <td>6.8452</td>\n      <td>4.287</td>\n      <td>1.597</td>\n      <td>0.110</td>\n    </tr>\n    <tr>\n      <th>mnth[March]</th>\n      <td>16.5514</td>\n      <td>4.301</td>\n      <td>3.848</td>\n      <td>0.000</td>\n    </tr>\n    <tr>\n      <th>mnth[April]</th>\n      <td>41.4249</td>\n      <td>4.972</td>\n      <td>8.331</td>\n      <td>0.000</td>\n    </tr>\n    <tr>\n      <th>mnth[May]</th>\n      <td>72.5571</td>\n      <td>5.641</td>\n      <td>12.862</td>\n      <td>0.000</td>\n    </tr>\n    <tr>\n      <th>mnth[June]</th>\n      <td>67.8187</td>\n      <td>6.544</td>\n      <td>10.364</td>\n      <td>0.000</td>\n    </tr>\n    <tr>\n      <th>mnth[July]</th>\n      <td>45.3245</td>\n      <td>7.081</td>\n      <td>6.401</td>\n      <td>0.000</td>\n    </tr>\n    <tr>\n      <th>mnth[Aug]</th>\n      <td>53.2430</td>\n      <td>6.640</td>\n      <td>8.019</td>\n      <td>0.000</td>\n    </tr>\n    <tr>\n      <th>mnth[Sept]</th>\n      <td>66.6783</td>\n      <td>5.925</td>\n      <td>11.254</td>\n      <td>0.000</td>\n    </tr>\n    <tr>\n      <th>mnth[Oct]</th>\n      <td>75.8343</td>\n      <td>4.950</td>\n      <td>15.319</td>\n      <td>0.000</td>\n    </tr>\n    <tr>\n      <th>mnth[Nov]</th>\n      <td>60.3100</td>\n      <td>4.610</td>\n      <td>13.083</td>\n      <td>0.000</td>\n    </tr>\n    <tr>\n      <th>mnth[Dec]</th>\n      <td>46.4577</td>\n      <td>4.271</td>\n      <td>10.878</td>\n      <td>0.000</td>\n    </tr>\n    <tr>\n      <th>hr[1]</th>\n      <td>-14.5793</td>\n      <td>5.699</td>\n      <td>-2.558</td>\n      <td>0.011</td>\n    </tr>\n    <tr>\n      <th>hr[2]</th>\n      <td>-21.5791</td>\n      <td>5.733</td>\n      <td>-3.764</td>\n      <td>0.000</td>\n    </tr>\n    <tr>\n      <th>hr[3]</th>\n      <td>-31.1408</td>\n      <td>5.778</td>\n      <td>-5.389</td>\n      <td>0.000</td>\n    </tr>\n    <tr>\n      <th>hr[4]</th>\n      <td>-36.9075</td>\n      <td>5.802</td>\n      <td>-6.361</td>\n      <td>0.000</td>\n    </tr>\n    <tr>\n      <th>hr[5]</th>\n      <td>-24.1355</td>\n      <td>5.737</td>\n      <td>-4.207</td>\n      <td>0.000</td>\n    </tr>\n    <tr>\n      <th>hr[6]</th>\n      <td>20.5997</td>\n      <td>5.704</td>\n      <td>3.612</td>\n      <td>0.000</td>\n    </tr>\n    <tr>\n      <th>hr[7]</th>\n      <td>120.0931</td>\n      <td>5.693</td>\n      <td>21.095</td>\n      <td>0.000</td>\n    </tr>\n    <tr>\n      <th>hr[8]</th>\n      <td>223.6619</td>\n      <td>5.690</td>\n      <td>39.310</td>\n      <td>0.000</td>\n    </tr>\n    <tr>\n      <th>hr[9]</th>\n      <td>120.5819</td>\n      <td>5.693</td>\n      <td>21.182</td>\n      <td>0.000</td>\n    </tr>\n    <tr>\n      <th>hr[10]</th>\n      <td>83.8013</td>\n      <td>5.705</td>\n      <td>14.689</td>\n      <td>0.000</td>\n    </tr>\n    <tr>\n      <th>hr[11]</th>\n      <td>105.4234</td>\n      <td>5.722</td>\n      <td>18.424</td>\n      <td>0.000</td>\n    </tr>\n    <tr>\n      <th>hr[12]</th>\n      <td>137.2837</td>\n      <td>5.740</td>\n      <td>23.916</td>\n      <td>0.000</td>\n    </tr>\n    <tr>\n      <th>hr[13]</th>\n      <td>136.0359</td>\n      <td>5.760</td>\n      <td>23.617</td>\n      <td>0.000</td>\n    </tr>\n    <tr>\n      <th>hr[14]</th>\n      <td>126.6361</td>\n      <td>5.776</td>\n      <td>21.923</td>\n      <td>0.000</td>\n    </tr>\n    <tr>\n      <th>hr[15]</th>\n      <td>132.0865</td>\n      <td>5.780</td>\n      <td>22.852</td>\n      <td>0.000</td>\n    </tr>\n    <tr>\n      <th>hr[16]</th>\n      <td>178.5206</td>\n      <td>5.772</td>\n      <td>30.927</td>\n      <td>0.000</td>\n    </tr>\n    <tr>\n      <th>hr[17]</th>\n      <td>296.2670</td>\n      <td>5.749</td>\n      <td>51.537</td>\n      <td>0.000</td>\n    </tr>\n    <tr>\n      <th>hr[18]</th>\n      <td>269.4409</td>\n      <td>5.736</td>\n      <td>46.976</td>\n      <td>0.000</td>\n    </tr>\n    <tr>\n      <th>hr[19]</th>\n      <td>186.2558</td>\n      <td>5.714</td>\n      <td>32.596</td>\n      <td>0.000</td>\n    </tr>\n    <tr>\n      <th>hr[20]</th>\n      <td>125.5492</td>\n      <td>5.704</td>\n      <td>22.012</td>\n      <td>0.000</td>\n    </tr>\n    <tr>\n      <th>hr[21]</th>\n      <td>87.5537</td>\n      <td>5.693</td>\n      <td>15.378</td>\n      <td>0.000</td>\n    </tr>\n    <tr>\n      <th>hr[22]</th>\n      <td>59.1226</td>\n      <td>5.689</td>\n      <td>10.392</td>\n      <td>0.000</td>\n    </tr>\n    <tr>\n      <th>hr[23]</th>\n      <td>26.8376</td>\n      <td>5.688</td>\n      <td>4.719</td>\n      <td>0.000</td>\n    </tr>\n    <tr>\n      <th>workingday</th>\n      <td>1.2696</td>\n      <td>1.784</td>\n      <td>0.711</td>\n      <td>0.477</td>\n    </tr>\n    <tr>\n      <th>temp</th>\n      <td>157.2094</td>\n      <td>10.261</td>\n      <td>15.321</td>\n      <td>0.000</td>\n    </tr>\n    <tr>\n      <th>weathersit[cloudy/misty]</th>\n      <td>-12.8903</td>\n      <td>1.964</td>\n      <td>-6.562</td>\n      <td>0.000</td>\n    </tr>\n    <tr>\n      <th>weathersit[heavy rain/snow]</th>\n      <td>-109.7446</td>\n      <td>76.667</td>\n      <td>-1.431</td>\n      <td>0.152</td>\n    </tr>\n    <tr>\n      <th>weathersit[light rain/snow]</th>\n      <td>-66.4944</td>\n      <td>2.965</td>\n      <td>-22.425</td>\n      <td>0.000</td>\n    </tr>\n  </tbody>\n</table>\n</div>"
     },
     "execution_count": 66,
     "metadata": {},
     "output_type": "execute_result"
    }
   ],
   "source": [
    "X = MS(['mnth', 'hr',\n",
    "'workingday', 'temp',\n",
    "'weathersit']).fit_transform(Bike) \n",
    "Y = Bike['bikers']\n",
    "M_lm = sm.OLS(Y, X).fit() \n",
    "summarize(M_lm)"
   ],
   "metadata": {
    "collapsed": false,
    "ExecuteTime": {
     "end_time": "2023-11-28T17:14:37.454760Z",
     "start_time": "2023-11-28T17:14:37.317059Z"
    }
   },
   "id": "f50ecd08f89c9eae"
  },
  {
   "cell_type": "markdown",
   "source": [
    "We see that there are 24 levels and 40 observations."
   ],
   "metadata": {
    "collapsed": false
   },
   "id": "c79fb6063ce46201"
  },
  {
   "cell_type": "code",
   "execution_count": 67,
   "outputs": [],
   "source": [
    "# We change the encoding of the variables hr and mnth\n",
    "hr_encode = contrast('hr', 'sum') \n",
    "mnth_encode = contrast('mnth', 'sum')"
   ],
   "metadata": {
    "collapsed": false,
    "ExecuteTime": {
     "end_time": "2023-11-28T17:14:37.454950Z",
     "start_time": "2023-11-28T17:14:37.393172Z"
    }
   },
   "id": "a3839d58843bc413"
  },
  {
   "cell_type": "code",
   "execution_count": 68,
   "outputs": [
    {
     "data": {
      "text/plain": "                                 coef  std err       t  P>|t|\nintercept                     73.5974    5.132  14.340  0.000\nmnth[Jan]                    -46.0871    4.085 -11.281  0.000\nmnth[Feb]                    -39.2419    3.539 -11.088  0.000\nmnth[March]                  -29.5357    3.155  -9.361  0.000\nmnth[April]                   -4.6622    2.741  -1.701  0.089\nmnth[May]                     26.4700    2.851   9.285  0.000\nmnth[June]                    21.7317    3.465   6.272  0.000\nmnth[July]                    -0.7626    3.908  -0.195  0.845\nmnth[Aug]                      7.1560    3.535   2.024  0.043\nmnth[Sept]                    20.5912    3.046   6.761  0.000\nmnth[Oct]                     29.7472    2.700  11.019  0.000\nmnth[Nov]                     14.2229    2.860   4.972  0.000\nhr[0]                        -96.1420    3.955 -24.307  0.000\nhr[1]                       -110.7213    3.966 -27.916  0.000\nhr[2]                       -117.7212    4.016 -29.310  0.000\nhr[3]                       -127.2828    4.081 -31.191  0.000\nhr[4]                       -133.0495    4.117 -32.319  0.000\nhr[5]                       -120.2775    4.037 -29.794  0.000\nhr[6]                        -75.5424    3.992 -18.925  0.000\nhr[7]                         23.9511    3.969   6.035  0.000\nhr[8]                        127.5199    3.950  32.284  0.000\nhr[9]                         24.4399    3.936   6.209  0.000\nhr[10]                       -12.3407    3.936  -3.135  0.002\nhr[11]                         9.2814    3.945   2.353  0.019\nhr[12]                        41.1417    3.957  10.397  0.000\nhr[13]                        39.8939    3.975  10.036  0.000\nhr[14]                        30.4940    3.991   7.641  0.000\nhr[15]                        35.9445    3.995   8.998  0.000\nhr[16]                        82.3786    3.988  20.655  0.000\nhr[17]                       200.1249    3.964  50.488  0.000\nhr[18]                       173.2989    3.956  43.806  0.000\nhr[19]                        90.1138    3.940  22.872  0.000\nhr[20]                        29.4071    3.936   7.471  0.000\nhr[21]                        -8.5883    3.933  -2.184  0.029\nhr[22]                       -37.0194    3.934  -9.409  0.000\nworkingday                     1.2696    1.784   0.711  0.477\ntemp                         157.2094   10.261  15.321  0.000\nweathersit[cloudy/misty]     -12.8903    1.964  -6.562  0.000\nweathersit[heavy rain/snow] -109.7446   76.667  -1.431  0.152\nweathersit[light rain/snow]  -66.4944    2.965 -22.425  0.000",
      "text/html": "<div>\n<style scoped>\n    .dataframe tbody tr th:only-of-type {\n        vertical-align: middle;\n    }\n\n    .dataframe tbody tr th {\n        vertical-align: top;\n    }\n\n    .dataframe thead th {\n        text-align: right;\n    }\n</style>\n<table border=\"1\" class=\"dataframe\">\n  <thead>\n    <tr style=\"text-align: right;\">\n      <th></th>\n      <th>coef</th>\n      <th>std err</th>\n      <th>t</th>\n      <th>P&gt;|t|</th>\n    </tr>\n  </thead>\n  <tbody>\n    <tr>\n      <th>intercept</th>\n      <td>73.5974</td>\n      <td>5.132</td>\n      <td>14.340</td>\n      <td>0.000</td>\n    </tr>\n    <tr>\n      <th>mnth[Jan]</th>\n      <td>-46.0871</td>\n      <td>4.085</td>\n      <td>-11.281</td>\n      <td>0.000</td>\n    </tr>\n    <tr>\n      <th>mnth[Feb]</th>\n      <td>-39.2419</td>\n      <td>3.539</td>\n      <td>-11.088</td>\n      <td>0.000</td>\n    </tr>\n    <tr>\n      <th>mnth[March]</th>\n      <td>-29.5357</td>\n      <td>3.155</td>\n      <td>-9.361</td>\n      <td>0.000</td>\n    </tr>\n    <tr>\n      <th>mnth[April]</th>\n      <td>-4.6622</td>\n      <td>2.741</td>\n      <td>-1.701</td>\n      <td>0.089</td>\n    </tr>\n    <tr>\n      <th>mnth[May]</th>\n      <td>26.4700</td>\n      <td>2.851</td>\n      <td>9.285</td>\n      <td>0.000</td>\n    </tr>\n    <tr>\n      <th>mnth[June]</th>\n      <td>21.7317</td>\n      <td>3.465</td>\n      <td>6.272</td>\n      <td>0.000</td>\n    </tr>\n    <tr>\n      <th>mnth[July]</th>\n      <td>-0.7626</td>\n      <td>3.908</td>\n      <td>-0.195</td>\n      <td>0.845</td>\n    </tr>\n    <tr>\n      <th>mnth[Aug]</th>\n      <td>7.1560</td>\n      <td>3.535</td>\n      <td>2.024</td>\n      <td>0.043</td>\n    </tr>\n    <tr>\n      <th>mnth[Sept]</th>\n      <td>20.5912</td>\n      <td>3.046</td>\n      <td>6.761</td>\n      <td>0.000</td>\n    </tr>\n    <tr>\n      <th>mnth[Oct]</th>\n      <td>29.7472</td>\n      <td>2.700</td>\n      <td>11.019</td>\n      <td>0.000</td>\n    </tr>\n    <tr>\n      <th>mnth[Nov]</th>\n      <td>14.2229</td>\n      <td>2.860</td>\n      <td>4.972</td>\n      <td>0.000</td>\n    </tr>\n    <tr>\n      <th>hr[0]</th>\n      <td>-96.1420</td>\n      <td>3.955</td>\n      <td>-24.307</td>\n      <td>0.000</td>\n    </tr>\n    <tr>\n      <th>hr[1]</th>\n      <td>-110.7213</td>\n      <td>3.966</td>\n      <td>-27.916</td>\n      <td>0.000</td>\n    </tr>\n    <tr>\n      <th>hr[2]</th>\n      <td>-117.7212</td>\n      <td>4.016</td>\n      <td>-29.310</td>\n      <td>0.000</td>\n    </tr>\n    <tr>\n      <th>hr[3]</th>\n      <td>-127.2828</td>\n      <td>4.081</td>\n      <td>-31.191</td>\n      <td>0.000</td>\n    </tr>\n    <tr>\n      <th>hr[4]</th>\n      <td>-133.0495</td>\n      <td>4.117</td>\n      <td>-32.319</td>\n      <td>0.000</td>\n    </tr>\n    <tr>\n      <th>hr[5]</th>\n      <td>-120.2775</td>\n      <td>4.037</td>\n      <td>-29.794</td>\n      <td>0.000</td>\n    </tr>\n    <tr>\n      <th>hr[6]</th>\n      <td>-75.5424</td>\n      <td>3.992</td>\n      <td>-18.925</td>\n      <td>0.000</td>\n    </tr>\n    <tr>\n      <th>hr[7]</th>\n      <td>23.9511</td>\n      <td>3.969</td>\n      <td>6.035</td>\n      <td>0.000</td>\n    </tr>\n    <tr>\n      <th>hr[8]</th>\n      <td>127.5199</td>\n      <td>3.950</td>\n      <td>32.284</td>\n      <td>0.000</td>\n    </tr>\n    <tr>\n      <th>hr[9]</th>\n      <td>24.4399</td>\n      <td>3.936</td>\n      <td>6.209</td>\n      <td>0.000</td>\n    </tr>\n    <tr>\n      <th>hr[10]</th>\n      <td>-12.3407</td>\n      <td>3.936</td>\n      <td>-3.135</td>\n      <td>0.002</td>\n    </tr>\n    <tr>\n      <th>hr[11]</th>\n      <td>9.2814</td>\n      <td>3.945</td>\n      <td>2.353</td>\n      <td>0.019</td>\n    </tr>\n    <tr>\n      <th>hr[12]</th>\n      <td>41.1417</td>\n      <td>3.957</td>\n      <td>10.397</td>\n      <td>0.000</td>\n    </tr>\n    <tr>\n      <th>hr[13]</th>\n      <td>39.8939</td>\n      <td>3.975</td>\n      <td>10.036</td>\n      <td>0.000</td>\n    </tr>\n    <tr>\n      <th>hr[14]</th>\n      <td>30.4940</td>\n      <td>3.991</td>\n      <td>7.641</td>\n      <td>0.000</td>\n    </tr>\n    <tr>\n      <th>hr[15]</th>\n      <td>35.9445</td>\n      <td>3.995</td>\n      <td>8.998</td>\n      <td>0.000</td>\n    </tr>\n    <tr>\n      <th>hr[16]</th>\n      <td>82.3786</td>\n      <td>3.988</td>\n      <td>20.655</td>\n      <td>0.000</td>\n    </tr>\n    <tr>\n      <th>hr[17]</th>\n      <td>200.1249</td>\n      <td>3.964</td>\n      <td>50.488</td>\n      <td>0.000</td>\n    </tr>\n    <tr>\n      <th>hr[18]</th>\n      <td>173.2989</td>\n      <td>3.956</td>\n      <td>43.806</td>\n      <td>0.000</td>\n    </tr>\n    <tr>\n      <th>hr[19]</th>\n      <td>90.1138</td>\n      <td>3.940</td>\n      <td>22.872</td>\n      <td>0.000</td>\n    </tr>\n    <tr>\n      <th>hr[20]</th>\n      <td>29.4071</td>\n      <td>3.936</td>\n      <td>7.471</td>\n      <td>0.000</td>\n    </tr>\n    <tr>\n      <th>hr[21]</th>\n      <td>-8.5883</td>\n      <td>3.933</td>\n      <td>-2.184</td>\n      <td>0.029</td>\n    </tr>\n    <tr>\n      <th>hr[22]</th>\n      <td>-37.0194</td>\n      <td>3.934</td>\n      <td>-9.409</td>\n      <td>0.000</td>\n    </tr>\n    <tr>\n      <th>workingday</th>\n      <td>1.2696</td>\n      <td>1.784</td>\n      <td>0.711</td>\n      <td>0.477</td>\n    </tr>\n    <tr>\n      <th>temp</th>\n      <td>157.2094</td>\n      <td>10.261</td>\n      <td>15.321</td>\n      <td>0.000</td>\n    </tr>\n    <tr>\n      <th>weathersit[cloudy/misty]</th>\n      <td>-12.8903</td>\n      <td>1.964</td>\n      <td>-6.562</td>\n      <td>0.000</td>\n    </tr>\n    <tr>\n      <th>weathersit[heavy rain/snow]</th>\n      <td>-109.7446</td>\n      <td>76.667</td>\n      <td>-1.431</td>\n      <td>0.152</td>\n    </tr>\n    <tr>\n      <th>weathersit[light rain/snow]</th>\n      <td>-66.4944</td>\n      <td>2.965</td>\n      <td>-22.425</td>\n      <td>0.000</td>\n    </tr>\n  </tbody>\n</table>\n</div>"
     },
     "execution_count": 68,
     "metadata": {},
     "output_type": "execute_result"
    }
   ],
   "source": [
    "X2 = MS([mnth_encode, hr_encode , 'workingday', 'temp', 'weathersit']).fit_transform(Bike)\n",
    "M2_lm = sm.OLS(Y, X2).fit()\n",
    "S2 = summarize(M2_lm)\n",
    "S2"
   ],
   "metadata": {
    "collapsed": false,
    "ExecuteTime": {
     "end_time": "2023-11-28T17:14:37.563138Z",
     "start_time": "2023-11-28T17:14:37.396804Z"
    }
   },
   "id": "32281097fa8fcd7"
  },
  {
   "cell_type": "markdown",
   "source": [
    "Overall, we see that the choice of coding does not really matter, as along as we interpret the model output correctly."
   ],
   "metadata": {
    "collapsed": false
   },
   "id": "9aed5a77365439b6"
  },
  {
   "cell_type": "code",
   "execution_count": 69,
   "outputs": [
    {
     "data": {
      "text/plain": "5.006155854534554e-20"
     },
     "execution_count": 69,
     "metadata": {},
     "output_type": "execute_result"
    }
   ],
   "source": [
    "# The sum of the squared differences is zero\n",
    "np.sum((M_lm.fittedvalues - M2_lm.fittedvalues)**2)"
   ],
   "metadata": {
    "collapsed": false,
    "ExecuteTime": {
     "end_time": "2023-11-28T17:14:37.563357Z",
     "start_time": "2023-11-28T17:14:37.504865Z"
    }
   },
   "id": "ce52e50d8fc4fc43"
  },
  {
   "cell_type": "code",
   "execution_count": 70,
   "outputs": [
    {
     "data": {
      "text/plain": "True"
     },
     "execution_count": 70,
     "metadata": {},
     "output_type": "execute_result"
    }
   ],
   "source": [
    "np.allclose(M_lm.fittedvalues, M2_lm.fittedvalues)"
   ],
   "metadata": {
    "collapsed": false,
    "ExecuteTime": {
     "end_time": "2023-11-28T17:14:37.563509Z",
     "start_time": "2023-11-28T17:14:37.508957Z"
    }
   },
   "id": "af19f3371e0154c1"
  },
  {
   "cell_type": "code",
   "execution_count": 71,
   "outputs": [
    {
     "data": {
      "text/plain": "mnth[Jan]     -46.0871\nmnth[Feb]     -39.2419\nmnth[March]   -29.5357\nmnth[April]    -4.6622\nmnth[May]      26.4700\nmnth[June]     21.7317\nmnth[July]     -0.7626\nmnth[Aug]       7.1560\nmnth[Sept]     20.5912\nmnth[Oct]      29.7472\nmnth[Nov]      14.2229\nName: coef, dtype: float64"
     },
     "execution_count": 71,
     "metadata": {},
     "output_type": "execute_result"
    }
   ],
   "source": [
    "# Extract the coefficients for month\n",
    "coef_month = S2[S2.index.str.contains('mnth')]['coef']\n",
    "coef_month"
   ],
   "metadata": {
    "collapsed": false,
    "ExecuteTime": {
     "end_time": "2023-11-28T17:14:37.563640Z",
     "start_time": "2023-11-28T17:14:37.512146Z"
    }
   },
   "id": "ee83c1d9c0efa8f2"
  },
  {
   "cell_type": "code",
   "execution_count": 72,
   "outputs": [],
   "source": [
    "# Append Dec as the negative of the sum of other months\n",
    "months = Bike['mnth'].dtype.categories\n",
    "coef_month = pd.concat([\n",
    "coef_month, coef_month , pd.Series([-coef_month.sum()])\n",
    "])"
   ],
   "metadata": {
    "collapsed": false,
    "ExecuteTime": {
     "end_time": "2023-11-28T17:14:37.563690Z",
     "start_time": "2023-11-28T17:14:37.516623Z"
    }
   },
   "id": "3b7890696ae44b8c"
  },
  {
   "cell_type": "code",
   "execution_count": 77,
   "outputs": [
    {
     "name": "stdout",
     "output_type": "stream",
     "text": [
      "'int' object is not subscriptable\n"
     ]
    },
    {
     "data": {
      "text/plain": "<Figure size 800x800 with 1 Axes>",
      "image/png": "[encoded data removed]"
     },
     "metadata": {},
     "output_type": "display_data"
    }
   ],
   "source": [
    "try:\n",
    "    fig_month, ax_month = subplots(figsize=(8,8))\n",
    "    x_month = np.arange(coef_month.shape[0])\n",
    "    ax_month.plot(x_month, coef_month, marker='o', ms=10) \n",
    "    ax_month.set_xticks(x_month)\n",
    "    ax_month.set_xticklabels([l[5] for l in coef_month.index], fontsize\n",
    "    =20)\n",
    "    ax_month.set_xlabel('Month', fontsize=20)\n",
    "    ax_month.set_ylabel('Coefficient', fontsize=20);\n",
    "except Exception as e:\n",
    "    print(e)"
   ],
   "metadata": {
    "collapsed": false,
    "ExecuteTime": {
     "end_time": "2023-11-28T19:19:32.582351Z",
     "start_time": "2023-11-28T19:19:32.438516Z"
    }
   },
   "id": "93f302e2c1313dbd"
  },
  {
   "cell_type": "code",
   "execution_count": null,
   "outputs": [],
   "source": [
    "coef_hr = S2[S2.index.str.contains('hr')]['coef']\n",
    "coef_hr = coef_hr.reindex(['hr[{0}]'.format(h) for h in range(23)]) \n",
    "coef_hr = pd.concat([coef_hr, pd.Series([-coef_hr.sum()], index=['hr[23]']) ])"
   ],
   "metadata": {
    "collapsed": false,
    "ExecuteTime": {
     "end_time": "2023-11-28T17:14:37.866159Z",
     "start_time": "2023-11-28T17:14:37.861260Z"
    }
   },
   "id": "48966cee54334974"
  },
  {
   "cell_type": "code",
   "execution_count": null,
   "outputs": [],
   "source": [
    "fig_hr, ax_hr = subplots(figsize=(8,8))\n",
    "x_hr = np.arange(coef_hr.shape[0]) \n",
    "ax_hr.plot(x_hr, coef_hr, marker='o', ms=10)\n",
    "ax_hr.set_xticks(x_hr[::2])\n",
    "ax_hr.set_xticklabels(range(24)[::2], fontsize=20)\n",
    "ax_hr.set_xlabel('Hour', fontsize=20) \n",
    "ax_hr.set_ylabel('Coefficient', fontsize=20);"
   ],
   "metadata": {
    "collapsed": false,
    "ExecuteTime": {
     "start_time": "2023-11-28T17:14:37.862306Z"
    }
   },
   "id": "1b37fe0b6ac0d33b"
  },
  {
   "cell_type": "markdown",
   "source": [
    "##### Poisson Regression\n",
    "Instead of a linear regression we use poission regression, which is more suitable for this data."
   ],
   "metadata": {
    "collapsed": false
   },
   "id": "a2ef58b5b57c79ba"
  },
  {
   "cell_type": "code",
   "execution_count": 78,
   "outputs": [],
   "source": [
    "M_pois = sm.GLM(Y, X2, family=sm.families.Poisson()).fit()"
   ],
   "metadata": {
    "collapsed": false,
    "ExecuteTime": {
     "end_time": "2023-11-28T19:20:42.579295Z",
     "start_time": "2023-11-28T19:20:42.475158Z"
    }
   },
   "id": "e7122afcf2aefbb"
  },
  {
   "cell_type": "code",
   "execution_count": 79,
   "outputs": [],
   "source": [
    "S_pois = summarize(M_pois)\n",
    "coef_month = S_pois[S_pois.index.str.contains('mnth')]['coef'] \n",
    "coef_month = pd.concat([coef_month,\n",
    "pd.Series([-coef_month.sum()], index=['mnth[Dec]'])])\n",
    "coef_hr = S_pois[S_pois.index.str.contains('hr')]['coef']\n",
    "coef_hr = pd.concat([coef_hr, pd.Series([-coef_hr.sum()],\n",
    "index=['hr[23]'])])"
   ],
   "metadata": {
    "collapsed": false,
    "ExecuteTime": {
     "end_time": "2023-11-28T19:20:43.355773Z",
     "start_time": "2023-11-28T19:20:43.314216Z"
    }
   },
   "id": "a23fd999d182f442"
  },
  {
   "cell_type": "markdown",
   "source": [
    "The following plots are of the coefficients of ```mnth``` and ```hr```."
   ],
   "metadata": {
    "collapsed": false
   },
   "id": "8a3010b85735fefa"
  },
  {
   "cell_type": "code",
   "execution_count": 83,
   "outputs": [
    {
     "name": "stderr",
     "output_type": "stream",
     "text": [
      "/var/folders/gf/bt25hkv172n_bttx0h72_6340000gn/T/ipykernel_12419/824882860.py:11: UserWarning: FixedFormatter should only be used together with FixedLocator\n",
      "  ax_hr.set_xticklabels(range(24)[::2], fontsize=20)\n"
     ]
    },
    {
     "data": {
      "text/plain": "<Figure size 1600x800 with 2 Axes>",
      "image/png": "[encoded data removed]"
     },
     "metadata": {},
     "output_type": "display_data"
    }
   ],
   "source": [
    "fig_pois, (ax_month, ax_hr) = subplots(1, 2, figsize=(16,8))\n",
    "x_month = np.arange(coef_month.shape[0])\n",
    "x_hr = np.arange(coef_hr.shape[0]) \n",
    "ax_month.plot(x_month, coef_month, marker='o', ms=10)\n",
    "ax_month.set_xticks(x_month)\n",
    "ax_month.set_xticklabels([l[5] for l in coef_month.index], fontsize\n",
    "=20)\n",
    "ax_month.set_xlabel('Month', fontsize=20) \n",
    "ax_month.set_ylabel('Coefficient', fontsize=20)\n",
    "ax_hr.plot(x_hr, coef_hr, marker='o', ms=10)\n",
    "ax_hr.set_xticklabels(range(24)[::2], fontsize=20)\n",
    "ax_hr.set_xlabel('Hour', fontsize=20) \n",
    "ax_hr.set_ylabel('Coefficient', fontsize=20);"
   ],
   "metadata": {
    "collapsed": false,
    "ExecuteTime": {
     "end_time": "2023-11-28T19:21:46.365168Z",
     "start_time": "2023-11-28T19:21:46.221110Z"
    }
   },
   "id": "27296753005488b3"
  },
  {
   "cell_type": "code",
   "execution_count": 81,
   "outputs": [
    {
     "data": {
      "text/plain": "Text(0.5, 0, 'Linear Regression Fit')"
     },
     "execution_count": 81,
     "metadata": {},
     "output_type": "execute_result"
    },
    {
     "data": {
      "text/plain": "<Figure size 800x800 with 1 Axes>",
      "image/png": "[encoded data removed]"
     },
     "metadata": {},
     "output_type": "display_data"
    }
   ],
   "source": [
    "fig, ax = subplots(figsize=(8, 8))\n",
    "ax.scatter(M2_lm.fittedvalues , M_pois.fittedvalues ,\n",
    "s=20)\n",
    "ax.set_xlabel('Linear Regression Fit', fontsize=20)"
   ],
   "metadata": {
    "collapsed": false,
    "ExecuteTime": {
     "end_time": "2023-11-28T19:20:47.050987Z",
     "start_time": "2023-11-28T19:20:46.937118Z"
    }
   },
   "id": "6df407f5b5b02579"
  },
  {
   "cell_type": "markdown",
   "source": [
    "This shows that the prediction from the poisson regressions are correlated predictions from the linear model."
   ],
   "metadata": {
    "collapsed": false
   },
   "id": "8943bfaa9cd7d2be"
  }
 ],
 "metadata": {
  "kernelspec": {
   "display_name": "Python 3 (ipykernel)",
   "language": "python",
   "name": "python3"
  },
  "language_info": {
   "codemirror_mode": {
    "name": "ipython",
    "version": 3
   },
   "file_extension": ".py",
   "mimetype": "text/x-python",
   "name": "python",
   "nbconvert_exporter": "python",
   "pygments_lexer": "ipython3",
   "version": "3.11.4"
  }
 },
 "nbformat": 4,
 "nbformat_minor": 5
}
