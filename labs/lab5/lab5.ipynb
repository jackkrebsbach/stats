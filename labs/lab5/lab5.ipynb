{
 "cells": [
  {
   "cell_type": "markdown",
   "id": "35ba2f83-cc21-4e5b-ac16-c0b65beb51c1",
   "metadata": {
    "collapsed": false
   },
   "source": [
    "## Lab 5: Resampling Methods \n",
    "Cross-Validation and the Bootstrap\n",
    "Jack Krebsbach Math 313 "
   ]
  },
  {
   "cell_type": "markdown",
   "id": "38a076063259415c",
   "metadata": {
    "collapsed": false
   },
   "source": [
    "Imports"
   ]
  },
  {
   "cell_type": "code",
   "execution_count": 56,
   "id": "2c5602a522b7b6fe",
   "metadata": {
    "ExecuteTime": {
     "end_time": "2023-12-03T20:41:35.978789Z",
     "start_time": "2023-12-03T20:41:35.875068Z"
    },
    "collapsed": false
   },
   "outputs": [],
   "source": [
    "import numpy as np\n",
    "import statsmodels.api as sm\n",
    "from ISLP import load_data\n",
    "from ISLP.models import (ModelSpec as MS,\n",
    "summarize ,\n",
    "poly)\n",
    "from sklearn.model_selection import train_test_split\n"
   ]
  },
  {
   "cell_type": "markdown",
   "id": "6ff706dcb4265838",
   "metadata": {
    "collapsed": false
   },
   "source": [
    "New Imports:"
   ]
  },
  {
   "cell_type": "code",
   "execution_count": 57,
   "id": "516079044f791c4e",
   "metadata": {
    "ExecuteTime": {
     "end_time": "2023-12-03T20:41:35.991077Z",
     "start_time": "2023-12-03T20:41:35.880117Z"
    },
    "collapsed": false
   },
   "outputs": [],
   "source": [
    "from functools import partial\n",
    "from sklearn.model_selection import \\\n",
    "(cross_validate , KFold , ShuffleSplit)\n",
    "from sklearn.base import clone\n",
    "from ISLP.models import sklearn_sm"
   ]
  },
  {
   "cell_type": "markdown",
   "id": "14fbaae79348e0cf",
   "metadata": {
    "collapsed": false
   },
   "source": [
    "#### The Validation Set Approach\n",
    "We will split the data into two sets "
   ]
  },
  {
   "cell_type": "code",
   "execution_count": 58,
   "id": "8fc7f986d0a25255",
   "metadata": {
    "ExecuteTime": {
     "end_time": "2023-12-03T20:41:35.992977Z",
     "start_time": "2023-12-03T20:41:35.884864Z"
    },
    "collapsed": false
   },
   "outputs": [],
   "source": [
    "Auto = load_data('Auto')\n",
    "Auto_train, Auto_valid = train_test_split(Auto,\n",
    "                                          test_size=196, random_state=0)"
   ]
  },
  {
   "cell_type": "markdown",
   "id": "f46de52d2c9015f7",
   "metadata": {
    "collapsed": false
   },
   "source": [
    "Fit a linear regression only using observations in the training set."
   ]
  },
  {
   "cell_type": "code",
   "execution_count": 59,
   "id": "2b4d7b6f901caf38",
   "metadata": {
    "ExecuteTime": {
     "end_time": "2023-12-03T20:41:36.061159Z",
     "start_time": "2023-12-03T20:41:35.895725Z"
    },
    "collapsed": false
   },
   "outputs": [],
   "source": [
    "hp_mm = MS(['horsepower'])\n",
    "X_train = hp_mm.fit_transform(Auto_train)\n",
    "y_train = Auto_train['mpg']\n",
    "model = sm.OLS(y_train, X_train)\n",
    "results = model.fit()"
   ]
  },
  {
   "cell_type": "markdown",
   "id": "5dee1038f5f5eca5",
   "metadata": {
    "collapsed": false
   },
   "source": [
    "Now we can use the validation set and the train model to see a more accurate metric on how well the model can generalize. We can also calculate an estimate of the MSE of the model."
   ]
  },
  {
   "cell_type": "code",
   "execution_count": 60,
   "id": "76a4923799301a16",
   "metadata": {
    "ExecuteTime": {
     "end_time": "2023-12-03T20:41:36.062953Z",
     "start_time": "2023-12-03T20:41:35.900302Z"
    },
    "collapsed": false
   },
   "outputs": [
    {
     "data": {
      "text/plain": [
       "23.616617069669882"
      ]
     },
     "execution_count": 60,
     "metadata": {},
     "output_type": "execute_result"
    }
   ],
   "source": [
    "X_valid = hp_mm.transform(Auto_valid) \n",
    "y_valid = Auto_valid['mpg'] \n",
    "valid_pred = results.predict(X_valid)\n",
    "np.mean((y_valid - valid_pred)**2)"
   ]
  },
  {
   "cell_type": "code",
   "execution_count": 61,
   "id": "ea7f383a7130c923",
   "metadata": {
    "ExecuteTime": {
     "end_time": "2023-12-03T20:41:36.063059Z",
     "start_time": "2023-12-03T20:41:35.904512Z"
    },
    "collapsed": false
   },
   "outputs": [],
   "source": [
    "# Define a function to calculate the MSE of a given model\n",
    "\n",
    "def evalMSE(terms, response , train , test):\n",
    "    mm = MS(terms)\n",
    "    X_train = mm.fit_transform(train) \n",
    "    y_train = train[response]\n",
    "    X_test = mm.transform(test) \n",
    "    y_test = test[response]\n",
    "    results = sm.OLS(y_train, X_train).fit() \n",
    "    test_pred = results.predict(X_test)\n",
    "    return np.mean((y_test - test_pred)**2)"
   ]
  },
  {
   "cell_type": "markdown",
   "id": "174b815a45cbfe53",
   "metadata": {
    "collapsed": false
   },
   "source": [
    "Now, we can use the previously defined function to evaluate the MSE on the validation set using linear, quadratic, and cubic fits. "
   ]
  },
  {
   "cell_type": "code",
   "execution_count": 62,
   "id": "7c64a125689c4b85",
   "metadata": {
    "ExecuteTime": {
     "end_time": "2023-12-03T20:41:36.072748Z",
     "start_time": "2023-12-03T20:41:35.912820Z"
    },
    "collapsed": false
   },
   "outputs": [
    {
     "data": {
      "text/plain": [
       "array([23.61661707, 18.76303135, 18.79694163])"
      ]
     },
     "execution_count": 62,
     "metadata": {},
     "output_type": "execute_result"
    }
   ],
   "source": [
    "MSE = np.zeros(3)\n",
    "for idx, degree in enumerate(range(1, 4)):\n",
    "    MSE[idx] = evalMSE([poly('horsepower', degree)], 'mpg',\n",
    "    Auto_train , Auto_valid)\n",
    "MSE"
   ]
  },
  {
   "cell_type": "markdown",
   "id": "859a347d52041066",
   "metadata": {
    "collapsed": false
   },
   "source": [
    "We can expect different MSE values if we use a different train/test split."
   ]
  },
  {
   "cell_type": "code",
   "execution_count": 63,
   "id": "411b3543e54c961d",
   "metadata": {
    "ExecuteTime": {
     "end_time": "2023-12-03T20:41:36.083940Z",
     "start_time": "2023-12-03T20:41:35.925585Z"
    },
    "collapsed": false
   },
   "outputs": [
    {
     "data": {
      "text/plain": [
       "array([20.75540796, 16.94510676, 16.97437833])"
      ]
     },
     "execution_count": 63,
     "metadata": {},
     "output_type": "execute_result"
    }
   ],
   "source": [
    "Auto_train, Auto_valid = train_test_split(Auto, test_size=196,random_state=3)\n",
    "MSE = np.zeros(3)\n",
    "for idx, degree in enumerate(range(1, 4)):\n",
    "    MSE[idx] = evalMSE([poly('horsepower', degree)], 'mpg',\n",
    "                       Auto_train , Auto_valid)\n",
    "    \n",
    "MSE"
   ]
  },
  {
   "cell_type": "markdown",
   "id": "c3281563a8bd866d",
   "metadata": {
    "collapsed": false
   },
   "source": [
    "Overall, while the MSEs are different the findings are the same, the quadratic function of horsepower performs better than the model only using the linear function of horsepower."
   ]
  },
  {
   "cell_type": "markdown",
   "id": "e953006c0d85e9c6",
   "metadata": {
    "collapsed": false
   },
   "source": [
    "#### Cross-Validation\n",
    "Theoretically we can use cross-validation for any generalized linear model. "
   ]
  },
  {
   "cell_type": "markdown",
   "id": "f2d6862cc38dfa8e",
   "metadata": {
    "collapsed": false
   },
   "source": [
    "The function ```cross_validate``` takes an object with fit, predict, and score methods, along with an array of features, the response, and how many folds. In this case we are putting in the number of observations so this becomes LOOCV."
   ]
  },
  {
   "cell_type": "code",
   "execution_count": 64,
   "id": "1ad4d667d8757ef5",
   "metadata": {
    "ExecuteTime": {
     "end_time": "2023-12-03T20:41:37.121729Z",
     "start_time": "2023-12-03T20:41:35.943108Z"
    },
    "collapsed": false
   },
   "outputs": [
    {
     "data": {
      "text/plain": [
       "24.231513517929205"
      ]
     },
     "execution_count": 64,
     "metadata": {},
     "output_type": "execute_result"
    }
   ],
   "source": [
    "# We can use sklearn to \n",
    "hp_model = sklearn_sm(sm.OLS, MS(['horsepower']))\n",
    "\n",
    "# Create model matrix\n",
    "X, Y = Auto.drop(columns=['mpg']), Auto['mpg']\n",
    "\n",
    "cv_results = cross_validate(hp_model, X, Y, cv=Auto.shape[0])\n",
    "\n",
    "# Calculate Error\n",
    "cv_err = np.mean(cv_results['test_score'])\n",
    "cv_err"
   ]
  },
  {
   "cell_type": "code",
   "execution_count": 65,
   "id": "90bebfb546947fbc",
   "metadata": {
    "ExecuteTime": {
     "end_time": "2023-12-03T20:41:37.642876Z",
     "start_time": "2023-12-03T20:41:37.121352Z"
    },
    "collapsed": false
   },
   "outputs": [
    {
     "data": {
      "text/plain": [
       "array([24.23151352, 19.24821312, 19.33498406, 19.42443032, 19.03323815])"
      ]
     },
     "execution_count": 65,
     "metadata": {},
     "output_type": "execute_result"
    }
   ],
   "source": [
    "# Now, using cross validation we see what degree of polynomial fits work well on the data.\n",
    "cv_error = np.zeros(5)\n",
    "H = np.array(Auto['horsepower'])\n",
    "M = sklearn_sm(sm.OLS)\n",
    "for i, d in enumerate(range(1,6)):\n",
    "    X = np.power.outer(H, np.arange(d+1)) \n",
    "    M_CV = cross_validate(M, X, Y, cv=Auto.shape[0])\n",
    "    cv_error[i] = np.mean(M_CV['test_score']) \n",
    "cv_error"
   ]
  },
  {
   "cell_type": "markdown",
   "id": "ffd4e5ec5ec2f3ef",
   "metadata": {
    "collapsed": false
   },
   "source": [
    "Here we see that there is a sharp drop in estimated MSE between linear and quadratic fits. However, there is minimal improvement from using higher-degree polynomials.\n",
    "\n",
    "We can use ```np.add.outer()``` to add pairs of elements together from two vectors."
   ]
  },
  {
   "cell_type": "code",
   "execution_count": 66,
   "id": "eda7c54ec5b04553",
   "metadata": {
    "ExecuteTime": {
     "end_time": "2023-12-03T20:41:37.644375Z",
     "start_time": "2023-12-03T20:41:37.641690Z"
    },
    "collapsed": false
   },
   "outputs": [
    {
     "data": {
      "text/plain": [
       "array([[ 5,  7],\n",
       "       [ 7,  9],\n",
       "       [11, 13]])"
      ]
     },
     "execution_count": 66,
     "metadata": {},
     "output_type": "execute_result"
    }
   ],
   "source": [
    "# Pairwise addition \n",
    "A = np.array([3, 5, 9]) \n",
    "B = np.array([2, 4]) \n",
    "np.add.outer(A, B)"
   ]
  },
  {
   "cell_type": "markdown",
   "id": "6088300a8118c4ca",
   "metadata": {
    "collapsed": false
   },
   "source": [
    "Notes on KFold:\n",
    "- Use K=10 to generate 10 random groups\n",
    "- random_state to set the seed"
   ]
  },
  {
   "cell_type": "code",
   "execution_count": 67,
   "id": "d4210e53eaed23eb",
   "metadata": {
    "ExecuteTime": {
     "end_time": "2023-12-03T20:41:37.669934Z",
     "start_time": "2023-12-03T20:41:37.645830Z"
    },
    "collapsed": false
   },
   "outputs": [
    {
     "data": {
      "text/plain": [
       "array([24.20766449, 19.18533142, 19.27626666, 19.47848403, 19.13720287])"
      ]
     },
     "execution_count": 67,
     "metadata": {},
     "output_type": "execute_result"
    }
   ],
   "source": [
    "cv_error = np.zeros(5) \n",
    "cv = KFold(n_splits=10, shuffle=True, random_state=0) \n",
    "# use same splits for each degree \n",
    "for i, d in enumerate(range(1,6)):\n",
    "    X = np.power.outer(H, np.arange(d+1))\n",
    "    M_CV = cross_validate(M, X, Y, cv=cv)\n",
    "    cv_error[i] = np.mean(M_CV['test_score'])\n",
    "cv_error"
   ]
  },
  {
   "cell_type": "markdown",
   "id": "b4272f52cfb7898c",
   "metadata": {
    "collapsed": false
   },
   "source": [
    "Here we see that the computational time is much less than LOOCV. "
   ]
  },
  {
   "cell_type": "code",
   "execution_count": 68,
   "id": "c874a00016da410f",
   "metadata": {
    "ExecuteTime": {
     "end_time": "2023-12-03T20:41:37.671894Z",
     "start_time": "2023-12-03T20:41:37.667833Z"
    },
    "collapsed": false
   },
   "outputs": [
    {
     "data": {
      "text/plain": [
       "array([23.61661707])"
      ]
     },
     "execution_count": 68,
     "metadata": {},
     "output_type": "execute_result"
    }
   ],
   "source": [
    "validation = ShuffleSplit(n_splits=1, test_size=196,\n",
    "random_state=0) \n",
    "results = cross_validate(hp_model, \n",
    "Auto.drop(['mpg'], axis=1), Auto['mpg'], cv=validation);\n",
    "results['test_score']"
   ]
  },
  {
   "cell_type": "markdown",
   "id": "f60e8964ceeebd",
   "metadata": {
    "collapsed": false
   },
   "source": [
    "We can estimate the variability in the test error by running the following. *Note that this is not a valid estimate of the sampling variability of the mean test score or the individual scores because the randomly-selected training samples overlap."
   ]
  },
  {
   "cell_type": "code",
   "execution_count": 69,
   "id": "a9d9e1a6d693f690",
   "metadata": {
    "ExecuteTime": {
     "end_time": "2023-12-03T20:41:37.755968Z",
     "start_time": "2023-12-03T20:41:37.673572Z"
    },
    "collapsed": false
   },
   "outputs": [
    {
     "data": {
      "text/plain": [
       "(23.802232661034168, 1.4218450941091891)"
      ]
     },
     "execution_count": 69,
     "metadata": {},
     "output_type": "execute_result"
    }
   ],
   "source": [
    "validation = ShuffleSplit(n_splits=10, test_size=196,\n",
    "random_state=0) \n",
    "results = cross_validate(hp_model,\n",
    "Auto.drop(['mpg'], axis=1), Auto['mpg'],\n",
    "cv=validation)\n",
    "results['test_score'].mean(), results['test_score'].std()"
   ]
  },
  {
   "cell_type": "markdown",
   "id": "9e6e9b0c5539ae72",
   "metadata": {
    "collapsed": false
   },
   "source": [
    "#### The Bootstrap\n",
    "Boostrap can be applied in almost all situations. We will use it to estimate the accuracy of the linear regression model on the ```Auto``` data set.\n",
    "\n",
    "We will estimate the sample variance of the parameter alpha in the following:"
   ]
  },
  {
   "cell_type": "code",
   "execution_count": 70,
   "id": "6ed17f78e2575c32",
   "metadata": {
    "ExecuteTime": {
     "end_time": "2023-12-03T20:41:37.759863Z",
     "start_time": "2023-12-03T20:41:37.754761Z"
    },
    "collapsed": false
   },
   "outputs": [],
   "source": [
    "# Load the data\n",
    "Portfolio = load_data('Portfolio') \n",
    "\n",
    "# Define the function to estimate the variance of the parameter alpha\n",
    "def alpha_func(D, idx):\n",
    "    cov_ = np.cov(D[['X','Y']].loc[idx], rowvar=False) \n",
    "    return ((cov_[1,1] - cov_[0,1]) / (cov_[0,0]+cov_[1,1]-2*cov_[0,1]))\n"
   ]
  },
  {
   "cell_type": "code",
   "execution_count": 71,
   "id": "1922d9d8d2b7a6bf",
   "metadata": {
    "ExecuteTime": {
     "end_time": "2023-12-03T20:41:37.764010Z",
     "start_time": "2023-12-03T20:41:37.759339Z"
    },
    "collapsed": false
   },
   "outputs": [
    {
     "data": {
      "text/plain": [
       "0.57583207459283"
      ]
     },
     "execution_count": 71,
     "metadata": {},
     "output_type": "execute_result"
    }
   ],
   "source": [
    "alpha_func(Portfolio, range(100))"
   ]
  },
  {
   "cell_type": "markdown",
   "id": "1daa14a78d8c4c91",
   "metadata": {
    "collapsed": false
   },
   "source": [
    "In the following we randomly select 100 observations with replacement (essentially constructing a new boostrap"
   ]
  },
  {
   "cell_type": "code",
   "execution_count": 72,
   "id": "c30770434111e29c",
   "metadata": {
    "ExecuteTime": {
     "end_time": "2023-12-03T20:41:37.766013Z",
     "start_time": "2023-12-03T20:41:37.763368Z"
    },
    "collapsed": false
   },
   "outputs": [
    {
     "data": {
      "text/plain": [
       "0.6074452469619004"
      ]
     },
     "execution_count": 72,
     "metadata": {},
     "output_type": "execute_result"
    }
   ],
   "source": [
    "rng = np.random.default_rng(0)\n",
    "alpha_func(Portfolio, rng.choice(100, 100, replace=True))"
   ]
  },
  {
   "cell_type": "markdown",
   "id": "f5db26ffbbd46177",
   "metadata": {
    "collapsed": false
   },
   "source": [
    "Now, we can create a generalized simple function ```boot_SE()``` to compute the standard error for arbitrary functions."
   ]
  },
  {
   "cell_type": "code",
   "execution_count": 73,
   "id": "ad40a110c091bf0e",
   "metadata": {
    "ExecuteTime": {
     "end_time": "2023-12-03T20:41:37.769852Z",
     "start_time": "2023-12-03T20:41:37.766962Z"
    },
    "collapsed": false
   },
   "outputs": [],
   "source": [
    "def boot_SE(func, D, n=None, B=1000, seed=0):\n",
    "    rng = np.random.default_rng(seed) \n",
    "    first_ , second_ = 0, 0 \n",
    "    n = n or D.shape[0]\n",
    "    for _ in range(B):\n",
    "        idx = rng.choice(D.index, n,replace=True) \n",
    "        value = func(D, idx)\n",
    "        first_ += value\n",
    "        second_ += value**2\n",
    "    return np.sqrt(second_ / B - (first_ / B)**2)"
   ]
  },
  {
   "cell_type": "code",
   "execution_count": 74,
   "id": "94bdbd4347e92bb3",
   "metadata": {
    "ExecuteTime": {
     "end_time": "2023-12-03T20:41:38.027272Z",
     "start_time": "2023-12-03T20:41:37.774710Z"
    },
    "collapsed": false
   },
   "outputs": [
    {
     "data": {
      "text/plain": [
       "0.09118176521277699"
      ]
     },
     "execution_count": 74,
     "metadata": {},
     "output_type": "execute_result"
    }
   ],
   "source": [
    "alpha_SE = boot_SE(alpha_func, Portfolio , B=1000, seed=0)\n",
    "alpha_SE"
   ]
  },
  {
   "cell_type": "markdown",
   "id": "8bf33b6d14dcb7c4",
   "metadata": {
    "collapsed": false
   },
   "source": [
    "Thus, the boostrap estimate for ```SE(a)``` is 0.0912."
   ]
  },
  {
   "cell_type": "markdown",
   "id": "dad50df33a85c064",
   "metadata": {
    "collapsed": false
   },
   "source": [
    "##### Estimate the Accuracy of a Linear Model\n",
    "\n",
    "We will create a boostrap function that will estimate the accuracy of the linear regression model."
   ]
  },
  {
   "cell_type": "code",
   "execution_count": 75,
   "id": "440b45e449010c72",
   "metadata": {
    "ExecuteTime": {
     "end_time": "2023-12-03T20:41:38.027489Z",
     "start_time": "2023-12-03T20:41:38.026054Z"
    },
    "collapsed": false
   },
   "outputs": [],
   "source": [
    "def boot_OLS(model_matrix, response, D, idx):\n",
    "    D_ = D.loc[idx]\n",
    "    Y_ = D_[response]\n",
    "    X_ = clone(model_matrix).fit_transform(D_) \n",
    "    return sm.OLS(Y_, X_).fit().params"
   ]
  },
  {
   "cell_type": "markdown",
   "id": "9065dd25b13b5012",
   "metadata": {
    "collapsed": false
   },
   "source": [
    "The following will freeze the arguments, now the first two arguments are frozen:"
   ]
  },
  {
   "cell_type": "code",
   "execution_count": 76,
   "id": "26365ac9979983b2",
   "metadata": {
    "ExecuteTime": {
     "end_time": "2023-12-03T20:41:38.031416Z",
     "start_time": "2023-12-03T20:41:38.028312Z"
    },
    "collapsed": false
   },
   "outputs": [],
   "source": [
    "hp_func = partial(boot_OLS, MS(['horsepower']), 'mpg')"
   ]
  },
  {
   "cell_type": "code",
   "execution_count": 77,
   "id": "b28872a526d7affe",
   "metadata": {
    "ExecuteTime": {
     "end_time": "2023-12-03T20:41:38.038768Z",
     "start_time": "2023-12-03T20:41:38.031120Z"
    },
    "collapsed": false
   },
   "outputs": [],
   "source": [
    "# Check that there are only two arguments\n",
    "hp_func?"
   ]
  },
  {
   "cell_type": "code",
   "execution_count": 78,
   "id": "39a3bc257e88f9aa",
   "metadata": {
    "ExecuteTime": {
     "end_time": "2023-12-03T20:41:38.064773Z",
     "start_time": "2023-12-03T20:41:38.038386Z"
    },
    "collapsed": false
   },
   "outputs": [
    {
     "data": {
      "text/plain": [
       "array([[39.88064456, -0.1567849 ],\n",
       "       [38.73298691, -0.14699495],\n",
       "       [38.31734657, -0.14442683],\n",
       "       [39.91446826, -0.15782234],\n",
       "       [39.43349349, -0.15072702],\n",
       "       [40.36629857, -0.15912217],\n",
       "       [39.62334517, -0.15449117],\n",
       "       [39.0580588 , -0.14952908],\n",
       "       [38.66688437, -0.14521037],\n",
       "       [39.64280792, -0.15555698]])"
      ]
     },
     "execution_count": 78,
     "metadata": {},
     "output_type": "execute_result"
    }
   ],
   "source": [
    "rng = np.random.default_rng(0)\n",
    "np.array([hp_func(Auto,\n",
    "rng.choice(392, 392,\n",
    "replace=True)) for _ in range(10)])"
   ]
  },
  {
   "cell_type": "code",
   "execution_count": 79,
   "id": "51b4d9dabeeb1204",
   "metadata": {
    "ExecuteTime": {
     "end_time": "2023-12-03T20:41:40.381190Z",
     "start_time": "2023-12-03T20:41:38.064366Z"
    },
    "collapsed": false
   },
   "outputs": [
    {
     "data": {
      "text/plain": [
       "intercept     0.848807\n",
       "horsepower    0.007352\n",
       "dtype: float64"
      ]
     },
     "execution_count": 79,
     "metadata": {},
     "output_type": "execute_result"
    }
   ],
   "source": [
    "hp_se = boot_SE(hp_func, Auto , B=1000, seed =10)\n",
    "hp_se"
   ]
  },
  {
   "cell_type": "markdown",
   "id": "7a72e75b02e88eee",
   "metadata": {
    "collapsed": false
   },
   "source": [
    "This shows that the boostrap estimate for the SE of B_0 is approximately 0.85 and the SE for B_1 (horsepower) is approximately 0.00753."
   ]
  },
  {
   "cell_type": "code",
   "execution_count": 80,
   "id": "492f4a6b16f45e5c",
   "metadata": {
    "ExecuteTime": {
     "end_time": "2023-12-03T20:41:40.394445Z",
     "start_time": "2023-12-03T20:41:40.387702Z"
    },
    "collapsed": false
   },
   "outputs": [
    {
     "data": {
      "text/plain": [
       "intercept     0.717\n",
       "horsepower    0.006\n",
       "Name: std err, dtype: float64"
      ]
     },
     "execution_count": 80,
     "metadata": {},
     "output_type": "execute_result"
    }
   ],
   "source": [
    "hp_model.fit(Auto, Auto['mpg'])\n",
    "model_se = summarize(hp_model.results_)['std err']\n",
    "model_se"
   ]
  },
  {
   "cell_type": "markdown",
   "id": "1e2729a8b7fbd4d9",
   "metadata": {
    "collapsed": false
   },
   "source": [
    "While we see that the estimates for the SE of the coefficients are different, it turns out the estimates from our bootstrapped models are more accurate. This is because the bootstrap does not rely on any assumptions such as assuming that all x_i are fixed. "
   ]
  },
  {
   "cell_type": "code",
   "execution_count": 83,
   "id": "b38d71771dac153",
   "metadata": {
    "ExecuteTime": {
     "end_time": "2023-12-03T20:42:18.173139Z",
     "start_time": "2023-12-03T20:42:15.028949Z"
    },
    "collapsed": false
   },
   "outputs": [
    {
     "data": {
      "text/plain": [
       "intercept                                  2.067840\n",
       "poly(horsepower, degree=2, raw=True)[0]    0.033019\n",
       "poly(horsepower, degree=2, raw=True)[1]    0.000120\n",
       "dtype: float64"
      ]
     },
     "execution_count": 83,
     "metadata": {},
     "output_type": "execute_result"
    }
   ],
   "source": [
    "# Since this model is a good fit the error estimates are closer to what they actually are.\n",
    "quad_model = MS([poly('horsepower', 2, raw=True)]) \n",
    "quad_func = partial(boot_OLS, quad_model ,\n",
    "'mpg') \n",
    "boot_SE(quad_func, Auto, B=1000)"
   ]
  },
  {
   "cell_type": "code",
   "execution_count": 82,
   "id": "332b1e3a17795432",
   "metadata": {
    "ExecuteTime": {
     "end_time": "2023-12-03T20:41:43.396177Z",
     "start_time": "2023-12-03T20:41:43.388379Z"
    },
    "collapsed": false
   },
   "outputs": [
    {
     "data": {
      "text/plain": [
       "intercept                                  1.800\n",
       "poly(horsepower, degree=2, raw=True)[0]    0.031\n",
       "poly(horsepower, degree=2, raw=True)[1]    0.000\n",
       "Name: std err, dtype: float64"
      ]
     },
     "execution_count": 82,
     "metadata": {},
     "output_type": "execute_result"
    }
   ],
   "source": [
    "# Estimates for the standard errors using sm.OLS()\n",
    "M = sm.OLS(Auto['mpg'], quad_model.fit_transform(Auto))\n",
    "summarize(M.fit())['std err']"
   ]
  }
 ],
 "metadata": {
  "kernelspec": {
   "display_name": "Python 3 (ipykernel)",
   "language": "python",
   "name": "python3"
  },
  "language_info": {
   "codemirror_mode": {
    "name": "ipython",
    "version": 3
   },
   "file_extension": ".py",
   "mimetype": "text/x-python",
   "name": "python",
   "nbconvert_exporter": "python",
   "pygments_lexer": "ipython3",
   "version": "3.11.4"
  }
 },
 "nbformat": 4,
 "nbformat_minor": 5
}
