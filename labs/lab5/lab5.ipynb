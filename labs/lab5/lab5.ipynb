{
 "cells": [
  {
   "cell_type": "markdown",
   "source": [
    "## Lab 5: Resampling Methods \n",
    "Cross-Validation and the Bootstrap\n",
    "Jack Krebsbach Math 313 "
   ],
   "metadata": {
    "collapsed": false
   },
   "id": "35ba2f83-cc21-4e5b-ac16-c0b65beb51c1"
  },
  {
   "cell_type": "markdown",
   "source": [
    "Imports"
   ],
   "metadata": {
    "collapsed": false
   },
   "id": "38a076063259415c"
  },
  {
   "cell_type": "code",
   "execution_count": 2,
   "outputs": [],
   "source": [
    "import numpy as np\n",
    "import statsmodels.api as sm\n",
    "from ISLP import load_data\n",
    "from ISLP.models import (ModelSpec as MS,\n",
    "summarize ,\n",
    "poly)\n",
    "from sklearn.model_selection import train_test_split\n"
   ],
   "metadata": {
    "collapsed": false,
    "ExecuteTime": {
     "end_time": "2023-12-03T19:45:41.444102Z",
     "start_time": "2023-12-03T19:45:41.442008Z"
    }
   },
   "id": "2c5602a522b7b6fe"
  },
  {
   "cell_type": "markdown",
   "source": [
    "New Imports:"
   ],
   "metadata": {
    "collapsed": false
   },
   "id": "6ff706dcb4265838"
  },
  {
   "cell_type": "code",
   "execution_count": 3,
   "outputs": [],
   "source": [
    "from functools import partial\n",
    "from sklearn.model_selection import \\\n",
    "(cross_validate , KFold , ShuffleSplit)\n",
    "from sklearn.base import clone\n",
    "from ISLP.models import sklearn_sm"
   ],
   "metadata": {
    "collapsed": false,
    "ExecuteTime": {
     "end_time": "2023-12-03T19:45:42.326743Z",
     "start_time": "2023-12-03T19:45:42.322009Z"
    }
   },
   "id": "516079044f791c4e"
  },
  {
   "cell_type": "markdown",
   "source": [
    "#### The Validation Set Approach\n",
    "We will split the data into two sets "
   ],
   "metadata": {
    "collapsed": false
   },
   "id": "14fbaae79348e0cf"
  },
  {
   "cell_type": "code",
   "execution_count": 5,
   "outputs": [],
   "source": [
    "Auto = load_data('Auto')\n",
    "Auto_train, Auto_valid = train_test_split(Auto,\n",
    "                                          test_size=196, random_state=0)"
   ],
   "metadata": {
    "collapsed": false,
    "ExecuteTime": {
     "end_time": "2023-12-03T19:46:24.829769Z",
     "start_time": "2023-12-03T19:46:24.822530Z"
    }
   },
   "id": "8fc7f986d0a25255"
  },
  {
   "cell_type": "markdown",
   "source": [
    "Fit a linear regression only using observations in the training set."
   ],
   "metadata": {
    "collapsed": false
   },
   "id": "f46de52d2c9015f7"
  },
  {
   "cell_type": "code",
   "execution_count": 7,
   "outputs": [],
   "source": [
    "hp_mm = MS(['horsepower'])\n",
    "X_train = hp_mm.fit_transform(Auto_train)\n",
    "y_train = Auto_train['mpg']\n",
    "model = sm.OLS(y_train, X_train)\n",
    "results = model.fit()"
   ],
   "metadata": {
    "collapsed": false,
    "ExecuteTime": {
     "end_time": "2023-12-03T19:46:57.550602Z",
     "start_time": "2023-12-03T19:46:57.544799Z"
    }
   },
   "id": "2b4d7b6f901caf38"
  },
  {
   "cell_type": "markdown",
   "source": [
    "Now we can use the validation set and the train model to see a more accurate metric on how well the model can generalize. We can also calculate an estimate of the MSE of the model."
   ],
   "metadata": {
    "collapsed": false
   },
   "id": "5dee1038f5f5eca5"
  },
  {
   "cell_type": "code",
   "execution_count": 9,
   "outputs": [
    {
     "data": {
      "text/plain": "23.616617069669882"
     },
     "execution_count": 9,
     "metadata": {},
     "output_type": "execute_result"
    }
   ],
   "source": [
    "X_valid = hp_mm.transform(Auto_valid) \n",
    "y_valid = Auto_valid['mpg'] \n",
    "valid_pred = results.predict(X_valid)\n",
    "np.mean((y_valid - valid_pred)**2)"
   ],
   "metadata": {
    "collapsed": false,
    "ExecuteTime": {
     "end_time": "2023-12-03T19:48:28.491389Z",
     "start_time": "2023-12-03T19:48:28.483433Z"
    }
   },
   "id": "76a4923799301a16"
  },
  {
   "cell_type": "code",
   "execution_count": 11,
   "outputs": [],
   "source": [
    "# Define a function to calculate the MSE of a given model\n",
    "\n",
    "def evalMSE(terms, response , train , test):\n",
    "    mm = MS(terms)\n",
    "    X_train = mm.fit_transform(train) \n",
    "    y_train = train[response]\n",
    "    X_test = mm.transform(test) \n",
    "    y_test = test[response]\n",
    "    results = sm.OLS(y_train, X_train).fit() \n",
    "    test_pred = results.predict(X_test)\n",
    "    return np.mean((y_test - test_pred)**2)"
   ],
   "metadata": {
    "collapsed": false,
    "ExecuteTime": {
     "end_time": "2023-12-03T19:49:24.079668Z",
     "start_time": "2023-12-03T19:49:24.075315Z"
    }
   },
   "id": "ea7f383a7130c923"
  },
  {
   "cell_type": "markdown",
   "source": [
    "Now, we can use the previously defined function to evaluate the MSE on the validation set using linear, quadratic, and cubic fits. "
   ],
   "metadata": {
    "collapsed": false
   },
   "id": "174b815a45cbfe53"
  },
  {
   "cell_type": "code",
   "execution_count": 12,
   "outputs": [
    {
     "data": {
      "text/plain": "array([23.61661707, 18.76303135, 18.79694163])"
     },
     "execution_count": 12,
     "metadata": {},
     "output_type": "execute_result"
    }
   ],
   "source": [
    "MSE = np.zeros(3)\n",
    "for idx, degree in enumerate(range(1, 4)):\n",
    "    MSE[idx] = evalMSE([poly('horsepower', degree)], 'mpg',\n",
    "    Auto_train , Auto_valid)\n",
    "MSE"
   ],
   "metadata": {
    "collapsed": false,
    "ExecuteTime": {
     "end_time": "2023-12-03T19:50:24.942317Z",
     "start_time": "2023-12-03T19:50:24.919780Z"
    }
   },
   "id": "7c64a125689c4b85"
  },
  {
   "cell_type": "markdown",
   "source": [
    "We can expect different MSE values if we use a different train/test split."
   ],
   "metadata": {
    "collapsed": false
   },
   "id": "859a347d52041066"
  },
  {
   "cell_type": "code",
   "execution_count": 13,
   "outputs": [
    {
     "data": {
      "text/plain": "array([20.75540796, 16.94510676, 16.97437833])"
     },
     "execution_count": 13,
     "metadata": {},
     "output_type": "execute_result"
    }
   ],
   "source": [
    "Auto_train, Auto_valid = train_test_split(Auto, test_size=196,random_state=3)\n",
    "MSE = np.zeros(3)\n",
    "for idx, degree in enumerate(range(1, 4)):\n",
    "    MSE[idx] = evalMSE([poly('horsepower', degree)], 'mpg',\n",
    "                       Auto_train , Auto_valid)\n",
    "    \n",
    "MSE"
   ],
   "metadata": {
    "collapsed": false,
    "ExecuteTime": {
     "end_time": "2023-12-03T19:51:42.903717Z",
     "start_time": "2023-12-03T19:51:42.886610Z"
    }
   },
   "id": "411b3543e54c961d"
  },
  {
   "cell_type": "markdown",
   "source": [
    "Overall, while the MSEs are different the findings are the same, the quadratic function of horsepower performs better than the model only using the linear function of horsepower."
   ],
   "metadata": {
    "collapsed": false
   },
   "id": "c3281563a8bd866d"
  },
  {
   "cell_type": "markdown",
   "source": [
    "#### Cross-Validation\n",
    "Theoretically we can use cross-validation for any generalized linear model. "
   ],
   "metadata": {
    "collapsed": false
   },
   "id": "e953006c0d85e9c6"
  },
  {
   "cell_type": "code",
   "execution_count": null,
   "outputs": [],
   "source": [],
   "metadata": {
    "collapsed": false
   },
   "id": "71a33693ddfbada8"
  },
  {
   "cell_type": "code",
   "execution_count": null,
   "outputs": [],
   "source": [],
   "metadata": {
    "collapsed": false
   },
   "id": "15271002d51281e9"
  },
  {
   "cell_type": "code",
   "execution_count": 14,
   "outputs": [
    {
     "data": {
      "text/plain": "24.231513517929205"
     },
     "execution_count": 14,
     "metadata": {},
     "output_type": "execute_result"
    }
   ],
   "source": [
    "# We can use sklearn to \n",
    "hp_model = sklearn_sm(sm.OLS, MS(['horsepower']))\n",
    "\n",
    "# Create model matrix\n",
    "X, Y = Auto.drop(columns=['mpg']), Auto['mpg']\n",
    "\n",
    "cv_results = cross_validate(hp_model, X, Y, cv=Auto.shape[0])\n",
    "\n",
    "# Calculate Error\n",
    "cv_err = np.mean(cv_results['test_score'])\n",
    "cv_err"
   ],
   "metadata": {
    "collapsed": false,
    "ExecuteTime": {
     "end_time": "2023-12-03T19:55:18.704797Z",
     "start_time": "2023-12-03T19:55:17.681384Z"
    }
   },
   "id": "1ad4d667d8757ef5"
  },
  {
   "cell_type": "code",
   "execution_count": 17,
   "outputs": [
    {
     "data": {
      "text/plain": "array([24.23151352, 19.24821312, 19.33498406, 19.42443032, 19.03323815])"
     },
     "execution_count": 17,
     "metadata": {},
     "output_type": "execute_result"
    }
   ],
   "source": [
    "# \n",
    "cv_error = np.zeros(5)\n",
    "H = np.array(Auto['horsepower'])\n",
    "M = sklearn_sm(sm.OLS)\n",
    "for i, d in enumerate(range(1,6)):\n",
    "    X = np.power.outer(H, np.arange(d+1)) \n",
    "    M_CV = cross_validate(M, X, Y, cv=Auto.shape[0])\n",
    "    cv_error[i] = np.mean(M_CV['test_score']) \n",
    "cv_error"
   ],
   "metadata": {
    "collapsed": false,
    "ExecuteTime": {
     "end_time": "2023-12-03T19:58:25.102982Z",
     "start_time": "2023-12-03T19:58:24.533022Z"
    }
   },
   "id": "90bebfb546947fbc"
  },
  {
   "cell_type": "markdown",
   "source": [
    "Here we see that there is a sharp drop in estimated MSE between linear and quadratic fits. However, there is minimal improvement from using higher-degree polynomials.\n",
    "\n",
    "We can use ```np.add.outer()``` to add pairs of elements together from two vectors."
   ],
   "metadata": {
    "collapsed": false
   },
   "id": "ffd4e5ec5ec2f3ef"
  },
  {
   "cell_type": "code",
   "execution_count": 20,
   "outputs": [
    {
     "data": {
      "text/plain": "array([[ 5,  7],\n       [ 7,  9],\n       [11, 13]])"
     },
     "execution_count": 20,
     "metadata": {},
     "output_type": "execute_result"
    }
   ],
   "source": [
    "# Pairwise addition \n",
    "A = np.array([3, 5, 9]) \n",
    "B = np.array([2, 4]) \n",
    "np.add.outer(A, B)"
   ],
   "metadata": {
    "collapsed": false,
    "ExecuteTime": {
     "end_time": "2023-12-03T20:00:46.730827Z",
     "start_time": "2023-12-03T20:00:46.720899Z"
    }
   },
   "id": "eda7c54ec5b04553"
  },
  {
   "cell_type": "markdown",
   "source": [
    "Notes on KFold:\n",
    "- Use K=10 to generate 10 random groups\n",
    "- random_state to set the seed"
   ],
   "metadata": {
    "collapsed": false
   },
   "id": "6088300a8118c4ca"
  },
  {
   "cell_type": "code",
   "execution_count": 18,
   "outputs": [
    {
     "data": {
      "text/plain": "array([24.20766449, 19.18533142, 19.27626666, 19.47848403, 19.13720287])"
     },
     "execution_count": 18,
     "metadata": {},
     "output_type": "execute_result"
    }
   ],
   "source": [
    "cv_error = np.zeros(5) \n",
    "cv = KFold(n_splits=10, shuffle=True, random_state=0) \n",
    "# use same splits for each degree \n",
    "for i, d in enumerate(range(1,6)):\n",
    "    X = np.power.outer(H, np.arange(d+1))\n",
    "    M_CV = cross_validate(M, X, Y, cv=cv)\n",
    "    cv_error[i] = np.mean(M_CV['test_score'])\n",
    "cv_error"
   ],
   "metadata": {
    "collapsed": false,
    "ExecuteTime": {
     "end_time": "2023-12-03T19:59:25.637673Z",
     "start_time": "2023-12-03T19:59:25.603890Z"
    }
   },
   "id": "d4210e53eaed23eb"
  },
  {
   "cell_type": "markdown",
   "source": [
    "Here we see that the computational time is much less than LOOCV. "
   ],
   "metadata": {
    "collapsed": false
   },
   "id": "b4272f52cfb7898c"
  },
  {
   "cell_type": "code",
   "execution_count": 21,
   "outputs": [
    {
     "data": {
      "text/plain": "array([23.61661707])"
     },
     "execution_count": 21,
     "metadata": {},
     "output_type": "execute_result"
    }
   ],
   "source": [
    "validation = ShuffleSplit(n_splits=1, test_size=196,\n",
    "random_state=0) \n",
    "results = cross_validate(hp_model, \n",
    "Auto.drop(['mpg'], axis=1), Auto['mpg'], cv=validation);\n",
    "results['test_score']"
   ],
   "metadata": {
    "collapsed": false,
    "ExecuteTime": {
     "end_time": "2023-12-03T20:03:00.144829Z",
     "start_time": "2023-12-03T20:03:00.133535Z"
    }
   },
   "id": "c874a00016da410f"
  },
  {
   "cell_type": "markdown",
   "source": [
    "We can estimate the variability in the test error by running the following. *Note that this is not a valid estimate of the sampling variability of the mean test score or the individual scores because the randomly-selected training samples overlap."
   ],
   "metadata": {
    "collapsed": false
   },
   "id": "f60e8964ceeebd"
  },
  {
   "cell_type": "code",
   "execution_count": 22,
   "outputs": [
    {
     "data": {
      "text/plain": "(23.802232661034168, 1.4218450941091891)"
     },
     "execution_count": 22,
     "metadata": {},
     "output_type": "execute_result"
    }
   ],
   "source": [
    "validation = ShuffleSplit(n_splits=10, test_size=196,\n",
    "random_state=0) \n",
    "results = cross_validate(hp_model,\n",
    "Auto.drop(['mpg'], axis=1), Auto['mpg'],\n",
    "cv=validation)\n",
    "results['test_score'].mean(), results['test_score'].std()"
   ],
   "metadata": {
    "collapsed": false,
    "ExecuteTime": {
     "end_time": "2023-12-03T20:03:59.385205Z",
     "start_time": "2023-12-03T20:03:59.341039Z"
    }
   },
   "id": "a9d9e1a6d693f690"
  },
  {
   "cell_type": "markdown",
   "source": [
    "#### The Bootstrap\n",
    "Boostrap can be applied in almost all situation. We will use it to estimate the accuracy of the linear regression model on the ```Auto``` data set."
   ],
   "metadata": {
    "collapsed": false
   },
   "id": "9e6e9b0c5539ae72"
  },
  {
   "cell_type": "code",
   "execution_count": 26,
   "outputs": [],
   "source": [
    "# Load the data\n",
    "Portfolio = load_data('Portfolio') \n",
    "\n",
    "# Define the function to estimate the variance of the parameter alpha\n",
    "def alpha_func(D, idx):\n",
    "    cov_ = np.cov(D[['X','Y']].loc[idx], rowvar=False) \n",
    "    return ((cov_[1,1] - cov_[0,1]) / (cov_[0,0]+cov_[1,1]-2*cov_[0,1]))\n"
   ],
   "metadata": {
    "collapsed": false,
    "ExecuteTime": {
     "end_time": "2023-12-03T20:08:09.373307Z",
     "start_time": "2023-12-03T20:08:09.364626Z"
    }
   },
   "id": "6ed17f78e2575c32"
  },
  {
   "cell_type": "code",
   "execution_count": 27,
   "outputs": [
    {
     "data": {
      "text/plain": "0.57583207459283"
     },
     "execution_count": 27,
     "metadata": {},
     "output_type": "execute_result"
    }
   ],
   "source": [
    "alpha_func(Portfolio, range(100))"
   ],
   "metadata": {
    "collapsed": false,
    "ExecuteTime": {
     "end_time": "2023-12-03T20:08:50.332309Z",
     "start_time": "2023-12-03T20:08:50.317139Z"
    }
   },
   "id": "1922d9d8d2b7a6bf"
  },
  {
   "cell_type": "code",
   "execution_count": null,
   "outputs": [],
   "source": [],
   "metadata": {
    "collapsed": false
   },
   "id": "a1e8511faa65ea2d"
  },
  {
   "cell_type": "code",
   "execution_count": 29,
   "outputs": [
    {
     "data": {
      "text/plain": "0.6074452469619004"
     },
     "execution_count": 29,
     "metadata": {},
     "output_type": "execute_result"
    }
   ],
   "source": [
    "rng = np.random.default_rng(0)\n",
    "alpha_func(Portfolio, rng.choice(100, 100, replace=True))"
   ],
   "metadata": {
    "collapsed": false,
    "ExecuteTime": {
     "end_time": "2023-12-03T20:10:25.230281Z",
     "start_time": "2023-12-03T20:10:25.221047Z"
    }
   },
   "id": "c30770434111e29c"
  },
  {
   "cell_type": "markdown",
   "source": [
    "Now, we can create a generalized simple function ```boot_SE()``` to compute the standard error for arbitrary functions."
   ],
   "metadata": {
    "collapsed": false
   },
   "id": "f5db26ffbbd46177"
  },
  {
   "cell_type": "code",
   "execution_count": 36,
   "outputs": [],
   "source": [
    "def boot_SE(func, D, n=None, B=1000, seed=0):\n",
    "    rng = np.random.default_rng(seed) \n",
    "    first_ , second_ = 0, 0 \n",
    "    n = n or D.shape[0]\n",
    "    for _ in range(B):\n",
    "        idx = rng.choice(D.index, n,replace=True) \n",
    "        value = func(D, idx)\n",
    "        first_ += value\n",
    "        second_ += value**2\n",
    "    return np.sqrt(second_ / B - (first_ / B)**2)"
   ],
   "metadata": {
    "collapsed": false,
    "ExecuteTime": {
     "end_time": "2023-12-03T20:12:05.989156Z",
     "start_time": "2023-12-03T20:12:05.980939Z"
    }
   },
   "id": "ad40a110c091bf0e"
  },
  {
   "cell_type": "code",
   "execution_count": 35,
   "outputs": [
    {
     "data": {
      "text/plain": "0.09118176521277699"
     },
     "execution_count": 35,
     "metadata": {},
     "output_type": "execute_result"
    }
   ],
   "source": [
    "alpha_SE = boot_SE(alpha_func, Portfolio , B=1000, seed=0)\n",
    "alpha_SE"
   ],
   "metadata": {
    "collapsed": false,
    "ExecuteTime": {
     "end_time": "2023-12-03T20:11:16.827653Z",
     "start_time": "2023-12-03T20:11:16.539939Z"
    }
   },
   "id": "94bdbd4347e92bb3"
  },
  {
   "cell_type": "markdown",
   "source": [
    "Thus, the boostrap estimate for ```SE(a)``` is 0.0912."
   ],
   "metadata": {
    "collapsed": false
   },
   "id": "8bf33b6d14dcb7c4"
  },
  {
   "cell_type": "markdown",
   "source": [
    "##### Estimate the Accuracy of a Linear Model\n",
    "\n",
    "We will create a boostrap function. "
   ],
   "metadata": {
    "collapsed": false
   },
   "id": "dad50df33a85c064"
  },
  {
   "cell_type": "code",
   "execution_count": 38,
   "outputs": [],
   "source": [
    "def boot_OLS(model_matrix, response, D, idx):\n",
    "    D_ = D.loc[idx]\n",
    "    Y_ = D_[response]\n",
    "    X_ = clone(model_matrix).fit_transform(D_) \n",
    "    return sm.OLS(Y_, X_).fit().params"
   ],
   "metadata": {
    "collapsed": false,
    "ExecuteTime": {
     "end_time": "2023-12-03T20:14:15.686200Z",
     "start_time": "2023-12-03T20:14:15.680964Z"
    }
   },
   "id": "440b45e449010c72"
  },
  {
   "cell_type": "code",
   "execution_count": 38,
   "outputs": [],
   "source": [],
   "metadata": {
    "collapsed": false,
    "ExecuteTime": {
     "end_time": "2023-12-03T20:14:21.353052Z",
     "start_time": "2023-12-03T20:14:21.327886Z"
    }
   },
   "id": "59524eb8ed1a8312"
  },
  {
   "cell_type": "code",
   "execution_count": 39,
   "outputs": [],
   "source": [
    "hp_func = partial(boot_OLS, MS(['horsepower']), 'mpg')"
   ],
   "metadata": {
    "collapsed": false,
    "ExecuteTime": {
     "end_time": "2023-12-03T20:14:22.439766Z",
     "start_time": "2023-12-03T20:14:22.414330Z"
    }
   },
   "id": "26365ac9979983b2"
  },
  {
   "cell_type": "code",
   "execution_count": 39,
   "outputs": [],
   "source": [],
   "metadata": {
    "collapsed": false,
    "ExecuteTime": {
     "end_time": "2023-12-03T20:14:29.410038Z",
     "start_time": "2023-12-03T20:14:29.372640Z"
    }
   },
   "id": "b28872a526d7affe"
  },
  {
   "cell_type": "code",
   "execution_count": 40,
   "outputs": [
    {
     "data": {
      "text/plain": "array([[39.88064456, -0.1567849 ],\n       [38.73298691, -0.14699495],\n       [38.31734657, -0.14442683],\n       [39.91446826, -0.15782234],\n       [39.43349349, -0.15072702],\n       [40.36629857, -0.15912217],\n       [39.62334517, -0.15449117],\n       [39.0580588 , -0.14952908],\n       [38.66688437, -0.14521037],\n       [39.64280792, -0.15555698]])"
     },
     "execution_count": 40,
     "metadata": {},
     "output_type": "execute_result"
    }
   ],
   "source": [
    "rng = np.random.default_rng(0)\n",
    "np.array([hp_func(Auto,\n",
    "rng.choice(392, 392,\n",
    "replace=True)) for _ in range(10)])"
   ],
   "metadata": {
    "collapsed": false,
    "ExecuteTime": {
     "end_time": "2023-12-03T20:14:41.720015Z",
     "start_time": "2023-12-03T20:14:41.689860Z"
    }
   },
   "id": "39a3bc257e88f9aa"
  },
  {
   "cell_type": "code",
   "execution_count": 41,
   "outputs": [
    {
     "data": {
      "text/plain": "intercept     0.848807\nhorsepower    0.007352\ndtype: float64"
     },
     "execution_count": 41,
     "metadata": {},
     "output_type": "execute_result"
    }
   ],
   "source": [
    "hp_se = boot_SE(hp_func, Auto , B=1000, seed =10)\n",
    "hp_se"
   ],
   "metadata": {
    "collapsed": false,
    "ExecuteTime": {
     "end_time": "2023-12-03T20:15:15.491158Z",
     "start_time": "2023-12-03T20:15:13.220247Z"
    }
   },
   "id": "51b4d9dabeeb1204"
  },
  {
   "cell_type": "markdown",
   "source": [
    "This shows that the boostrap estimate for the SE of B_0 is approximately 0.85 and the SE for B_1 (horsepower) is approximately 0.00753."
   ],
   "metadata": {
    "collapsed": false
   },
   "id": "7a72e75b02e88eee"
  },
  {
   "cell_type": "code",
   "execution_count": 42,
   "outputs": [
    {
     "data": {
      "text/plain": "intercept     0.717\nhorsepower    0.006\nName: std err, dtype: float64"
     },
     "execution_count": 42,
     "metadata": {},
     "output_type": "execute_result"
    }
   ],
   "source": [
    "hp_model.fit(Auto, Auto['mpg'])\n",
    "model_se = summarize(hp_model.results_)['std err']\n",
    "model_se"
   ],
   "metadata": {
    "collapsed": false,
    "ExecuteTime": {
     "end_time": "2023-12-03T20:16:34.596742Z",
     "start_time": "2023-12-03T20:16:34.481063Z"
    }
   },
   "id": "492f4a6b16f45e5c"
  },
  {
   "cell_type": "markdown",
   "source": [
    "While we see that the estimates for the SE of the coefficients are different, it turns out the estimates from our bootstrapped models are more accurate. This is because the bootstrap does not rely on any assumptions such as assuming that all x_i are fixed. "
   ],
   "metadata": {
    "collapsed": false
   },
   "id": "1e2729a8b7fbd4d9"
  },
  {
   "cell_type": "code",
   "execution_count": 43,
   "outputs": [
    {
     "data": {
      "text/plain": "intercept                                  2.067840\npoly(horsepower, degree=2, raw=True)[0]    0.033019\npoly(horsepower, degree=2, raw=True)[1]    0.000120\ndtype: float64"
     },
     "execution_count": 43,
     "metadata": {},
     "output_type": "execute_result"
    }
   ],
   "source": [
    "quad_model = MS([poly('horsepower', 2, raw=True)]) \n",
    "quad_func = partial(boot_OLS, quad_model ,\n",
    "'mpg') \n",
    "boot_SE(quad_func, Auto, B=1000)"
   ],
   "metadata": {
    "collapsed": false,
    "ExecuteTime": {
     "end_time": "2023-12-03T20:19:26.312735Z",
     "start_time": "2023-12-03T20:19:23.285750Z"
    }
   },
   "id": "b38d71771dac153"
  },
  {
   "cell_type": "code",
   "execution_count": 45,
   "outputs": [
    {
     "data": {
      "text/plain": "intercept                                  1.800\npoly(horsepower, degree=2, raw=True)[0]    0.031\npoly(horsepower, degree=2, raw=True)[1]    0.000\nName: std err, dtype: float64"
     },
     "execution_count": 45,
     "metadata": {},
     "output_type": "execute_result"
    }
   ],
   "source": [
    "M = sm.OLS(Auto['mpg'], quad_model.fit_transform(Auto))\n",
    "summarize(M.fit())['std err']"
   ],
   "metadata": {
    "collapsed": false,
    "ExecuteTime": {
     "end_time": "2023-12-03T20:20:20.877253Z",
     "start_time": "2023-12-03T20:20:20.867015Z"
    }
   },
   "id": "332b1e3a17795432"
  },
  {
   "cell_type": "code",
   "execution_count": null,
   "outputs": [],
   "source": [],
   "metadata": {
    "collapsed": false
   },
   "id": "ece0431b2fee0815"
  }
 ],
 "metadata": {
  "kernelspec": {
   "display_name": "Python 3 (ipykernel)",
   "language": "python",
   "name": "python3"
  },
  "language_info": {
   "codemirror_mode": {
    "name": "ipython",
    "version": 3
   },
   "file_extension": ".py",
   "mimetype": "text/x-python",
   "name": "python",
   "nbconvert_exporter": "python",
   "pygments_lexer": "ipython3",
   "version": "3.11.4"
  }
 },
 "nbformat": 4,
 "nbformat_minor": 5
}
